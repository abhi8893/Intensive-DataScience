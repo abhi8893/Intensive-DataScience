{
 "cells": [
  {
   "cell_type": "markdown",
   "metadata": {},
   "source": [
    "# Multiple Linear Regression: Boston House Prediction"
   ]
  },
  {
   "cell_type": "markdown",
   "metadata": {},
   "source": [
    "* CRIM per capita crime rate by town\n",
    "* ZN proportion of residential land zoned for lots over 25,000 sq.ft.\n",
    "* INDUS proportion of non-retail business acres per town\n",
    "* CHAS Charles River dummy variable (= 1 if tract bounds river; 0 otherwise)\n",
    "* NOX nitric oxides concentration (parts per 10 million)\n",
    "* RM average number of rooms per dwelling\n",
    "* AGE proportion of owner-occupied units built prior to 1940\n",
    "* DIS weighted distances to five Boston employment centres\n",
    "* RAD index of accessibility to radial highways\n",
    "* TAX full-value property-tax rate per 10,000usd\n",
    "* PTRATIO pupil-teacher ratio by town\n",
    "* B 1000(Bk - 0.63)^2 where Bk is the proportion of blacks by town\n",
    "* LSTAT % lower status of the population"
   ]
  },
  {
   "cell_type": "code",
   "execution_count": 3,
   "metadata": {
    "ExecuteTime": {
     "end_time": "2020-03-05T17:13:35.782029Z",
     "start_time": "2020-03-05T17:13:35.772453Z"
    }
   },
   "outputs": [],
   "source": [
    "import pandas as pd\n",
    "import numpy as np\n",
    "import matplotlib.pyplot as plt\n",
    "from scipy.stats import f as fdist\n",
    "from scipy.stats import t as tdist\n",
    "from scipy.stats import chi2 as chisq"
   ]
  },
  {
   "cell_type": "code",
   "execution_count": 4,
   "metadata": {
    "ExecuteTime": {
     "end_time": "2020-03-05T17:13:36.034067Z",
     "start_time": "2020-03-05T17:13:36.022992Z"
    }
   },
   "outputs": [],
   "source": [
    "names = ['CRIM', 'ZN', 'INDUS', 'CHAS', 'NOX', 'RM', 'AGE', \n",
    "         'DIS', 'RAD', 'TAX', 'PTRATIO','B', 'LSTAT', 'MEDV']\n",
    "df = pd.read_csv('data/housing.data', header=None, delim_whitespace=True, names=names)"
   ]
  },
  {
   "cell_type": "code",
   "execution_count": 5,
   "metadata": {
    "ExecuteTime": {
     "end_time": "2020-03-05T17:13:36.615839Z",
     "start_time": "2020-03-05T17:13:36.579496Z"
    }
   },
   "outputs": [],
   "source": [
    "df = df.select_dtypes(float)"
   ]
  },
  {
   "cell_type": "code",
   "execution_count": 6,
   "metadata": {
    "ExecuteTime": {
     "end_time": "2020-03-05T17:13:37.024880Z",
     "start_time": "2020-03-05T17:13:36.988448Z"
    }
   },
   "outputs": [
    {
     "data": {
      "text/html": [
       "<div>\n",
       "<style scoped>\n",
       "    .dataframe tbody tr th:only-of-type {\n",
       "        vertical-align: middle;\n",
       "    }\n",
       "\n",
       "    .dataframe tbody tr th {\n",
       "        vertical-align: top;\n",
       "    }\n",
       "\n",
       "    .dataframe thead th {\n",
       "        text-align: right;\n",
       "    }\n",
       "</style>\n",
       "<table border=\"1\" class=\"dataframe\">\n",
       "  <thead>\n",
       "    <tr style=\"text-align: right;\">\n",
       "      <th></th>\n",
       "      <th>CRIM</th>\n",
       "      <th>ZN</th>\n",
       "      <th>INDUS</th>\n",
       "      <th>NOX</th>\n",
       "      <th>RM</th>\n",
       "      <th>AGE</th>\n",
       "      <th>DIS</th>\n",
       "      <th>TAX</th>\n",
       "      <th>PTRATIO</th>\n",
       "      <th>B</th>\n",
       "      <th>LSTAT</th>\n",
       "      <th>MEDV</th>\n",
       "    </tr>\n",
       "  </thead>\n",
       "  <tbody>\n",
       "    <tr>\n",
       "      <td>0</td>\n",
       "      <td>0.00632</td>\n",
       "      <td>18.0</td>\n",
       "      <td>2.31</td>\n",
       "      <td>0.538</td>\n",
       "      <td>6.575</td>\n",
       "      <td>65.2</td>\n",
       "      <td>4.0900</td>\n",
       "      <td>296.0</td>\n",
       "      <td>15.3</td>\n",
       "      <td>396.90</td>\n",
       "      <td>4.98</td>\n",
       "      <td>24.0</td>\n",
       "    </tr>\n",
       "    <tr>\n",
       "      <td>1</td>\n",
       "      <td>0.02731</td>\n",
       "      <td>0.0</td>\n",
       "      <td>7.07</td>\n",
       "      <td>0.469</td>\n",
       "      <td>6.421</td>\n",
       "      <td>78.9</td>\n",
       "      <td>4.9671</td>\n",
       "      <td>242.0</td>\n",
       "      <td>17.8</td>\n",
       "      <td>396.90</td>\n",
       "      <td>9.14</td>\n",
       "      <td>21.6</td>\n",
       "    </tr>\n",
       "    <tr>\n",
       "      <td>2</td>\n",
       "      <td>0.02729</td>\n",
       "      <td>0.0</td>\n",
       "      <td>7.07</td>\n",
       "      <td>0.469</td>\n",
       "      <td>7.185</td>\n",
       "      <td>61.1</td>\n",
       "      <td>4.9671</td>\n",
       "      <td>242.0</td>\n",
       "      <td>17.8</td>\n",
       "      <td>392.83</td>\n",
       "      <td>4.03</td>\n",
       "      <td>34.7</td>\n",
       "    </tr>\n",
       "    <tr>\n",
       "      <td>3</td>\n",
       "      <td>0.03237</td>\n",
       "      <td>0.0</td>\n",
       "      <td>2.18</td>\n",
       "      <td>0.458</td>\n",
       "      <td>6.998</td>\n",
       "      <td>45.8</td>\n",
       "      <td>6.0622</td>\n",
       "      <td>222.0</td>\n",
       "      <td>18.7</td>\n",
       "      <td>394.63</td>\n",
       "      <td>2.94</td>\n",
       "      <td>33.4</td>\n",
       "    </tr>\n",
       "    <tr>\n",
       "      <td>4</td>\n",
       "      <td>0.06905</td>\n",
       "      <td>0.0</td>\n",
       "      <td>2.18</td>\n",
       "      <td>0.458</td>\n",
       "      <td>7.147</td>\n",
       "      <td>54.2</td>\n",
       "      <td>6.0622</td>\n",
       "      <td>222.0</td>\n",
       "      <td>18.7</td>\n",
       "      <td>396.90</td>\n",
       "      <td>5.33</td>\n",
       "      <td>36.2</td>\n",
       "    </tr>\n",
       "  </tbody>\n",
       "</table>\n",
       "</div>"
      ],
      "text/plain": [
       "      CRIM    ZN  INDUS    NOX     RM   AGE     DIS    TAX  PTRATIO       B  \\\n",
       "0  0.00632  18.0   2.31  0.538  6.575  65.2  4.0900  296.0     15.3  396.90   \n",
       "1  0.02731   0.0   7.07  0.469  6.421  78.9  4.9671  242.0     17.8  396.90   \n",
       "2  0.02729   0.0   7.07  0.469  7.185  61.1  4.9671  242.0     17.8  392.83   \n",
       "3  0.03237   0.0   2.18  0.458  6.998  45.8  6.0622  222.0     18.7  394.63   \n",
       "4  0.06905   0.0   2.18  0.458  7.147  54.2  6.0622  222.0     18.7  396.90   \n",
       "\n",
       "   LSTAT  MEDV  \n",
       "0   4.98  24.0  \n",
       "1   9.14  21.6  \n",
       "2   4.03  34.7  \n",
       "3   2.94  33.4  \n",
       "4   5.33  36.2  "
      ]
     },
     "execution_count": 6,
     "metadata": {},
     "output_type": "execute_result"
    }
   ],
   "source": [
    "df.head()"
   ]
  },
  {
   "cell_type": "code",
   "execution_count": 7,
   "metadata": {
    "ExecuteTime": {
     "end_time": "2020-03-05T17:13:37.366428Z",
     "start_time": "2020-03-05T17:13:37.356243Z"
    }
   },
   "outputs": [],
   "source": [
    "corr = abs(df.corr()['MEDV']).sort_values(ascending=False)\n",
    "clmns = corr[1:3].index"
   ]
  },
  {
   "cell_type": "code",
   "execution_count": 8,
   "metadata": {
    "ExecuteTime": {
     "end_time": "2020-03-05T17:13:37.878427Z",
     "start_time": "2020-03-05T17:13:37.866035Z"
    }
   },
   "outputs": [
    {
     "data": {
      "text/html": [
       "<div>\n",
       "<style scoped>\n",
       "    .dataframe tbody tr th:only-of-type {\n",
       "        vertical-align: middle;\n",
       "    }\n",
       "\n",
       "    .dataframe tbody tr th {\n",
       "        vertical-align: top;\n",
       "    }\n",
       "\n",
       "    .dataframe thead th {\n",
       "        text-align: right;\n",
       "    }\n",
       "</style>\n",
       "<table border=\"1\" class=\"dataframe\">\n",
       "  <thead>\n",
       "    <tr style=\"text-align: right;\">\n",
       "      <th></th>\n",
       "      <th>LSTAT</th>\n",
       "      <th>RM</th>\n",
       "      <th>MEDV</th>\n",
       "    </tr>\n",
       "  </thead>\n",
       "  <tbody>\n",
       "    <tr>\n",
       "      <td>0</td>\n",
       "      <td>4.98</td>\n",
       "      <td>6.575</td>\n",
       "      <td>24.0</td>\n",
       "    </tr>\n",
       "    <tr>\n",
       "      <td>1</td>\n",
       "      <td>9.14</td>\n",
       "      <td>6.421</td>\n",
       "      <td>21.6</td>\n",
       "    </tr>\n",
       "    <tr>\n",
       "      <td>2</td>\n",
       "      <td>4.03</td>\n",
       "      <td>7.185</td>\n",
       "      <td>34.7</td>\n",
       "    </tr>\n",
       "    <tr>\n",
       "      <td>3</td>\n",
       "      <td>2.94</td>\n",
       "      <td>6.998</td>\n",
       "      <td>33.4</td>\n",
       "    </tr>\n",
       "    <tr>\n",
       "      <td>4</td>\n",
       "      <td>5.33</td>\n",
       "      <td>7.147</td>\n",
       "      <td>36.2</td>\n",
       "    </tr>\n",
       "  </tbody>\n",
       "</table>\n",
       "</div>"
      ],
      "text/plain": [
       "   LSTAT     RM  MEDV\n",
       "0   4.98  6.575  24.0\n",
       "1   9.14  6.421  21.6\n",
       "2   4.03  7.185  34.7\n",
       "3   2.94  6.998  33.4\n",
       "4   5.33  7.147  36.2"
      ]
     },
     "execution_count": 8,
     "metadata": {},
     "output_type": "execute_result"
    }
   ],
   "source": [
    "df = df.loc[:, list(clmns) + ['MEDV']]\n",
    "df.head()"
   ]
  },
  {
   "cell_type": "markdown",
   "metadata": {},
   "source": [
    "## Create the regressor X matrix and regressand y matrix"
   ]
  },
  {
   "cell_type": "markdown",
   "metadata": {},
   "source": [
    "$ y = \\beta_{1} + \\beta_{2}X_{2} + \\beta_{3}X_3 + u_{i} $ <br/>"
   ]
  },
  {
   "cell_type": "code",
   "execution_count": 9,
   "metadata": {
    "ExecuteTime": {
     "end_time": "2020-03-05T17:13:39.668971Z",
     "start_time": "2020-03-05T17:13:39.655135Z"
    }
   },
   "outputs": [],
   "source": [
    "X = df.iloc[:, 0:2].values\n",
    "X = np.hstack((np.ones((X.shape[0], 1)), X))\n",
    "\n",
    "y = df.iloc[:, -1].values.reshape(-1, 1)"
   ]
  },
  {
   "cell_type": "code",
   "execution_count": 10,
   "metadata": {
    "ExecuteTime": {
     "end_time": "2020-03-05T17:13:40.028846Z",
     "start_time": "2020-03-05T17:13:40.014850Z"
    }
   },
   "outputs": [
    {
     "data": {
      "text/plain": [
       "array([[1.   , 4.98 , 6.575],\n",
       "       [1.   , 9.14 , 6.421],\n",
       "       [1.   , 4.03 , 7.185],\n",
       "       ...,\n",
       "       [1.   , 5.64 , 6.976],\n",
       "       [1.   , 6.48 , 6.794],\n",
       "       [1.   , 7.88 , 6.03 ]])"
      ]
     },
     "execution_count": 10,
     "metadata": {},
     "output_type": "execute_result"
    }
   ],
   "source": [
    "X"
   ]
  },
  {
   "cell_type": "code",
   "execution_count": 11,
   "metadata": {
    "ExecuteTime": {
     "end_time": "2020-03-05T17:13:40.495464Z",
     "start_time": "2020-03-05T17:13:40.481126Z"
    }
   },
   "outputs": [
    {
     "data": {
      "text/plain": [
       "((506, 3), (506, 1))"
      ]
     },
     "execution_count": 11,
     "metadata": {},
     "output_type": "execute_result"
    }
   ],
   "source": [
    "X.shape, y.shape"
   ]
  },
  {
   "cell_type": "code",
   "execution_count": 12,
   "metadata": {
    "ExecuteTime": {
     "end_time": "2020-03-05T17:13:40.980723Z",
     "start_time": "2020-03-05T17:13:40.959068Z"
    }
   },
   "outputs": [],
   "source": [
    "n, k = X.shape\n"
   ]
  },
  {
   "cell_type": "markdown",
   "metadata": {},
   "source": [
    "## Find the estimate of Beta"
   ]
  },
  {
   "cell_type": "code",
   "execution_count": 13,
   "metadata": {
    "ExecuteTime": {
     "end_time": "2020-03-05T17:13:41.795184Z",
     "start_time": "2020-03-05T17:13:41.788082Z"
    }
   },
   "outputs": [],
   "source": [
    "import numpy as np\n",
    "from numpy.linalg import inv"
   ]
  },
  {
   "cell_type": "code",
   "execution_count": 14,
   "metadata": {
    "ExecuteTime": {
     "end_time": "2020-03-05T17:13:42.039045Z",
     "start_time": "2020-03-05T17:13:42.015211Z"
    }
   },
   "outputs": [],
   "source": [
    "A = inv(X.T@X)"
   ]
  },
  {
   "cell_type": "code",
   "execution_count": 15,
   "metadata": {
    "ExecuteTime": {
     "end_time": "2020-03-05T17:13:42.281846Z",
     "start_time": "2020-03-05T17:13:42.273368Z"
    }
   },
   "outputs": [
    {
     "data": {
      "text/plain": [
       "array([[-1.35827281],\n",
       "       [-0.64235833],\n",
       "       [ 5.09478798]])"
      ]
     },
     "execution_count": 15,
     "metadata": {},
     "output_type": "execute_result"
    }
   ],
   "source": [
    "beta_hat = A@X.T@y\n",
    "beta_hat"
   ]
  },
  {
   "cell_type": "markdown",
   "metadata": {},
   "source": [
    "## Obtain the estimate of y (predicted y)"
   ]
  },
  {
   "cell_type": "code",
   "execution_count": 16,
   "metadata": {
    "ExecuteTime": {
     "end_time": "2020-03-05T17:13:42.929479Z",
     "start_time": "2020-03-05T17:13:42.914058Z"
    }
   },
   "outputs": [],
   "source": [
    "y_hat = X@beta_hat"
   ]
  },
  {
   "cell_type": "markdown",
   "metadata": {},
   "source": [
    "## Compute the residual sum of squares"
   ]
  },
  {
   "cell_type": "code",
   "execution_count": 17,
   "metadata": {
    "ExecuteTime": {
     "end_time": "2020-03-05T17:13:43.429307Z",
     "start_time": "2020-03-05T17:13:43.421376Z"
    }
   },
   "outputs": [],
   "source": [
    "u_hat = y - y_hat\n",
    "rss = (u_hat.T@ u_hat).ravel()[0]"
   ]
  },
  {
   "cell_type": "markdown",
   "metadata": {},
   "source": [
    "## Obtain the variance of beta_hat"
   ]
  },
  {
   "cell_type": "code",
   "execution_count": 18,
   "metadata": {
    "ExecuteTime": {
     "end_time": "2020-03-05T17:13:44.092303Z",
     "start_time": "2020-03-05T17:13:44.082619Z"
    }
   },
   "outputs": [],
   "source": [
    "beta_hat_var = (rss/(n-k))*(A)"
   ]
  },
  {
   "cell_type": "code",
   "execution_count": 19,
   "metadata": {
    "ExecuteTime": {
     "end_time": "2020-03-05T17:13:44.498169Z",
     "start_time": "2020-03-05T17:13:44.485951Z"
    }
   },
   "outputs": [
    {
     "data": {
      "text/plain": [
       "array([[ 1.00668361e+01, -9.91781334e-02, -1.39248641e+00],\n",
       "       [-9.91781334e-02,  1.91244101e-03,  1.19306696e-02],\n",
       "       [-1.39248641e+00,  1.19306696e-02,  1.97549581e-01]])"
      ]
     },
     "execution_count": 19,
     "metadata": {},
     "output_type": "execute_result"
    }
   ],
   "source": [
    "beta_hat_var"
   ]
  },
  {
   "cell_type": "markdown",
   "metadata": {},
   "source": [
    "## Create the regression table"
   ]
  },
  {
   "cell_type": "code",
   "execution_count": null,
   "metadata": {},
   "outputs": [],
   "source": []
  },
  {
   "cell_type": "markdown",
   "metadata": {},
   "source": [
    "## Create the table for hypothesis testing"
   ]
  },
  {
   "cell_type": "code",
   "execution_count": 20,
   "metadata": {
    "ExecuteTime": {
     "end_time": "2020-03-05T17:13:46.127116Z",
     "start_time": "2020-03-05T17:13:46.119618Z"
    }
   },
   "outputs": [],
   "source": [
    "from scipy.stats import t as tdist"
   ]
  },
  {
   "cell_type": "code",
   "execution_count": 21,
   "metadata": {
    "ExecuteTime": {
     "end_time": "2020-03-05T17:13:46.425604Z",
     "start_time": "2020-03-05T17:13:46.417459Z"
    }
   },
   "outputs": [],
   "source": [
    "beta_hat_stderr = np.diag(beta_hat_var)**(1/2)"
   ]
  },
  {
   "cell_type": "code",
   "execution_count": 22,
   "metadata": {
    "ExecuteTime": {
     "end_time": "2020-03-05T17:13:46.645702Z",
     "start_time": "2020-03-05T17:13:46.631494Z"
    }
   },
   "outputs": [
    {
     "data": {
      "text/plain": [
       "array([-1.35827281, -0.64235833,  5.09478798])"
      ]
     },
     "execution_count": 22,
     "metadata": {},
     "output_type": "execute_result"
    }
   ],
   "source": [
    "beta_hat.flatten()"
   ]
  },
  {
   "cell_type": "code",
   "execution_count": 23,
   "metadata": {
    "ExecuteTime": {
     "end_time": "2020-03-05T17:13:46.879770Z",
     "start_time": "2020-03-05T17:13:46.866069Z"
    }
   },
   "outputs": [
    {
     "data": {
      "text/plain": [
       "[array([-1.35827281, -0.64235833,  5.09478798]),\n",
       " array([3.17282778, 0.04373146, 0.4444655 ])]"
      ]
     },
     "execution_count": 23,
     "metadata": {},
     "output_type": "execute_result"
    }
   ],
   "source": [
    "[beta_hat.flatten(), beta_hat_stderr]"
   ]
  },
  {
   "cell_type": "code",
   "execution_count": 24,
   "metadata": {
    "ExecuteTime": {
     "end_time": "2020-03-05T17:13:47.124656Z",
     "start_time": "2020-03-05T17:13:47.109968Z"
    }
   },
   "outputs": [],
   "source": [
    "df_hyp = pd.DataFrame({'Estimate': beta_hat.flatten(),\n",
    "                       'Standard_error': beta_hat_stderr})\n",
    "\n",
    "df_hyp['t_statistic'] = df_hyp['Estimate']/df_hyp['Standard_error']"
   ]
  },
  {
   "cell_type": "code",
   "execution_count": 25,
   "metadata": {
    "ExecuteTime": {
     "end_time": "2020-03-05T17:13:47.340108Z",
     "start_time": "2020-03-05T17:13:47.328146Z"
    }
   },
   "outputs": [],
   "source": [
    "df_hyp['pval'] = tdist.cdf(-abs(df_hyp.t_statistic), n-k)*2"
   ]
  },
  {
   "cell_type": "code",
   "execution_count": 26,
   "metadata": {
    "ExecuteTime": {
     "end_time": "2020-03-05T17:13:47.704327Z",
     "start_time": "2020-03-05T17:13:47.691461Z"
    }
   },
   "outputs": [
    {
     "data": {
      "text/plain": [
       "1.9646914053628335"
      ]
     },
     "execution_count": 26,
     "metadata": {},
     "output_type": "execute_result"
    }
   ],
   "source": [
    "from scipy.stats import t as tdist\n",
    "\n",
    "critical_val = abs(tdist.ppf(q=[0.025], df=n-k))[0]\n",
    "critical_val"
   ]
  },
  {
   "cell_type": "code",
   "execution_count": 27,
   "metadata": {
    "ExecuteTime": {
     "end_time": "2020-03-05T17:13:48.225992Z",
     "start_time": "2020-03-05T17:13:48.195132Z"
    }
   },
   "outputs": [
    {
     "data": {
      "text/html": [
       "<div>\n",
       "<style scoped>\n",
       "    .dataframe tbody tr th:only-of-type {\n",
       "        vertical-align: middle;\n",
       "    }\n",
       "\n",
       "    .dataframe tbody tr th {\n",
       "        vertical-align: top;\n",
       "    }\n",
       "\n",
       "    .dataframe thead th {\n",
       "        text-align: right;\n",
       "    }\n",
       "</style>\n",
       "<table border=\"1\" class=\"dataframe\">\n",
       "  <thead>\n",
       "    <tr style=\"text-align: right;\">\n",
       "      <th></th>\n",
       "      <th>Estimate</th>\n",
       "      <th>Standard_error</th>\n",
       "      <th>t_statistic</th>\n",
       "      <th>pval</th>\n",
       "      <th>significant_0.05</th>\n",
       "    </tr>\n",
       "  </thead>\n",
       "  <tbody>\n",
       "    <tr>\n",
       "      <td>0</td>\n",
       "      <td>-1.358273</td>\n",
       "      <td>3.172828</td>\n",
       "      <td>-0.428095</td>\n",
       "      <td>6.687649e-01</td>\n",
       "      <td>False</td>\n",
       "    </tr>\n",
       "    <tr>\n",
       "      <td>1</td>\n",
       "      <td>-0.642358</td>\n",
       "      <td>0.043731</td>\n",
       "      <td>-14.688699</td>\n",
       "      <td>6.669365e-41</td>\n",
       "      <td>True</td>\n",
       "    </tr>\n",
       "    <tr>\n",
       "      <td>2</td>\n",
       "      <td>5.094788</td>\n",
       "      <td>0.444466</td>\n",
       "      <td>11.462730</td>\n",
       "      <td>3.472258e-27</td>\n",
       "      <td>True</td>\n",
       "    </tr>\n",
       "  </tbody>\n",
       "</table>\n",
       "</div>"
      ],
      "text/plain": [
       "   Estimate  Standard_error  t_statistic          pval  significant_0.05\n",
       "0 -1.358273        3.172828    -0.428095  6.687649e-01             False\n",
       "1 -0.642358        0.043731   -14.688699  6.669365e-41              True\n",
       "2  5.094788        0.444466    11.462730  3.472258e-27              True"
      ]
     },
     "execution_count": 27,
     "metadata": {},
     "output_type": "execute_result"
    }
   ],
   "source": [
    "df_hyp['significant_0.05'] = (abs(df_hyp['t_statistic']) > critical_val)\n",
    "df_hyp"
   ]
  },
  {
   "cell_type": "markdown",
   "metadata": {},
   "source": [
    "## Calculate TSS, ESS and RSS"
   ]
  },
  {
   "cell_type": "code",
   "execution_count": 28,
   "metadata": {
    "ExecuteTime": {
     "end_time": "2020-03-05T17:13:48.763351Z",
     "start_time": "2020-03-05T17:13:48.753395Z"
    }
   },
   "outputs": [],
   "source": [
    "tss = y.var()*y.size\n",
    "ess = tss - rss"
   ]
  },
  {
   "cell_type": "code",
   "execution_count": 29,
   "metadata": {
    "ExecuteTime": {
     "end_time": "2020-03-05T17:13:49.012241Z",
     "start_time": "2020-03-05T17:13:48.986848Z"
    }
   },
   "outputs": [
    {
     "name": "stdout",
     "output_type": "stream",
     "text": [
      "R squared: 0.6386\n",
      "R squared (Adjusted): 0.6371\n"
     ]
    }
   ],
   "source": [
    "R_sq = (ess/tss)\n",
    "R_sq_adj = (1 - (rss/(n-k))/(tss/(n-1)))\n",
    "\n",
    "print('R squared: {:.4f}'.format(R_sq))\n",
    "print('R squared (Adjusted): {:.4f}'.format(R_sq_adj))"
   ]
  },
  {
   "cell_type": "markdown",
   "metadata": {},
   "source": [
    "# "
   ]
  },
  {
   "cell_type": "markdown",
   "metadata": {},
   "source": [
    "## Make the LinearRegression Model"
   ]
  },
  {
   "cell_type": "code",
   "execution_count": 30,
   "metadata": {
    "ExecuteTime": {
     "end_time": "2020-03-05T17:13:57.205677Z",
     "start_time": "2020-03-05T17:13:57.032041Z"
    }
   },
   "outputs": [],
   "source": [
    "from sklearn.base import BaseEstimator, ClassifierMixin"
   ]
  },
  {
   "cell_type": "code",
<<<<<<< HEAD
   "execution_count": 473,
   "metadata": {
    "ExecuteTime": {
     "end_time": "2020-03-05T20:32:22.115504Z",
     "start_time": "2020-03-05T20:32:22.059531Z"
=======
   "execution_count": 304,
   "metadata": {
    "ExecuteTime": {
     "end_time": "2020-03-05T20:11:56.865765Z",
     "start_time": "2020-03-05T20:11:56.816116Z"
>>>>>>> 205f22e802ac2848df84ab6fa4ab50815a6042fc
    }
   },
   "outputs": [],
   "source": [
    "class LinearReg(BaseEstimator, ClassifierMixin):\n",
    "    \n",
    "    def __init__(self, fit_intercept=True):\n",
    "        self.fit_intercept = fit_intercept\n",
    "    \n",
    "    @staticmethod\n",
    "    def _remake_X(X):\n",
    "        if not np.all(X == 0):\n",
    "            return np.hstack((np.ones((X.shape[0], 1)), X))\n",
    "        else:\n",
    "            return np.ones((X.shape[0], 1))\n",
    "\n",
    "    @staticmethod\n",
    "    def _remake_y(y):\n",
    "        return y.reshape(-1, 1) # Check before reshaping?\n",
    "\n",
    "    \n",
    "    def fit(self, X, y):\n",
    "        \n",
    "        # Make proper X and y matrix\n",
    "        if self.fit_intercept:\n",
    "            if X is not None:\n",
    "                X = self._remake_X(X)\n",
    "            else:\n",
    "                X = np.ones((y.shape[0], 1))\n",
    "            \n",
    "        y = self._remake_y(y)\n",
    "        \n",
    "        # Store n and k\n",
    "        n, k = X.shape\n",
    "        \n",
    "        # Obtain estimate of beta =  beta_hat\n",
    "        try:\n",
    "            A = inv(X.T@X)\n",
    "        except np.linalg.LinAlgError:\n",
    "            A = np.zeros([X.shape[1]]*2)\n",
    "            \n",
    "        beta_hat = A@X.T@y\n",
    "        \n",
    "        # Obtain estimate of y = y_hat\n",
    "        y_hat = X@beta_hat\n",
    "        \n",
    "        # Compute residual sum of squares\n",
    "        u_hat = y - y_hat\n",
    "        rss = (u_hat.T @ u_hat).ravel()[0]\n",
    "        \n",
    "        # Estimate the variance of the error terms\n",
    "        u_var_hat = rss/n-k\n",
    "        \n",
    "        # Estimate the variance of beta_hat\n",
    "        beta_hat_var = u_var_hat*A\n",
    "        \n",
    "        # Calculate tss, ess and rss\n",
    "        tss = y.var()*n\n",
    "        ess = tss - rss\n",
    "        \n",
    "        # Calculate R-squared and Adjusted R-squared\n",
    "        rsq = ess/tss\n",
    "        rsq_adj = 1 - (rss/(n-k))/(tss/(n-1))\n",
    "        \n",
    "        # Estimated Variance of y_hat\n",
<<<<<<< HEAD
    "        y_hat_var = self._calc_y_hat_var(beta_hat_var, X)\n",
=======
    "        y_hat_var = np.array([X[i, :]@beta_hat_var@X[i, :].T for i in range(X.shape[0])]).reshape(-1, 1)\n",
>>>>>>> 205f22e802ac2848df84ab6fa4ab50815a6042fc
    "        \n",
    "        # Estimated Variance of u_hat\n",
    "        u_hat_var = y_hat_var + u_var_hat\n",
    "        \n",
    "        # Perform F-test for overall significance\n",
    "        if k != 1:\n",
    "            dfn, dfd = k-1, n-k\n",
    "            self.fstat = (ess/(dfn))/(rss/(dfd))\n",
    "            self.ftest_pval =  1 - fdist.cdf(self.fstat, dfn, dfd)\n",
    "\n",
    "        # store\n",
    "        self.n = n\n",
    "        self.k = k\n",
    "        self.beta_hat = beta_hat\n",
    "        self.rss = rss\n",
    "        self.ess = ess\n",
    "        self.tss = tss\n",
    "        self.beta_hat_var = beta_hat_var\n",
    "        self.u_hat = u_hat\n",
    "        self.u_var_hat = u_var_hat\n",
    "        self.rsq = rsq\n",
    "        self.rsq_adj = rsq_adj\n",
    "        self.aic = rss/n + 2*k/n\n",
    "        self.bic = rss/n + 2*k*np.log(n)/n\n",
    "        self.y_hat_var = y_hat_var\n",
    "        self.u_hat_var = u_hat_var\n",
    "\n",
    "        return self\n",
    "    \n",
    "    \n",
    "    \n",
    "        \n",
    "    def predict(self, X):\n",
    "        if self.fit_intercept:\n",
    "            X = self._remake_X(X)\n",
    "            \n",
<<<<<<< HEAD
    "        return (X@self.beta_hat)\n",
    "    \n",
    "    @staticmethod\n",
    "    def _calc_y_hat_var(beta_hat_var, X):\n",
    "        return np.array([X[i:(i+1), :]@beta_hat_var@X[i, :].T \n",
    "                              for i in range(X.shape[0])]).reshape(-1, 1)\n",
    "    \n",
    "    def prediction_interval(self, X, conf=0.95):\n",
    "        res = {}\n",
    "        res['est'] = self.predict(X).ravel()\n",
    "        if self.fit_intercept:\n",
    "            X = self._remake_X(X)\n",
    "            \n",
    "        y_hat_var = self._calc_y_hat_var(self.beta_hat_var, X)\n",
=======
    "        return (X@self.beta_hat).ravel()\n",
    "    \n",
    "    def prediction_interval(self, X, conf=0.95):\n",
    "        res = {}\n",
    "        res['est'] = self.predict(X)\n",
    "        if self.fit_intercept:\n",
    "            X = self._remake_X(X)\n",
    "            \n",
    "        y_hat_var = np.array([X[i:(i+1), :]@self.beta_hat_var@X[i, :].T \n",
    "                              for i in range(X.shape[0])]).reshape(-1, 1)\n",
>>>>>>> 205f22e802ac2848df84ab6fa4ab50815a6042fc
    "        \n",
    "        u_hat_var = y_hat_var + self.u_var_hat\n",
    "        conf_width = (tdist.ppf((1+conf)/2, self.n - self.k)*u_hat_var).ravel()\n",
    "        res['low'] = res['est'] - conf_width\n",
    "        res['high'] = res['est'] + conf_width\n",
    "        \n",
    "        return res\n",
    "        \n",
    "    def confidence_interval(self, X, conf=0.95):\n",
    "        res = {}\n",
<<<<<<< HEAD
    "        res['est'] = self.predict(X).ravel()\n",
=======
    "        res['est'] = self.predict(X)\n",
>>>>>>> 205f22e802ac2848df84ab6fa4ab50815a6042fc
    "\n",
    "        if self.fit_intercept:\n",
    "            X = self._remake_X(X)\n",
    "            \n",
<<<<<<< HEAD
    "        y_hat_var = self._calc_y_hat_var(self.beta_hat_var, X)\n",
=======
    "        y_hat_var = np.array([X[i:(i+1), :]@self.beta_hat_var@X[i, :].T \n",
    "                              for i in range(X.shape[0])]).reshape(-1, 1)\n",
>>>>>>> 205f22e802ac2848df84ab6fa4ab50815a6042fc
    "        \n",
    "        conf_width = (tdist.ppf((1+conf)/2, self.n - self.k)*y_hat_var).ravel()\n",
    "        res['low'] = res['est'] - conf_width\n",
    "        res['high'] = res['est'] + conf_width\n",
    "        \n",
    "        return res\n",
    "    \n",
    "    \n",
    "        \n",
    "        \n",
    "    \n",
    "    def score(self, X, y):\n",
    "        lm = LinearReg(self.fit_intercept)\n",
    "        lm.fit(X, y)\n",
    "        return lm.rsq_adj\n",
    "    "
   ]
  },
  {
   "cell_type": "code",
<<<<<<< HEAD
   "execution_count": 474,
   "metadata": {
    "ExecuteTime": {
     "end_time": "2020-03-05T20:32:22.262521Z",
     "start_time": "2020-03-05T20:32:22.251437Z"
=======
   "execution_count": 305,
   "metadata": {
    "ExecuteTime": {
     "end_time": "2020-03-05T20:11:57.070277Z",
     "start_time": "2020-03-05T20:11:57.061563Z"
>>>>>>> 205f22e802ac2848df84ab6fa4ab50815a6042fc
    }
   },
   "outputs": [],
   "source": [
    "X = df.iloc[:30, 0].values.reshape(-1, 1)\n",
    "y = df.iloc[:30, -1].values.reshape(-1, 1)"
   ]
  },
  {
   "cell_type": "code",
<<<<<<< HEAD
   "execution_count": 475,
   "metadata": {
    "ExecuteTime": {
     "end_time": "2020-03-05T20:32:22.455101Z",
     "start_time": "2020-03-05T20:32:22.447304Z"
=======
   "execution_count": 306,
   "metadata": {
    "ExecuteTime": {
     "end_time": "2020-03-05T20:11:57.399913Z",
     "start_time": "2020-03-05T20:11:57.385432Z"
>>>>>>> 205f22e802ac2848df84ab6fa4ab50815a6042fc
    }
   },
   "outputs": [
    {
     "data": {
      "text/plain": [
       "(30, 1)"
      ]
     },
<<<<<<< HEAD
     "execution_count": 475,
=======
     "execution_count": 306,
>>>>>>> 205f22e802ac2848df84ab6fa4ab50815a6042fc
     "metadata": {},
     "output_type": "execute_result"
    }
   ],
   "source": [
    "X.shape"
   ]
  },
  {
   "cell_type": "code",
<<<<<<< HEAD
   "execution_count": 476,
   "metadata": {
    "ExecuteTime": {
     "end_time": "2020-03-05T20:32:22.704149Z",
     "start_time": "2020-03-05T20:32:22.687487Z"
=======
   "execution_count": 307,
   "metadata": {
    "ExecuteTime": {
     "end_time": "2020-03-05T20:11:57.621980Z",
     "start_time": "2020-03-05T20:11:57.600761Z"
>>>>>>> 205f22e802ac2848df84ab6fa4ab50815a6042fc
    }
   },
   "outputs": [
    {
     "data": {
      "text/plain": [
       "LinearReg(fit_intercept=True)"
      ]
     },
<<<<<<< HEAD
     "execution_count": 476,
=======
     "execution_count": 307,
>>>>>>> 205f22e802ac2848df84ab6fa4ab50815a6042fc
     "metadata": {},
     "output_type": "execute_result"
    }
   ],
   "source": [
    "lm = LinearReg()\n",
    "lm.fit(X, y)"
   ]
  },
  {
   "cell_type": "code",
<<<<<<< HEAD
   "execution_count": 477,
   "metadata": {
    "ExecuteTime": {
     "end_time": "2020-03-05T20:32:22.928969Z",
     "start_time": "2020-03-05T20:32:22.913143Z"
=======
   "execution_count": 308,
   "metadata": {
    "ExecuteTime": {
     "end_time": "2020-03-05T20:11:57.760080Z",
     "start_time": "2020-03-05T20:11:57.750587Z"
    }
   },
   "outputs": [
    {
     "data": {
      "text/plain": [
       "array([26.39912962, 23.47952954, 27.06586522, 27.83085659, 26.15349019,\n",
       "       26.23770942, 21.17051889, 16.45424183,  8.88854738, 17.89298707,\n",
       "       15.54186681, 20.58098426, 18.86852652, 24.09713725, 22.69348336,\n",
       "       23.94975359, 25.27620651, 19.59842654, 21.68987083, 21.97761988,\n",
       "       15.14182545, 20.18796117, 16.75602742, 15.94190816, 18.45444862,\n",
       "       18.30706496, 19.50017077, 17.76665822, 20.91084292, 21.48634102])"
      ]
     },
     "execution_count": 308,
     "metadata": {},
     "output_type": "execute_result"
    }
   ],
   "source": [
    "lm.predict(X)"
   ]
  },
  {
   "cell_type": "code",
   "execution_count": 309,
   "metadata": {
    "ExecuteTime": {
     "end_time": "2020-03-05T20:11:57.934921Z",
     "start_time": "2020-03-05T20:11:57.923810Z"
>>>>>>> 205f22e802ac2848df84ab6fa4ab50815a6042fc
    }
   },
   "outputs": [
    {
     "data": {
      "text/plain": [
       "0.4835294109918088"
      ]
     },
<<<<<<< HEAD
     "execution_count": 477,
=======
     "execution_count": 309,
>>>>>>> 205f22e802ac2848df84ab6fa4ab50815a6042fc
     "metadata": {},
     "output_type": "execute_result"
    }
   ],
   "source": [
    "lm.score(X, y)"
   ]
  },
  {
   "cell_type": "code",
<<<<<<< HEAD
   "execution_count": 478,
   "metadata": {
    "ExecuteTime": {
     "end_time": "2020-03-05T20:32:23.164408Z",
     "start_time": "2020-03-05T20:32:23.155150Z"
=======
   "execution_count": 310,
   "metadata": {
    "ExecuteTime": {
     "end_time": "2020-03-05T20:11:58.437539Z",
     "start_time": "2020-03-05T20:11:58.420484Z"
>>>>>>> 205f22e802ac2848df84ab6fa4ab50815a6042fc
    }
   },
   "outputs": [
    {
     "data": {
      "text/plain": [
       "28.15034160162034"
      ]
     },
<<<<<<< HEAD
     "execution_count": 478,
=======
     "execution_count": 310,
>>>>>>> 205f22e802ac2848df84ab6fa4ab50815a6042fc
     "metadata": {},
     "output_type": "execute_result"
    }
   ],
   "source": [
    "lm.fstat"
   ]
  },
  {
   "cell_type": "code",
<<<<<<< HEAD
   "execution_count": 479,
   "metadata": {
    "ExecuteTime": {
     "end_time": "2020-03-05T20:32:23.549318Z",
     "start_time": "2020-03-05T20:32:23.540467Z"
=======
   "execution_count": 328,
   "metadata": {
    "ExecuteTime": {
     "end_time": "2020-03-05T20:15:30.134406Z",
     "start_time": "2020-03-05T20:15:30.128499Z"
>>>>>>> 205f22e802ac2848df84ab6fa4ab50815a6042fc
    }
   },
   "outputs": [],
   "source": [
    "X_new = np.arange(4, 30, 0.01).reshape(-1, 1)"
   ]
  },
  {
   "cell_type": "code",
<<<<<<< HEAD
   "execution_count": 480,
   "metadata": {
    "ExecuteTime": {
     "end_time": "2020-03-05T20:32:24.038414Z",
     "start_time": "2020-03-05T20:32:23.987229Z"
=======
   "execution_count": 337,
   "metadata": {
    "ExecuteTime": {
     "end_time": "2020-03-05T20:17:08.915820Z",
     "start_time": "2020-03-05T20:17:08.877361Z"
>>>>>>> 205f22e802ac2848df84ab6fa4ab50815a6042fc
    }
   },
   "outputs": [],
   "source": [
    "pred_intdf = pd.DataFrame(lm.prediction_interval(X_new))\n",
    "conf_intdf = pd.DataFrame(lm.confidence_interval(X_new))"
   ]
  },
  {
   "cell_type": "code",
<<<<<<< HEAD
   "execution_count": 481,
   "metadata": {
    "ExecuteTime": {
     "end_time": "2020-03-05T20:32:24.944824Z",
     "start_time": "2020-03-05T20:32:24.667302Z"
=======
   "execution_count": 338,
   "metadata": {
    "ExecuteTime": {
     "end_time": "2020-03-05T20:17:09.726147Z",
     "start_time": "2020-03-05T20:17:09.468320Z"
>>>>>>> 205f22e802ac2848df84ab6fa4ab50815a6042fc
    }
   },
   "outputs": [
    {
     "data": {
      "image/png": "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\n",
      "text/plain": [
       "<Figure size 1728x576 with 1 Axes>"
      ]
     },
     "metadata": {
      "needs_background": "light"
     },
     "output_type": "display_data"
    }
   ],
   "source": [
    "\n",
    "plt.figure(figsize=(24, 8))\n",
    "plt.scatter(X, y, s=0.2)\n",
    "plt.plot(X_new, conf_intdf['est'])\n",
    "plt.plot(X_new, conf_intdf['low'], '--', c='red', linewidth=0.5)\n",
    "plt.plot(X_new, conf_intdf['high'], '--', c='red', linewidth=0.5)\n",
    "\n",
    "plt.plot(X_new, pred_intdf['low'], '--', c='black')\n",
    "plt.plot(X_new, pred_intdf['high'], '--', c='black')\n",
    "\n",
    "plt.show()"
   ]
  },
  {
   "cell_type": "code",
<<<<<<< HEAD
   "execution_count": 482,
   "metadata": {
    "ExecuteTime": {
     "end_time": "2020-03-05T20:32:26.199870Z",
     "start_time": "2020-03-05T20:32:26.192476Z"
    }
   },
   "outputs": [],
   "source": [
    "X = df.iloc[:, 0:2].values\n",
    "y = df.iloc[:, -1].values.reshape(-1, 1)"
   ]
  },
  {
   "cell_type": "code",
   "execution_count": 483,
   "metadata": {
    "ExecuteTime": {
     "end_time": "2020-03-05T20:32:26.698668Z",
     "start_time": "2020-03-05T20:32:26.693171Z"
=======
   "execution_count": 85,
   "metadata": {
    "ExecuteTime": {
     "end_time": "2020-03-05T17:52:06.139692Z",
     "start_time": "2020-03-05T17:52:06.131057Z"
>>>>>>> 205f22e802ac2848df84ab6fa4ab50815a6042fc
    }
   },
   "outputs": [],
   "source": [
    "from sklearn.model_selection import cross_val_score"
   ]
  },
  {
   "cell_type": "code",
<<<<<<< HEAD
   "execution_count": 484,
   "metadata": {
    "ExecuteTime": {
     "end_time": "2020-03-05T20:32:27.064504Z",
     "start_time": "2020-03-05T20:32:27.035973Z"
=======
   "execution_count": 86,
   "metadata": {
    "ExecuteTime": {
     "end_time": "2020-03-05T17:52:06.612590Z",
     "start_time": "2020-03-05T17:52:06.590432Z"
>>>>>>> 205f22e802ac2848df84ab6fa4ab50815a6042fc
    }
   },
   "outputs": [
    {
     "data": {
      "text/plain": [
       "array([11.78879381, 28.97215949, 47.84395882, 71.77053822, 36.6099291 ])"
      ]
     },
<<<<<<< HEAD
     "execution_count": 484,
=======
     "execution_count": 86,
>>>>>>> 205f22e802ac2848df84ab6fa4ab50815a6042fc
     "metadata": {},
     "output_type": "execute_result"
    }
   ],
   "source": [
    "-cross_val_score(lm, X, y, scoring=\"neg_mean_squared_error\")"
   ]
  },
  {
   "cell_type": "code",
<<<<<<< HEAD
   "execution_count": 485,
   "metadata": {
    "ExecuteTime": {
     "end_time": "2020-03-05T20:32:27.331967Z",
     "start_time": "2020-03-05T20:32:27.290163Z"
=======
   "execution_count": 37,
   "metadata": {
    "ExecuteTime": {
     "end_time": "2020-03-05T17:14:03.739298Z",
     "start_time": "2020-03-05T17:14:03.702234Z"
>>>>>>> 205f22e802ac2848df84ab6fa4ab50815a6042fc
    }
   },
   "outputs": [
    {
     "data": {
      "text/plain": [
       "array([11.78879381, 28.97215949, 47.84395882, 71.77053822, 36.6099291 ])"
      ]
     },
<<<<<<< HEAD
     "execution_count": 485,
=======
     "execution_count": 37,
>>>>>>> 205f22e802ac2848df84ab6fa4ab50815a6042fc
     "metadata": {},
     "output_type": "execute_result"
    }
   ],
   "source": [
    "from sklearn.linear_model import LinearRegression\n",
    "lm_sk = LinearRegression()\n",
    "\n",
    "-cross_val_score(lm_sk, X, y, scoring=\"neg_mean_squared_error\")"
   ]
  },
  {
   "cell_type": "code",
<<<<<<< HEAD
   "execution_count": 486,
   "metadata": {
    "ExecuteTime": {
     "end_time": "2020-03-05T20:32:27.459804Z",
     "start_time": "2020-03-05T20:32:27.433683Z"
=======
   "execution_count": 38,
   "metadata": {
    "ExecuteTime": {
     "end_time": "2020-03-05T17:14:04.279048Z",
     "start_time": "2020-03-05T17:14:04.239423Z"
>>>>>>> 205f22e802ac2848df84ab6fa4ab50815a6042fc
    }
   },
   "outputs": [
    {
     "data": {
      "text/plain": [
       "array([ 0.66158301,  0.64905012, -1.51946963,  0.49331255,  0.59340312,\n",
       "        0.47386502, -0.17695506,  0.05396455, -1.77172578,  0.21261084])"
      ]
     },
<<<<<<< HEAD
     "execution_count": 486,
=======
     "execution_count": 38,
>>>>>>> 205f22e802ac2848df84ab6fa4ab50815a6042fc
     "metadata": {},
     "output_type": "execute_result"
    }
   ],
   "source": [
    "cross_val_score(lm_sk, X, y, cv=10) # Which default scoring metric does this use?"
   ]
  },
  {
   "cell_type": "markdown",
   "metadata": {},
   "source": [
    "## Joint Hypothesis\n",
    "\n",
    "$ H_{0}: \\beta_{2} +\\beta_{3} = 0$ <br/>\n",
    "$ H_{1}: \\beta_{2} +\\beta_{3} \\neq 0$"
   ]
  },
  {
   "cell_type": "code",
<<<<<<< HEAD
   "execution_count": 487,
   "metadata": {
    "ExecuteTime": {
     "end_time": "2020-03-05T20:32:27.829847Z",
     "start_time": "2020-03-05T20:32:27.824483Z"
=======
   "execution_count": 39,
   "metadata": {
    "ExecuteTime": {
     "end_time": "2020-03-05T17:14:05.112301Z",
     "start_time": "2020-03-05T17:14:05.101915Z"
>>>>>>> 205f22e802ac2848df84ab6fa4ab50815a6042fc
    }
   },
   "outputs": [],
   "source": [
    "lm = LinearReg()"
   ]
  },
  {
   "cell_type": "code",
<<<<<<< HEAD
   "execution_count": 488,
   "metadata": {
    "ExecuteTime": {
     "end_time": "2020-03-05T20:32:28.088884Z",
     "start_time": "2020-03-05T20:32:28.074275Z"
=======
   "execution_count": 40,
   "metadata": {
    "ExecuteTime": {
     "end_time": "2020-03-05T17:14:05.717721Z",
     "start_time": "2020-03-05T17:14:05.703777Z"
>>>>>>> 205f22e802ac2848df84ab6fa4ab50815a6042fc
    }
   },
   "outputs": [],
   "source": [
    "# Unrestricted residual sum of squares\n",
    "urss = lm.fit(X, y).rss"
   ]
  },
  {
   "cell_type": "code",
<<<<<<< HEAD
   "execution_count": 489,
   "metadata": {
    "ExecuteTime": {
     "end_time": "2020-03-05T20:32:28.436864Z",
     "start_time": "2020-03-05T20:32:28.421570Z"
=======
   "execution_count": 41,
   "metadata": {
    "ExecuteTime": {
     "end_time": "2020-03-05T17:14:06.323468Z",
     "start_time": "2020-03-05T17:14:06.307363Z"
>>>>>>> 205f22e802ac2848df84ab6fa4ab50815a6042fc
    }
   },
   "outputs": [
    {
     "data": {
      "text/plain": [
       "(506, 2)"
      ]
     },
<<<<<<< HEAD
     "execution_count": 489,
=======
     "execution_count": 41,
>>>>>>> 205f22e802ac2848df84ab6fa4ab50815a6042fc
     "metadata": {},
     "output_type": "execute_result"
    }
   ],
   "source": [
    "X.shape"
   ]
  },
  {
   "cell_type": "code",
<<<<<<< HEAD
   "execution_count": 490,
   "metadata": {
    "ExecuteTime": {
     "end_time": "2020-03-05T20:32:28.706279Z",
     "start_time": "2020-03-05T20:32:28.697537Z"
=======
   "execution_count": 42,
   "metadata": {
    "ExecuteTime": {
     "end_time": "2020-03-05T17:14:06.764374Z",
     "start_time": "2020-03-05T17:14:06.753010Z"
>>>>>>> 205f22e802ac2848df84ab6fa4ab50815a6042fc
    }
   },
   "outputs": [],
   "source": [
    "X_star = (X[:, 0] - X[:, 1]).reshape(-1, 1)\n",
    "y_star = y - X[:, 1].reshape(-1, 1)"
   ]
  },
  {
   "cell_type": "code",
<<<<<<< HEAD
   "execution_count": 491,
   "metadata": {
    "ExecuteTime": {
     "end_time": "2020-03-05T20:32:28.933610Z",
     "start_time": "2020-03-05T20:32:28.907843Z"
=======
   "execution_count": 43,
   "metadata": {
    "ExecuteTime": {
     "end_time": "2020-03-05T17:14:07.605142Z",
     "start_time": "2020-03-05T17:14:07.575145Z"
>>>>>>> 205f22e802ac2848df84ab6fa4ab50815a6042fc
    }
   },
   "outputs": [
    {
     "name": "stdout",
     "output_type": "stream",
     "text": [
      "F statistic: 53.47836\n",
      "Critical value: 3.85998\n"
     ]
    }
   ],
   "source": [
    "# Restricted residual sum of squares\n",
    "rrss = lm.fit(X_star, y_star).rss\n",
    "\n",
    "num_restr = X_star.shape[1]\n",
    "n = X.shape[0]\n",
    "k = X.shape[1]\n",
    "F_stat = ((rrss - urss)/num_restr)/(urss/(n-k))\n",
    "\n",
    "print('F statistic: {:.5f}'.format(F_stat))\n",
    "print('Critical value: {:.5f}'.format(fdist.ppf(1 - 0.05, num_restr, n-k)))"
   ]
  },
  {
   "cell_type": "code",
<<<<<<< HEAD
   "execution_count": 492,
   "metadata": {
    "ExecuteTime": {
     "end_time": "2020-03-05T20:32:29.128385Z",
     "start_time": "2020-03-05T20:32:29.111055Z"
=======
   "execution_count": 44,
   "metadata": {
    "ExecuteTime": {
     "end_time": "2020-03-05T17:14:08.234975Z",
     "start_time": "2020-03-05T17:14:08.201578Z"
>>>>>>> 205f22e802ac2848df84ab6fa4ab50815a6042fc
    }
   },
   "outputs": [],
   "source": [
    "class IncompatibleLinearModelError(Exception):\n",
    "    pass\n",
    "\n",
    "def Ftest_LinearReg(lm1: LinearReg, lm2: LinearReg, sig):\n",
    "    '''Perform the Ftest for two linear model fits of class LinearReg\n",
    "    \n",
    "    The restricted and unrestricted models are automatically assigned\n",
    "    by accessing the k attribute of lm1 and lm2.\n",
    "    \n",
    "    Parameters\n",
    "    ----------\n",
    "    \n",
    "    lm1, lm2: LinearReg\n",
    "        fitted models of class LinearReg\n",
    "        \n",
    "    sig: int, optional (default=0.05)\n",
    "        the significance level of the test\n",
    "        \n",
    "    Return -> True if the test is significant\n",
    "    \n",
    "    '''\n",
    "    if (lm1.n == lm2.n) and (lm1.k != lm2.k): # NOTE: Python 3.8 assign n to a var \n",
    "        n = lm1.n\n",
    "    else:\n",
    "        raise(IncompatibleLinearModelError(\n",
    "            'The linear models were fitted on datasets with varying observations')\n",
    "             )\n",
    "    \n",
    "    lms = [lm1, lm2]\n",
    "    r = np.argmin([lm.k for lm in lms])\n",
    "    ur = [i for i in range(len(lms)) if i != r][0]\n",
    "    \n",
    "    lm_r, lm_ur = lms[r], lms[ur]\n",
    "    \n",
    "    rrss, urss = lm_r.rss, lm_ur.rss\n",
    "    dfn = lm_ur.k - lm_r.k\n",
    "    dfd = n - lm_ur.k\n",
    "    \n",
    "    F_stat = ((rrss - urss)/dfn)/(urss/dfd)\n",
    "    critical_val = fdist.ppf(1 - sig, dfn, dfd)\n",
    "    pval = 1 - fdist.cdf(F_stat, dfn, dfd)\n",
    "    \n",
    "    print('F statistic: {:.4f} with dfn: {}, and dfd: {}'.format(F_stat, dfn, dfd))\n",
    "    print('Critical value: {:.4f}'.format(critical_val))\n",
    "    print('p-value: {:.4f}'.format(pval))\n",
    "    \n",
    "    if F_stat > critical_val:\n",
    "        return True\n",
    "    \n",
    "    return False"
   ]
  },
  {
   "cell_type": "code",
<<<<<<< HEAD
   "execution_count": 493,
   "metadata": {
    "ExecuteTime": {
     "end_time": "2020-03-05T20:32:29.304374Z",
     "start_time": "2020-03-05T20:32:29.283958Z"
=======
   "execution_count": 45,
   "metadata": {
    "ExecuteTime": {
     "end_time": "2020-03-05T17:14:08.791564Z",
     "start_time": "2020-03-05T17:14:08.763480Z"
>>>>>>> 205f22e802ac2848df84ab6fa4ab50815a6042fc
    }
   },
   "outputs": [
    {
     "name": "stdout",
     "output_type": "stream",
     "text": [
      "F statistic: 53.3723 with dfn: 1, and dfd: 503\n",
      "Critical value: 3.8600\n",
      "p-value: 0.0000\n"
     ]
    },
    {
     "data": {
      "text/plain": [
       "True"
      ]
     },
<<<<<<< HEAD
     "execution_count": 493,
=======
     "execution_count": 45,
>>>>>>> 205f22e802ac2848df84ab6fa4ab50815a6042fc
     "metadata": {},
     "output_type": "execute_result"
    }
   ],
   "source": [
    "lm_r = LinearReg().fit(X, y)\n",
    "lm_ur = LinearReg().fit(X_star, y_star)\n",
    "Ftest_LinearReg(lm_r, lm_ur, 0.05)"
   ]
  },
  {
   "cell_type": "markdown",
   "metadata": {},
   "source": [
    "Now let's do something that might make us **NOT** reject the null hypothesis."
   ]
  },
  {
   "cell_type": "code",
<<<<<<< HEAD
   "execution_count": 494,
   "metadata": {
    "ExecuteTime": {
     "end_time": "2020-03-05T20:32:29.771675Z",
     "start_time": "2020-03-05T20:32:29.753479Z"
=======
   "execution_count": 46,
   "metadata": {
    "ExecuteTime": {
     "end_time": "2020-03-05T17:14:09.748772Z",
     "start_time": "2020-03-05T17:14:09.740468Z"
>>>>>>> 205f22e802ac2848df84ab6fa4ab50815a6042fc
    }
   },
   "outputs": [
    {
     "data": {
      "text/plain": [
       "array([4.45242965])"
      ]
     },
<<<<<<< HEAD
     "execution_count": 494,
=======
     "execution_count": 46,
>>>>>>> 205f22e802ac2848df84ab6fa4ab50815a6042fc
     "metadata": {},
     "output_type": "execute_result"
    }
   ],
   "source": [
    "lm.fit(X, y)\n",
    "beta_hat = lm.beta_hat\n",
    "beta_hat[1] + beta_hat[2]"
   ]
  },
  {
   "cell_type": "markdown",
   "metadata": {},
   "source": [
    "$ H_{0}: \\beta_{2} +\\beta_{3} = 4.47$ <br/>\n",
    "$ H_{1}: \\beta_{2} +\\beta_{3} \\neq 4.47$"
   ]
  },
  {
   "cell_type": "code",
<<<<<<< HEAD
   "execution_count": 495,
   "metadata": {
    "ExecuteTime": {
     "end_time": "2020-03-05T20:32:30.233494Z",
     "start_time": "2020-03-05T20:32:30.226479Z"
=======
   "execution_count": 47,
   "metadata": {
    "ExecuteTime": {
     "end_time": "2020-03-05T17:14:10.758627Z",
     "start_time": "2020-03-05T17:14:10.746477Z"
>>>>>>> 205f22e802ac2848df84ab6fa4ab50815a6042fc
    }
   },
   "outputs": [],
   "source": [
    "X_star = (X[:, 0] - X[:, 1]).reshape(-1, 1)\n",
    "y_star = y - 4.47*X[:, 1].reshape(-1, 1)"
   ]
  },
  {
   "cell_type": "code",
<<<<<<< HEAD
   "execution_count": 496,
   "metadata": {
    "ExecuteTime": {
     "end_time": "2020-03-05T20:32:30.478681Z",
     "start_time": "2020-03-05T20:32:30.462293Z"
=======
   "execution_count": 48,
   "metadata": {
    "ExecuteTime": {
     "end_time": "2020-03-05T17:14:11.156127Z",
     "start_time": "2020-03-05T17:14:11.145796Z"
>>>>>>> 205f22e802ac2848df84ab6fa4ab50815a6042fc
    }
   },
   "outputs": [],
   "source": [
    "lm_ur = LinearReg().fit(X, y)\n",
    "lm_r = LinearReg().fit(X_star, y_star)"
   ]
  },
  {
   "cell_type": "code",
<<<<<<< HEAD
   "execution_count": 497,
   "metadata": {
    "ExecuteTime": {
     "end_time": "2020-03-05T20:32:30.689582Z",
     "start_time": "2020-03-05T20:32:30.676829Z"
=======
   "execution_count": 49,
   "metadata": {
    "ExecuteTime": {
     "end_time": "2020-03-05T17:14:11.502205Z",
     "start_time": "2020-03-05T17:14:11.488959Z"
>>>>>>> 205f22e802ac2848df84ab6fa4ab50815a6042fc
    }
   },
   "outputs": [
    {
     "name": "stdout",
     "output_type": "stream",
     "text": [
      "F statistic: 0.0014 with dfn: 1, and dfd: 503\n",
      "Critical value: 3.8600\n",
      "p-value: 0.9704\n"
     ]
    },
    {
     "data": {
      "text/plain": [
       "False"
      ]
     },
<<<<<<< HEAD
     "execution_count": 497,
=======
     "execution_count": 49,
>>>>>>> 205f22e802ac2848df84ab6fa4ab50815a6042fc
     "metadata": {},
     "output_type": "execute_result"
    }
   ],
   "source": [
    "Ftest_LinearReg(lm_ur, lm_r, 0.05)"
   ]
  },
  {
   "cell_type": "markdown",
   "metadata": {},
   "source": [
    "Let's check if the pvalue from the F-test matches with the t-test for the intercept case <br/>\n",
    "$ H_{0}: \\beta_{1} = 0$ <br/>\n",
    "$ H_{1}: \\beta_{1} \\neq 0$"
   ]
  },
  {
   "cell_type": "code",
<<<<<<< HEAD
   "execution_count": 498,
   "metadata": {
    "ExecuteTime": {
     "end_time": "2020-03-05T20:32:31.274998Z",
     "start_time": "2020-03-05T20:32:31.254093Z"
=======
   "execution_count": 50,
   "metadata": {
    "ExecuteTime": {
     "end_time": "2020-03-05T17:14:12.521483Z",
     "start_time": "2020-03-05T17:14:12.501067Z"
>>>>>>> 205f22e802ac2848df84ab6fa4ab50815a6042fc
    }
   },
   "outputs": [
    {
     "name": "stdout",
     "output_type": "stream",
     "text": [
      "F statistic: 0.1833 with dfn: 1, and dfd: 503\n",
      "Critical value: 3.8600\n",
      "p-value: 0.6688\n"
     ]
    },
    {
     "data": {
      "text/plain": [
       "False"
      ]
     },
<<<<<<< HEAD
     "execution_count": 498,
=======
     "execution_count": 50,
>>>>>>> 205f22e802ac2848df84ab6fa4ab50815a6042fc
     "metadata": {},
     "output_type": "execute_result"
    }
   ],
   "source": [
    "lm_r = LinearReg(fit_intercept=False).fit(X, y)\n",
    "lm_ur = LinearReg(fit_intercept=True).fit(X, y)\n",
    "\n",
    "Ftest_LinearReg(lm_r, lm_ur, 0.05)"
   ]
  },
  {
   "cell_type": "markdown",
   "metadata": {},
   "source": [
    "And Voila! it matches :D"
   ]
  },
  {
   "cell_type": "code",
<<<<<<< HEAD
   "execution_count": 499,
   "metadata": {
    "ExecuteTime": {
     "end_time": "2020-03-05T20:32:32.045598Z",
     "start_time": "2020-03-05T20:32:32.028900Z"
=======
   "execution_count": 51,
   "metadata": {
    "ExecuteTime": {
     "end_time": "2020-03-05T17:14:13.409185Z",
     "start_time": "2020-03-05T17:14:13.396359Z"
>>>>>>> 205f22e802ac2848df84ab6fa4ab50815a6042fc
    }
   },
   "outputs": [
    {
     "data": {
      "text/html": [
       "<div>\n",
       "<style scoped>\n",
       "    .dataframe tbody tr th:only-of-type {\n",
       "        vertical-align: middle;\n",
       "    }\n",
       "\n",
       "    .dataframe tbody tr th {\n",
       "        vertical-align: top;\n",
       "    }\n",
       "\n",
       "    .dataframe thead th {\n",
       "        text-align: right;\n",
       "    }\n",
       "</style>\n",
       "<table border=\"1\" class=\"dataframe\">\n",
       "  <thead>\n",
       "    <tr style=\"text-align: right;\">\n",
       "      <th></th>\n",
       "      <th>Estimate</th>\n",
       "      <th>Standard_error</th>\n",
       "      <th>t_statistic</th>\n",
       "      <th>pval</th>\n",
       "      <th>significant_0.05</th>\n",
       "    </tr>\n",
       "  </thead>\n",
       "  <tbody>\n",
       "    <tr>\n",
       "      <td>0</td>\n",
       "      <td>-1.358273</td>\n",
       "      <td>3.172828</td>\n",
       "      <td>-0.428095</td>\n",
       "      <td>6.687649e-01</td>\n",
       "      <td>False</td>\n",
       "    </tr>\n",
       "    <tr>\n",
       "      <td>1</td>\n",
       "      <td>-0.642358</td>\n",
       "      <td>0.043731</td>\n",
       "      <td>-14.688699</td>\n",
       "      <td>6.669365e-41</td>\n",
       "      <td>True</td>\n",
       "    </tr>\n",
       "    <tr>\n",
       "      <td>2</td>\n",
       "      <td>5.094788</td>\n",
       "      <td>0.444466</td>\n",
       "      <td>11.462730</td>\n",
       "      <td>3.472258e-27</td>\n",
       "      <td>True</td>\n",
       "    </tr>\n",
       "  </tbody>\n",
       "</table>\n",
       "</div>"
      ],
      "text/plain": [
       "   Estimate  Standard_error  t_statistic          pval  significant_0.05\n",
       "0 -1.358273        3.172828    -0.428095  6.687649e-01             False\n",
       "1 -0.642358        0.043731   -14.688699  6.669365e-41              True\n",
       "2  5.094788        0.444466    11.462730  3.472258e-27              True"
      ]
     },
<<<<<<< HEAD
     "execution_count": 499,
=======
     "execution_count": 51,
>>>>>>> 205f22e802ac2848df84ab6fa4ab50815a6042fc
     "metadata": {},
     "output_type": "execute_result"
    }
   ],
   "source": [
    "df_hyp"
   ]
  },
  {
   "cell_type": "markdown",
   "metadata": {},
   "source": [
    "## Test for Heteroskedasticity"
   ]
  },
  {
   "cell_type": "markdown",
   "metadata": {},
   "source": [
    "### Breush-Pagan test"
   ]
  },
  {
   "cell_type": "markdown",
   "metadata": {},
   "source": [
    "$u_{i}^{2} = \\alpha_{1} + \\alpha_{2}X_{2} + \\alpha_{3}X_{3} + e_{i}$"
   ]
  },
  {
   "cell_type": "markdown",
   "metadata": {},
   "source": [
    "$H_{0}: \\alpha_{2} = \\alpha_{3} = 0$ <br />\n",
    "$H_{1}: atleast \\ one \\ \\alpha_{i} \\neq 0  \\ \\forall \\ i = 1, 2, ...k$"
   ]
  },
  {
   "cell_type": "code",
<<<<<<< HEAD
   "execution_count": 500,
   "metadata": {
    "ExecuteTime": {
     "end_time": "2020-03-05T20:32:34.391782Z",
     "start_time": "2020-03-05T20:32:34.333269Z"
=======
   "execution_count": 52,
   "metadata": {
    "ExecuteTime": {
     "end_time": "2020-03-05T17:14:17.974185Z",
     "start_time": "2020-03-05T17:14:17.953874Z"
>>>>>>> 205f22e802ac2848df84ab6fa4ab50815a6042fc
    }
   },
   "outputs": [],
   "source": [
    "lm = LinearReg().fit(X, y)\n",
    "\n",
    "# residual\n",
    "res = y - lm.predict(X)\n",
    "assert((res**2).sum() == lm.rss)\n",
    "\n",
    "# residual squared\n",
    "res_sq = res**2\n",
    "\n",
    "# Null Hypothesis\n",
    "X_H0 = None\n",
    "lm_H0 = LinearReg().fit(X_H0, res_sq)\n",
    "\n",
    "# Alternate Hypothesis\n",
    "# Now regress the res_sq on X\n",
    "lm_H1 = LinearReg().fit(X, res_sq)"
   ]
  },
  {
   "cell_type": "code",
<<<<<<< HEAD
   "execution_count": 501,
   "metadata": {
    "ExecuteTime": {
     "end_time": "2020-03-05T20:32:34.839735Z",
     "start_time": "2020-03-05T20:32:34.830922Z"
=======
   "execution_count": 53,
   "metadata": {
    "ExecuteTime": {
     "end_time": "2020-03-05T17:14:18.578173Z",
     "start_time": "2020-03-05T17:14:18.562405Z"
>>>>>>> 205f22e802ac2848df84ab6fa4ab50815a6042fc
    }
   },
   "outputs": [
    {
     "data": {
      "text/plain": [
       "LinearReg(fit_intercept=True)"
      ]
     },
<<<<<<< HEAD
     "execution_count": 501,
=======
     "execution_count": 53,
>>>>>>> 205f22e802ac2848df84ab6fa4ab50815a6042fc
     "metadata": {},
     "output_type": "execute_result"
    }
   ],
   "source": [
    "lm_H0"
   ]
  },
  {
   "cell_type": "code",
<<<<<<< HEAD
   "execution_count": 502,
   "metadata": {
    "ExecuteTime": {
     "end_time": "2020-03-05T20:32:35.322487Z",
     "start_time": "2020-03-05T20:32:35.313026Z"
=======
   "execution_count": 54,
   "metadata": {
    "ExecuteTime": {
     "end_time": "2020-03-05T17:14:19.093277Z",
     "start_time": "2020-03-05T17:14:19.076225Z"
>>>>>>> 205f22e802ac2848df84ab6fa4ab50815a6042fc
    }
   },
   "outputs": [
    {
     "name": "stdout",
     "output_type": "stream",
     "text": [
      "F statistic: 0.7626 with dfn: 2, and dfd: 503\n",
      "Critical value: 3.0136\n",
      "p-value: 0.4670\n"
     ]
    },
    {
     "data": {
      "text/plain": [
       "False"
      ]
     },
<<<<<<< HEAD
     "execution_count": 502,
=======
     "execution_count": 54,
>>>>>>> 205f22e802ac2848df84ab6fa4ab50815a6042fc
     "metadata": {},
     "output_type": "execute_result"
    }
   ],
   "source": [
    "Ftest_LinearReg(lm_H0, lm_H1, 0.05)"
   ]
  },
  {
   "cell_type": "code",
<<<<<<< HEAD
   "execution_count": 503,
   "metadata": {
    "ExecuteTime": {
     "end_time": "2020-03-05T20:32:35.647295Z",
     "start_time": "2020-03-05T20:32:35.625791Z"
=======
   "execution_count": 55,
   "metadata": {
    "ExecuteTime": {
     "end_time": "2020-03-05T17:14:19.679525Z",
     "start_time": "2020-03-05T17:14:19.649212Z"
>>>>>>> 205f22e802ac2848df84ab6fa4ab50815a6042fc
    }
   },
   "outputs": [],
   "source": [
    "def breusch_pagan(X: np.array, y: np.array, sig):\n",
    "    ''' Breush Pagan test for heteroskedasticity\n",
    "    \n",
    "    Parameters\n",
    "    ----------\n",
    "    X: np.array\n",
    "        Regressor matrix\n",
    "    \n",
    "    y: np.array\n",
    "        Regressand matrix\n",
    "        \n",
    "    '''\n",
    "    lm = LinearReg().fit(X, y)\n",
    "\n",
    "    # residual\n",
    "    res = y - lm.predict(X)\n",
    "\n",
    "    # residual squared\n",
    "    res_sq = res**2\n",
    "\n",
    "    # Null Hypothesis\n",
    "    lm_H0 = LinearReg().fit(None, res_sq)\n",
    "\n",
    "    # Alternate Hypothesis\n",
    "    # Now regress the res_sq on X\n",
    "    lm_H1 = LinearReg().fit(X, res_sq)\n",
    "    \n",
    "    return(Ftest_LinearReg(lm_H0, lm_H1, sig))"
   ]
  },
  {
   "cell_type": "code",
<<<<<<< HEAD
   "execution_count": 504,
   "metadata": {
    "ExecuteTime": {
     "end_time": "2020-03-05T20:32:35.894058Z",
     "start_time": "2020-03-05T20:32:35.878916Z"
=======
   "execution_count": 56,
   "metadata": {
    "ExecuteTime": {
     "end_time": "2020-03-05T17:14:20.271161Z",
     "start_time": "2020-03-05T17:14:20.244018Z"
>>>>>>> 205f22e802ac2848df84ab6fa4ab50815a6042fc
    }
   },
   "outputs": [],
   "source": [
    "# Refer: t.ly/gr9v6 This one uses a chisq statistic\n",
    "def breusch_pagan2(X, y, sig):\n",
    "    ''' Breush Pagan test for heteroskedasticity\n",
    "    \n",
    "    Parameters\n",
    "    ----------\n",
    "    X: np.array\n",
    "        Regressor matrix\n",
    "    \n",
    "    y: np.array\n",
    "        Regressand matrix\n",
    "        \n",
    "    '''\n",
    "    \n",
    "    lm = LinearReg().fit(X, y)\n",
    "\n",
    "    # residual\n",
    "    res = y - lm.predict(X)\n",
    "\n",
    "    # residual squared\n",
    "    res_sq = res**2\n",
    "\n",
    "    # Alternate Hypothesis\n",
    "    lm_H1 = LinearReg().fit(X, res_sq)\n",
    "    k = lm_H1.k\n",
    "    rsq = lm_H1.rsq\n",
    "    n = lm_H1.n\n",
    "    \n",
    "    # n*Rsq is chisq distributed with k-1 df\n",
    "    chisq_stat = n*rsq\n",
    "    df = k-1\n",
    "    pval = 1 - chisq.cdf(chisq_stat, df)\n",
    "    critical_val = chisq.ppf(1- sig, df)\n",
    "    \n",
    "    print('Chisq statistic: {:.4f} with df: {}'.format(chisq_stat, k-1))\n",
    "    print('Critical value: {:4f}'.format(critical_val))\n",
    "    print('pval: {:4f}'.format(pval))\n",
    "    \n",
    "    if chisq_stat > critical_val:\n",
    "        return True\n",
    "    \n",
    "    return(False)"
   ]
  },
  {
   "cell_type": "code",
<<<<<<< HEAD
   "execution_count": 505,
   "metadata": {
    "ExecuteTime": {
     "end_time": "2020-03-05T20:32:36.441642Z",
     "start_time": "2020-03-05T20:32:36.420390Z"
=======
   "execution_count": 57,
   "metadata": {
    "ExecuteTime": {
     "end_time": "2020-03-05T17:14:20.867539Z",
     "start_time": "2020-03-05T17:14:20.835843Z"
>>>>>>> 205f22e802ac2848df84ab6fa4ab50815a6042fc
    }
   },
   "outputs": [
    {
     "name": "stdout",
     "output_type": "stream",
     "text": [
      "F statistic: 0.7626 with dfn: 2, and dfd: 503\n",
      "Critical value: 3.0136\n",
      "p-value: 0.4670\n"
     ]
    },
    {
     "data": {
      "text/plain": [
       "False"
      ]
     },
<<<<<<< HEAD
     "execution_count": 505,
=======
     "execution_count": 57,
>>>>>>> 205f22e802ac2848df84ab6fa4ab50815a6042fc
     "metadata": {},
     "output_type": "execute_result"
    }
   ],
   "source": [
    "breusch_pagan(X, y, 0.05)"
   ]
  },
  {
   "cell_type": "code",
<<<<<<< HEAD
   "execution_count": 506,
   "metadata": {
    "ExecuteTime": {
     "end_time": "2020-03-05T20:32:36.812960Z",
     "start_time": "2020-03-05T20:32:36.771976Z"
=======
   "execution_count": 58,
   "metadata": {
    "ExecuteTime": {
     "end_time": "2020-03-05T17:14:21.415379Z",
     "start_time": "2020-03-05T17:14:21.402455Z"
>>>>>>> 205f22e802ac2848df84ab6fa4ab50815a6042fc
    }
   },
   "outputs": [
    {
     "name": "stdout",
     "output_type": "stream",
     "text": [
      "Chisq statistic: 1.5297 with df: 2\n",
      "Critical value: 5.991465\n",
      "pval: 0.465394\n"
     ]
    },
    {
     "data": {
      "text/plain": [
       "False"
      ]
     },
<<<<<<< HEAD
     "execution_count": 506,
=======
     "execution_count": 58,
>>>>>>> 205f22e802ac2848df84ab6fa4ab50815a6042fc
     "metadata": {},
     "output_type": "execute_result"
    }
   ],
   "source": [
    "breusch_pagan2(X, y, 0.05)"
   ]
  },
  {
   "cell_type": "markdown",
   "metadata": {},
   "source": [
    "## Rectifying Heteroskedasticity\n",
    "\n",
    "Doubts: <br/>\n",
    "1. "
   ]
  },
  {
   "cell_type": "code",
<<<<<<< HEAD
   "execution_count": 507,
   "metadata": {
    "ExecuteTime": {
     "end_time": "2020-03-05T20:32:38.363219Z",
     "start_time": "2020-03-05T20:32:38.353484Z"
=======
   "execution_count": 72,
   "metadata": {
    "ExecuteTime": {
     "end_time": "2020-03-05T17:26:40.723951Z",
     "start_time": "2020-03-05T17:26:40.713038Z"
>>>>>>> 205f22e802ac2848df84ab6fa4ab50815a6042fc
    }
   },
   "outputs": [],
   "source": [
    "z_hat = lm_H1.predict(X)"
   ]
  },
  {
   "cell_type": "code",
<<<<<<< HEAD
   "execution_count": 508,
   "metadata": {
    "ExecuteTime": {
     "end_time": "2020-03-05T20:32:38.727631Z",
     "start_time": "2020-03-05T20:32:38.712441Z"
=======
   "execution_count": 73,
   "metadata": {
    "ExecuteTime": {
     "end_time": "2020-03-05T17:26:41.096085Z",
     "start_time": "2020-03-05T17:26:41.082565Z"
>>>>>>> 205f22e802ac2848df84ab6fa4ab50815a6042fc
    }
   },
   "outputs": [],
   "source": [
    "X_star = LinearReg._remake_X(X)/(z_hat**(1/2))\n",
    "y_star = y/(z_hat**(1/2))\n",
    "lm_hk = LinearReg(fit_intercept=False).fit(X_star, y_star)"
   ]
  },
  {
   "cell_type": "code",
<<<<<<< HEAD
   "execution_count": 509,
   "metadata": {
    "ExecuteTime": {
     "end_time": "2020-03-05T20:32:39.137254Z",
     "start_time": "2020-03-05T20:32:39.128139Z"
=======
   "execution_count": 74,
   "metadata": {
    "ExecuteTime": {
     "end_time": "2020-03-05T17:26:41.614301Z",
     "start_time": "2020-03-05T17:26:41.604739Z"
>>>>>>> 205f22e802ac2848df84ab6fa4ab50815a6042fc
    }
   },
   "outputs": [
    {
     "data": {
      "text/plain": [
       "527.7243770112633"
      ]
     },
<<<<<<< HEAD
     "execution_count": 509,
=======
     "execution_count": 74,
>>>>>>> 205f22e802ac2848df84ab6fa4ab50815a6042fc
     "metadata": {},
     "output_type": "execute_result"
    }
   ],
   "source": [
    "# Significantly reduced rss but this may be overfit\n",
    "lm_hk.rss"
   ]
  },
  {
   "cell_type": "code",
<<<<<<< HEAD
   "execution_count": 510,
   "metadata": {
    "ExecuteTime": {
     "end_time": "2020-03-05T20:32:39.676240Z",
     "start_time": "2020-03-05T20:32:39.647161Z"
=======
   "execution_count": 75,
   "metadata": {
    "ExecuteTime": {
     "end_time": "2020-03-05T17:26:42.747048Z",
     "start_time": "2020-03-05T17:26:42.726150Z"
>>>>>>> 205f22e802ac2848df84ab6fa4ab50815a6042fc
    }
   },
   "outputs": [
    {
     "data": {
      "text/plain": [
       "15439.30920131353"
      ]
     },
<<<<<<< HEAD
     "execution_count": 510,
=======
     "execution_count": 75,
>>>>>>> 205f22e802ac2848df84ab6fa4ab50815a6042fc
     "metadata": {},
     "output_type": "execute_result"
    }
   ],
   "source": [
    "lm = LinearReg().fit(X, y)\n",
    "lm.rss"
   ]
  },
  {
   "cell_type": "code",
<<<<<<< HEAD
   "execution_count": 511,
   "metadata": {
    "ExecuteTime": {
     "end_time": "2020-03-05T20:32:40.181971Z",
     "start_time": "2020-03-05T20:32:40.168808Z"
=======
   "execution_count": 76,
   "metadata": {
    "ExecuteTime": {
     "end_time": "2020-03-05T17:26:43.567967Z",
     "start_time": "2020-03-05T17:26:43.554267Z"
>>>>>>> 205f22e802ac2848df84ab6fa4ab50815a6042fc
    }
   },
   "outputs": [
    {
     "data": {
      "text/plain": [
       "array([[ 8.11736514],\n",
       "       [-0.69925342],\n",
       "       [ 3.70158986]])"
      ]
     },
<<<<<<< HEAD
     "execution_count": 511,
=======
     "execution_count": 76,
>>>>>>> 205f22e802ac2848df84ab6fa4ab50815a6042fc
     "metadata": {},
     "output_type": "execute_result"
    }
   ],
   "source": [
    "lm_hk.beta_hat"
   ]
  },
  {
   "cell_type": "code",
<<<<<<< HEAD
   "execution_count": 512,
   "metadata": {
    "ExecuteTime": {
     "end_time": "2020-03-05T20:32:40.810477Z",
     "start_time": "2020-03-05T20:32:40.749214Z"
=======
   "execution_count": 70,
   "metadata": {
    "ExecuteTime": {
     "end_time": "2020-03-05T17:23:59.697922Z",
     "start_time": "2020-03-05T17:23:59.676333Z"
>>>>>>> 205f22e802ac2848df84ab6fa4ab50815a6042fc
    }
   },
   "outputs": [
    {
     "name": "stdout",
     "output_type": "stream",
     "text": [
      "F statistic: 4.5569 with dfn: 3, and dfd: 502\n",
      "Critical value: 2.6227\n",
      "p-value: 0.0037\n"
     ]
    },
    {
     "data": {
      "text/plain": [
       "True"
      ]
     },
<<<<<<< HEAD
     "execution_count": 512,
=======
     "execution_count": 70,
>>>>>>> 205f22e802ac2848df84ab6fa4ab50815a6042fc
     "metadata": {},
     "output_type": "execute_result"
    }
   ],
   "source": [
    "breusch_pagan(X_star, y_star, 0.05)"
   ]
  },
  {
   "cell_type": "code",
<<<<<<< HEAD
   "execution_count": 435,
   "metadata": {
    "ExecuteTime": {
     "end_time": "2020-03-05T20:25:33.547339Z",
     "start_time": "2020-03-05T20:25:33.532580Z"
=======
   "execution_count": 189,
   "metadata": {
    "ExecuteTime": {
     "end_time": "2020-03-05T18:39:34.199674Z",
     "start_time": "2020-03-05T18:39:34.184389Z"
>>>>>>> 205f22e802ac2848df84ab6fa4ab50815a6042fc
    }
   },
   "outputs": [
    {
     "data": {
      "text/plain": [
       "1.1102230246251565e-16"
      ]
     },
<<<<<<< HEAD
     "execution_count": 435,
=======
     "execution_count": 189,
>>>>>>> 205f22e802ac2848df84ab6fa4ab50815a6042fc
     "metadata": {},
     "output_type": "execute_result"
    }
   ],
   "source": [
    "lm.ftest_pval"
   ]
  }
 ],
 "metadata": {
  "kernelspec": {
   "display_name": "Python 3",
   "language": "python",
   "name": "python3"
  },
  "language_info": {
   "codemirror_mode": {
    "name": "ipython",
    "version": 3
   },
   "file_extension": ".py",
   "mimetype": "text/x-python",
   "name": "python",
   "nbconvert_exporter": "python",
   "pygments_lexer": "ipython3",
   "version": "3.7.4"
  },
  "toc": {
   "base_numbering": 1,
   "nav_menu": {},
   "number_sections": true,
   "sideBar": true,
   "skip_h1_title": false,
   "title_cell": "Table of Contents",
   "title_sidebar": "Contents",
   "toc_cell": false,
   "toc_position": {},
   "toc_section_display": true,
   "toc_window_display": false
  }
 },
 "nbformat": 4,
 "nbformat_minor": 4
}
