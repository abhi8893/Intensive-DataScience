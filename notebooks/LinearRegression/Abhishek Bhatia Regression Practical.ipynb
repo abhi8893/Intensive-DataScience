{
 "cells": [
  {
   "cell_type": "markdown",
   "metadata": {},
   "source": [
    "# Regression Analyses (Practical)"
   ]
  },
  {
   "cell_type": "code",
   "execution_count": 1,
   "metadata": {},
   "outputs": [],
   "source": [
    "import pandas as pd\n",
    "import numpy as np\n",
    "from scipy.stats import f as fdist\n",
    "from scipy.stats import t as tdist\n",
    "from scipy.stats import chi2 as chisq\n",
    "from sklearn.base import BaseEstimator, ClassifierMixin\n",
    "inv = np.linalg.inv\n"
   ]
  },
  {
   "cell_type": "markdown",
   "metadata": {},
   "source": [
    "## Implement the Linear Regression model"
   ]
  },
  {
   "cell_type": "code",
   "execution_count": 54,
   "metadata": {},
   "outputs": [],
   "source": [
    "class LinearReg(BaseEstimator, ClassifierMixin):\n",
    "    ''' Linear Regression Model Class\n",
    "    \n",
    "    Parameters\n",
    "    ----------\n",
    "    fit_intercept: bool, optional (default=True)\n",
    "        Whether to fit the intercept\n",
    "    '''\n",
    "    \n",
    "    def __init__(self, fit_intercept=True):\n",
    "        self.fit_intercept = fit_intercept\n",
    "    \n",
    "    @staticmethod\n",
    "    def _remake_X(X):\n",
    "        if not np.all(X == 0):\n",
    "            return np.hstack((np.ones((X.shape[0], 1)), X))\n",
    "        else:\n",
    "            return np.ones((X.shape[0], 1))\n",
    "\n",
    "    @staticmethod\n",
    "    def _remake_y(y):\n",
    "        return y.reshape(-1, 1) # Check before reshaping?\n",
    "\n",
    "    \n",
    "    def fit(self, X, y):\n",
    "        \n",
    "        # Make proper X and y matrix\n",
    "        if self.fit_intercept:\n",
    "            if X is not None:\n",
    "                X = self._remake_X(X)\n",
    "            else:\n",
    "                X = np.ones((y.shape[0], 1))\n",
    "            \n",
    "        y = self._remake_y(y)\n",
    "        \n",
    "        # Store n and k\n",
    "        n, k = X.shape\n",
    "        \n",
    "        # Obtain estimate of beta =  beta_hat\n",
    "        try:\n",
    "            A = inv(X.T@X)\n",
    "        except np.linalg.LinAlgError:\n",
    "            A = np.zeros([X.shape[1]]*2)\n",
    "            \n",
    "        beta_hat = A@X.T@y\n",
    "        \n",
    "        # Obtain estimate of y = y_hat\n",
    "        y_hat = X@beta_hat\n",
    "        \n",
    "        # Compute residual sum of squares\n",
    "        u_hat = y - y_hat\n",
    "        rss = (u_hat.T @ u_hat).ravel()[0]\n",
    "        \n",
    "        # Estimate the variance of the error terms\n",
    "        u_var_hat = rss/n-k\n",
    "        \n",
    "        # Estimate the variance of beta_hat\n",
    "        beta_hat_var = u_var_hat*A\n",
    "        \n",
    "        # Calculate tss, ess and rss\n",
    "        tss = y.var()*n\n",
    "        ess = tss - rss\n",
    "        \n",
    "        # Calculate R-squared and Adjusted R-squared\n",
    "        rsq = ess/tss\n",
    "        rsq_adj = 1 - (rss/(n-k))/(tss/(n-1))\n",
    "        \n",
    "        # Estimated Variance of y_hat\n",
    "        y_hat_var = self._calc_y_hat_var(X, beta_hat_var)\n",
    "        \n",
    "        # Estimated Variance of u_hat\n",
    "        u_hat_var = y_hat_var + u_var_hat\n",
    "        \n",
    "        # Perform F-test for overall significance\n",
    "        if k != 1:\n",
    "            dfn, dfd = k-1, n-k\n",
    "            self.fstat = (ess/(dfn))/(rss/(dfd))\n",
    "            self.ftest_pval =  1 - fdist.cdf(self.fstat, dfn, dfd)\n",
    "\n",
    "        # store\n",
    "        self.n = n\n",
    "        self.k = k\n",
    "        self.beta_hat = beta_hat\n",
    "        self.rss = rss\n",
    "        self.ess = ess\n",
    "        self.tss = tss\n",
    "        self.beta_hat_var = beta_hat_var\n",
    "        self.u_hat = u_hat\n",
    "        self.u_var_hat = u_var_hat\n",
    "        self.rsq = rsq\n",
    "        self.rsq_adj = rsq_adj\n",
    "        self.aic = rss/n + 2*k/n\n",
    "        self.bic = rss/n + 2*k*np.log(n)/n\n",
    "        self.y_hat_var = y_hat_var\n",
    "        self.u_hat_var = u_hat_var\n",
    "\n",
    "        return self\n",
    "        \n",
    "    def predict(self, X):\n",
    "        if self.fit_intercept:\n",
    "            X = self._remake_X(X)\n",
    "            \n",
    "        return (X@self.beta_hat)\n",
    "    \n",
    "    @staticmethod\n",
    "    def _calc_y_hat_var(X, beta_hat_var):\n",
    "        return np.diag(X@beta_hat_var@X.T).reshape(-1, 1)\n",
    "    \n",
    "    def _interval_prediction(self, X, interval_type, conf=0.95):\n",
    "        res = {}\n",
    "        res['est'] = self.predict(X).ravel()\n",
    "        if self.fit_intercept:\n",
    "            X = self._remake_X(X)\n",
    "            \n",
    "        y_hat_var = self._calc_y_hat_var(X, self.beta_hat_var)\n",
    "        if interval_type == 'prediction':\n",
    "            var = y_hat_var\n",
    "        elif interval_type == 'confidence':\n",
    "            var = y_hat_var + self.u_hat_var\n",
    "            \n",
    "        width = (tdist.ppf((1+conf)/2, self.n - self.k)*var).ravel()\n",
    "        res['low'] = res['est'] - width\n",
    "        res['high'] = res['est'] + width\n",
    "        \n",
    "        return res\n",
    "        \n",
    "    def prediction_interval(self, X, conf=0.95):\n",
    "        return self._interval_prediction(X, 'prediction', conf)\n",
    "        \n",
    "    def confidence_interval(self, X, conf=0.95):\n",
    "        return self._interval_prediction(X, 'confidence', conf)\n",
    "    \n",
    "    def score(self, X, y):\n",
    "        lm = LinearReg(self.fit_intercept)\n",
    "        lm.fit(X, y)\n",
    "        return lm.rsq_adj\n"
   ]
  },
  {
   "cell_type": "markdown",
   "metadata": {},
   "source": [
    "## Load Data"
   ]
  },
  {
   "cell_type": "code",
   "execution_count": 3,
   "metadata": {},
   "outputs": [
    {
     "data": {
      "text/html": [
       "<div>\n",
       "<style scoped>\n",
       "    .dataframe tbody tr th:only-of-type {\n",
       "        vertical-align: middle;\n",
       "    }\n",
       "\n",
       "    .dataframe tbody tr th {\n",
       "        vertical-align: top;\n",
       "    }\n",
       "\n",
       "    .dataframe thead th {\n",
       "        text-align: right;\n",
       "    }\n",
       "</style>\n",
       "<table border=\"1\" class=\"dataframe\">\n",
       "  <thead>\n",
       "    <tr style=\"text-align: right;\">\n",
       "      <th></th>\n",
       "      <th>CS ID</th>\n",
       "      <th>Y</th>\n",
       "      <th>X2</th>\n",
       "      <th>X3</th>\n",
       "      <th>X4</th>\n",
       "      <th>X5</th>\n",
       "    </tr>\n",
       "  </thead>\n",
       "  <tbody>\n",
       "    <tr>\n",
       "      <th>0</th>\n",
       "      <td>1</td>\n",
       "      <td>21.0</td>\n",
       "      <td>160.0</td>\n",
       "      <td>110</td>\n",
       "      <td>3.90</td>\n",
       "      <td>16.46</td>\n",
       "    </tr>\n",
       "    <tr>\n",
       "      <th>1</th>\n",
       "      <td>2</td>\n",
       "      <td>21.0</td>\n",
       "      <td>160.0</td>\n",
       "      <td>110</td>\n",
       "      <td>3.90</td>\n",
       "      <td>17.02</td>\n",
       "    </tr>\n",
       "    <tr>\n",
       "      <th>2</th>\n",
       "      <td>3</td>\n",
       "      <td>22.8</td>\n",
       "      <td>108.0</td>\n",
       "      <td>93</td>\n",
       "      <td>3.85</td>\n",
       "      <td>18.61</td>\n",
       "    </tr>\n",
       "    <tr>\n",
       "      <th>3</th>\n",
       "      <td>4</td>\n",
       "      <td>21.4</td>\n",
       "      <td>258.0</td>\n",
       "      <td>110</td>\n",
       "      <td>3.08</td>\n",
       "      <td>19.44</td>\n",
       "    </tr>\n",
       "    <tr>\n",
       "      <th>4</th>\n",
       "      <td>5</td>\n",
       "      <td>18.7</td>\n",
       "      <td>360.0</td>\n",
       "      <td>175</td>\n",
       "      <td>3.15</td>\n",
       "      <td>17.02</td>\n",
       "    </tr>\n",
       "  </tbody>\n",
       "</table>\n",
       "</div>"
      ],
      "text/plain": [
       "   CS ID     Y     X2   X3    X4     X5\n",
       "0      1  21.0  160.0  110  3.90  16.46\n",
       "1      2  21.0  160.0  110  3.90  17.02\n",
       "2      3  22.8  108.0   93  3.85  18.61\n",
       "3      4  21.4  258.0  110  3.08  19.44\n",
       "4      5  18.7  360.0  175  3.15  17.02"
      ]
     },
     "execution_count": 3,
     "metadata": {},
     "output_type": "execute_result"
    }
   ],
   "source": [
    "df = pd.read_csv('data/EXAM_REGRESSION.csv')\n",
    "df.head()"
   ]
  },
  {
   "cell_type": "code",
   "execution_count": 4,
   "metadata": {},
   "outputs": [],
   "source": [
    "def extract_X(X_names=[\"X2\", \"X3\", \"X4\", \"X5\"]):\n",
    "    X = df[X_names].values    \n",
    "    if len(X_names) == 1:\n",
    "        X = X.reshape(-1, 1)\n",
    "    return X"
   ]
  },
  {
   "cell_type": "code",
   "execution_count": 5,
   "metadata": {},
   "outputs": [],
   "source": [
    "def extract_y(y_name=\"Y\"):\n",
    "    y = df[y_name].values.reshape(-1, 1)\n",
    "    \n",
    "    return y"
   ]
  },
  {
   "cell_type": "code",
   "execution_count": 6,
   "metadata": {},
   "outputs": [],
   "source": [
    "X = df.drop([\"CS ID\", \"Y\"], axis=1).values\n",
    "y = df[\"Y\"].values.reshape(-1, 1)"
   ]
  },
  {
   "cell_type": "markdown",
   "metadata": {},
   "source": [
    "## Specific to general approach"
   ]
  },
  {
   "cell_type": "markdown",
   "metadata": {},
   "source": [
    "**Specific model:** $ y_{i} = \\beta_{1} + \\beta_{2}X_{2i} + u_{i}$"
   ]
  },
  {
   "cell_type": "code",
   "execution_count": 7,
   "metadata": {},
   "outputs": [],
   "source": [
    "X = df.loc[:, \"X2\"].values.reshape(-1, 1)\n",
    "m1 = LinearReg().fit(X, y)"
   ]
  },
  {
   "cell_type": "code",
   "execution_count": 8,
   "metadata": {},
   "outputs": [
    {
     "data": {
      "text/plain": [
       "LinearReg(fit_intercept=True)"
      ]
     },
     "execution_count": 8,
     "metadata": {},
     "output_type": "execute_result"
    }
   ],
   "source": [
    "m1"
   ]
  },
  {
   "cell_type": "markdown",
   "metadata": {},
   "source": [
    "* **Model 1:** $ y_{i} = \\beta_{1} + \\beta_{2}X_{2i} + u_{i}$\n",
    "* **Model 2:** $ y_{i} = \\beta_{1} + \\beta_{2}X_{2i} +  \\beta_{3}X_{3i} + u_{i}$\n",
    "* **Model 3:** $ y_{i} = \\beta_{1} + \\beta_{2}X_{2i} + \\beta_{3}X_{3i} + \\beta_{4}X_{4i} + u_{i}$\n",
    "* **Model 4:** $ y_{i} = \\beta_{1} + \\beta_{2}X_{2i} + \\beta_{3}X_{3i} + \\beta_{4}X_{4i} + \\beta_{5}X_{5i} + u_{i}$\n"
   ]
  },
  {
   "cell_type": "code",
   "execution_count": 9,
   "metadata": {},
   "outputs": [],
   "source": [
    "regrsrs = [\"X3\", \"X4\", \"X5\"]\n",
    "\n",
    "models = [m1] + [None]*len(regrsrs)\n",
    "\n",
    "model_regrsrs = [[\"X2\"]] + [\"\"]*len(regrsrs)\n",
    "lst_regr = [\"X2\"]\n",
    "for i, regr in enumerate(regrsrs):\n",
    "    lst_regr = lst_regr + [regr]\n",
    "    model_regrsrs[i+1] = lst_regr\n",
    "    X = df.loc[:, lst_regr].values\n",
    "    models[i+1] = LinearReg().fit(X, y)\n",
    "    \n",
    "    \n",
    "    "
   ]
  },
  {
   "cell_type": "code",
   "execution_count": 10,
   "metadata": {},
   "outputs": [],
   "source": [
    "rsq_adj = [m.rsq_adj for m in models]"
   ]
  },
  {
   "cell_type": "code",
   "execution_count": 11,
   "metadata": {},
   "outputs": [
    {
     "data": {
      "text/plain": [
       "[['X2'], ['X2', 'X3'], ['X2', 'X3', 'X4'], ['X2', 'X3', 'X4', 'X5']]"
      ]
     },
     "execution_count": 11,
     "metadata": {},
     "output_type": "execute_result"
    }
   ],
   "source": [
    "model_regrsrs"
   ]
  },
  {
   "cell_type": "code",
   "execution_count": 12,
   "metadata": {},
   "outputs": [],
   "source": [
    "model_regrsrs_names = list(map(lambda x: ', '.join(x), model_regrsrs))"
   ]
  },
  {
   "cell_type": "code",
   "execution_count": 13,
   "metadata": {},
   "outputs": [
    {
     "data": {
      "text/plain": [
       "['X2', 'X2, X3', 'X2, X3, X4', 'X2, X3, X4, X5']"
      ]
     },
     "execution_count": 13,
     "metadata": {},
     "output_type": "execute_result"
    }
   ],
   "source": [
    "model_regrsrs_names"
   ]
  },
  {
   "cell_type": "code",
   "execution_count": 14,
   "metadata": {},
   "outputs": [],
   "source": [
    "rsq_adj_df = pd.DataFrame({'rsq_adj': rsq_adj, 'regressors': model_regrsrs_names})"
   ]
  },
  {
   "cell_type": "code",
   "execution_count": 15,
   "metadata": {},
   "outputs": [
    {
     "data": {
      "text/html": [
       "<div>\n",
       "<style scoped>\n",
       "    .dataframe tbody tr th:only-of-type {\n",
       "        vertical-align: middle;\n",
       "    }\n",
       "\n",
       "    .dataframe tbody tr th {\n",
       "        vertical-align: top;\n",
       "    }\n",
       "\n",
       "    .dataframe thead th {\n",
       "        text-align: right;\n",
       "    }\n",
       "</style>\n",
       "<table border=\"1\" class=\"dataframe\">\n",
       "  <thead>\n",
       "    <tr style=\"text-align: right;\">\n",
       "      <th></th>\n",
       "      <th>rsq_adj</th>\n",
       "      <th>regressors</th>\n",
       "    </tr>\n",
       "  </thead>\n",
       "  <tbody>\n",
       "    <tr>\n",
       "      <th>0</th>\n",
       "      <td>0.708955</td>\n",
       "      <td>X2</td>\n",
       "    </tr>\n",
       "    <tr>\n",
       "      <th>1</th>\n",
       "      <td>0.730877</td>\n",
       "      <td>X2, X3</td>\n",
       "    </tr>\n",
       "    <tr>\n",
       "      <th>2</th>\n",
       "      <td>0.750907</td>\n",
       "      <td>X2, X3, X4</td>\n",
       "    </tr>\n",
       "    <tr>\n",
       "      <th>3</th>\n",
       "      <td>0.743540</td>\n",
       "      <td>X2, X3, X4, X5</td>\n",
       "    </tr>\n",
       "  </tbody>\n",
       "</table>\n",
       "</div>"
      ],
      "text/plain": [
       "    rsq_adj      regressors\n",
       "0  0.708955              X2\n",
       "1  0.730877          X2, X3\n",
       "2  0.750907      X2, X3, X4\n",
       "3  0.743540  X2, X3, X4, X5"
      ]
     },
     "execution_count": 15,
     "metadata": {},
     "output_type": "execute_result"
    }
   ],
   "source": [
    "rsq_adj_df"
   ]
  },
  {
   "cell_type": "markdown",
   "metadata": {},
   "source": [
    "So we select $X_{2}, X_{3}, X_{4} $ as the optimum regressors according to the adjusted R squared values"
   ]
  },
  {
   "cell_type": "markdown",
   "metadata": {},
   "source": [
    "$ y_{i} = \\beta_{1} + \\beta_{2}X_{2i} + \\beta_{3}X_{3i} + \\beta_{4}X_{4i} + u_{i}$"
   ]
  },
  {
   "cell_type": "code",
   "execution_count": 16,
   "metadata": {},
   "outputs": [],
   "source": [
    "max_index = rsq_adj_df.rsq_adj.argmax()\n",
    "model = models[max_index]\n",
    "X = df.loc[:, model_regrsrs[max_index]].values\n",
    "y = df.loc[:, \"Y\"].values.reshape(-1, 1)"
   ]
  },
  {
   "cell_type": "markdown",
   "metadata": {},
   "source": [
    "## Check for heteroskedasticity"
   ]
  },
  {
   "cell_type": "code",
   "execution_count": 17,
   "metadata": {},
   "outputs": [],
   "source": [
    "from scipy.stats import f as fdist\n",
    "from scipy.stats import t as tdist\n",
    "from scipy.stats import chi2 as chisq\n",
    "\n",
    "class IncompatibleLinearModelError(Exception):\n",
    "    pass\n",
    "\n",
    "def Ftest_LinearReg(lm1: LinearReg, lm2: LinearReg, sig):\n",
    "    '''Perform the Ftest for two linear model fits of class LinearReg\n",
    "    \n",
    "    The restricted and unrestricted models are automatically assigned\n",
    "    by accessing the k attribute of lm1 and lm2.\n",
    "    \n",
    "    Parameters\n",
    "    ----------\n",
    "    \n",
    "    lm1, lm2: LinearReg\n",
    "        fitted models of class LinearReg\n",
    "        \n",
    "    sig: int, optional (default=0.05)\n",
    "        the significance level of the test\n",
    "        \n",
    "    Return -> True if the test is significant\n",
    "    \n",
    "    '''\n",
    "    if (lm1.n == lm2.n) and (lm1.k != lm2.k): # NOTE: Python 3.8 assign n to a var \n",
    "        n = lm1.n\n",
    "    else:\n",
    "        raise(IncompatibleLinearModelError(\n",
    "            'The linear models were fitted on datasets with varying observations')\n",
    "             )\n",
    "    \n",
    "    lms = [lm1, lm2]\n",
    "    r = np.argmin([lm.k for lm in lms])\n",
    "    ur = [i for i in range(len(lms)) if i != r][0]\n",
    "    \n",
    "    lm_r, lm_ur = lms[r], lms[ur]\n",
    "    \n",
    "    rrss, urss = lm_r.rss, lm_ur.rss\n",
    "    dfn = lm_ur.k - lm_r.k\n",
    "    dfd = n - lm_ur.k\n",
    "    \n",
    "    F_stat = ((rrss - urss)/dfn)/(urss/dfd)\n",
    "    critical_val = fdist.ppf(1 - sig, dfn, dfd)\n",
    "    pval = 1 - fdist.cdf(F_stat, dfn, dfd)\n",
    "\n",
    "    print('F statistic: {:.4f} with dfn: {}, and dfd: {}'.format(F_stat, dfn, dfd))\n",
    "    print('Critical value: {:.4f}'.format(critical_val))\n",
    "    print('p-value: {:.4f}'.format(pval))\n",
    "    \n",
    "    if F_stat > critical_val:\n",
    "        return True\n",
    "    \n",
    "    return False\n",
    "\n",
    "\n",
    "def breusch_pagan(X: np.array, y: np.array, sig):\n",
    "    ''' Breush Pagan test for heteroskedasticity\n",
    "    \n",
    "    Parameters\n",
    "    ----------\n",
    "    X: np.array\n",
    "        Regressor matrix\n",
    "    \n",
    "    y: np.array\n",
    "        Regressand matrix\n",
    "        \n",
    "    '''\n",
    "    lm = LinearReg().fit(X, y)\n",
    "\n",
    "    # residual\n",
    "    res = y - lm.predict(X)\n",
    "\n",
    "    # residual squared\n",
    "    res_sq = res**2\n",
    "\n",
    "    # Null Hypothesis\n",
    "    lm_H0 = LinearReg().fit(None, res_sq)\n",
    "\n",
    "    # Alternate Hypothesis\n",
    "    # Now regress the res_sq on X\n",
    "    lm_H1 = LinearReg().fit(X, res_sq)\n",
    "    \n",
    "    return(Ftest_LinearReg(lm_H0, lm_H1, sig))"
   ]
  },
  {
   "cell_type": "markdown",
   "metadata": {},
   "source": [
    "Conducting Breusch pagan test at $\\alpha = 0.05$ significance level"
   ]
  },
  {
   "cell_type": "markdown",
   "metadata": {},
   "source": [
    "$u_{i}^{2} = \\alpha_{1} + \\alpha_{2}X_{2i} + \\alpha_{3}X_{3i} + + \\alpha_{4}X_{4i} + e_{i}$ where $e_{i} \\sim N(0, \\sigma_{e}^{2})$"
   ]
  },
  {
   "cell_type": "markdown",
   "metadata": {},
   "source": [
    "$H_{0}: \\alpha_{2} = \\alpha_{3} = \\alpha_{4} = 0$ <br />\n",
    "$H_{1}: atleast \\ one \\ \\alpha_{i} \\neq 0  \\ \\ \\forall \\ i = 2, 3, 4$"
   ]
  },
  {
   "cell_type": "code",
   "execution_count": 18,
   "metadata": {},
   "outputs": [
    {
     "name": "stdout",
     "output_type": "stream",
     "text": [
      "F statistic: 1.1571 with dfn: 3, and dfd: 28\n",
      "Critical value: 2.9467\n",
      "p-value: 0.3436\n"
     ]
    },
    {
     "data": {
      "text/plain": [
       "False"
      ]
     },
     "execution_count": 18,
     "metadata": {},
     "output_type": "execute_result"
    }
   ],
   "source": [
    "breusch_pagan(X, y, 0.05)"
   ]
  },
  {
   "cell_type": "markdown",
   "metadata": {},
   "source": [
    "As pvalue > 0.05, so Heteroskedasticity does not exist in our specified model."
   ]
  },
  {
   "cell_type": "markdown",
   "metadata": {},
   "source": [
    "## Joint hypothesis testing"
   ]
  },
  {
   "cell_type": "markdown",
   "metadata": {},
   "source": [
    "**NOTE**: $u_{i} \\sim N(0, \\sigma^{2})$"
   ]
  },
  {
   "cell_type": "markdown",
   "metadata": {},
   "source": [
    "$H_{0}: \\beta_{2} = 0$ <br/>\n",
    "$H_{1}: \\beta_{2} \\lt 0$ "
   ]
  },
  {
   "cell_type": "markdown",
   "metadata": {},
   "source": [
    "**Restricted Model:** <br/> <br/>\n",
    "$ y^{*}_{i} = \\beta_{1} + \\beta_{3}X_{3i} + \\beta_{4}X_{4i} + u_{i}$ \n",
    "<br/> \n",
    "where $y^{*}_{i} = y_{i}$\n",
    "<br/>\n",
    "\n",
    "**Unrestricted Model:** <br/> <br/> \n",
    "$ y_{i} = \\beta_{1} + \\beta_{2}X_{2i} + \\beta_{3}X_{3i} + \\beta_{4}X_{4i} + u_{i}$\n",
    "<br/> <br/>"
   ]
  },
  {
   "cell_type": "code",
   "execution_count": 19,
   "metadata": {},
   "outputs": [],
   "source": [
    "X = extract_X()\n",
    "y = extract_y()"
   ]
  },
  {
   "cell_type": "code",
   "execution_count": 20,
   "metadata": {},
   "outputs": [],
   "source": [
    "lm_ur = model # The optimum model obtained above is the unrestricted model"
   ]
  },
  {
   "cell_type": "code",
   "execution_count": 21,
   "metadata": {},
   "outputs": [],
   "source": [
    "X_star= extract_X([\"X3\", \"X4\"])\n",
    "y_star = y"
   ]
  },
  {
   "cell_type": "code",
   "execution_count": 22,
   "metadata": {},
   "outputs": [],
   "source": [
    "lm_r = LinearReg().fit(X_star, y_star)"
   ]
  },
  {
   "cell_type": "code",
   "execution_count": 23,
   "metadata": {},
   "outputs": [
    {
     "data": {
      "text/plain": [
       "array([-3.11905337])"
      ]
     },
     "execution_count": 23,
     "metadata": {},
     "output_type": "execute_result"
    }
   ],
   "source": [
    "(lm_ur.beta_hat[1] - 0)/(lm_ur.beta_hat_var[1, 1]**(1/2))"
   ]
  },
  {
   "cell_type": "code",
   "execution_count": 24,
   "metadata": {},
   "outputs": [
    {
     "name": "stdout",
     "output_type": "stream",
     "text": [
      "F statistic: 4.2116 with dfn: 1, and dfd: 28\n",
      "Critical value: 4.1960\n",
      "p-value: 0.0496\n"
     ]
    },
    {
     "data": {
      "text/plain": [
       "True"
      ]
     },
     "execution_count": 24,
     "metadata": {},
     "output_type": "execute_result"
    }
   ],
   "source": [
    "Ftest_LinearReg(lm_r, lm_ur, 0.05)"
   ]
  },
  {
   "cell_type": "markdown",
   "metadata": {},
   "source": [
    "Conducting t-test"
   ]
  },
  {
   "cell_type": "code",
   "execution_count": 25,
   "metadata": {},
   "outputs": [],
   "source": [
    "sig = 0.05\n",
    "t_stat = (lm_ur.beta_hat[1] - 0)/(lm_ur.beta_hat_var[1, 1]**(1/2))\n",
    "n, k = lm_ur.n, lm_ur.k\n",
    "t_critical = tdist.ppf(q=[sig], df=n-k) # left tail probability\n",
    "pval = 1 - tdist.cdf(abs(t_stat), n-k)"
   ]
  },
  {
   "cell_type": "code",
   "execution_count": 26,
   "metadata": {},
   "outputs": [
    {
     "data": {
      "text/plain": [
       "array([-1.70113093])"
      ]
     },
     "execution_count": 26,
     "metadata": {},
     "output_type": "execute_result"
    }
   ],
   "source": [
    "t_critical"
   ]
  },
  {
   "cell_type": "code",
   "execution_count": 27,
   "metadata": {},
   "outputs": [
    {
     "name": "stdout",
     "output_type": "stream",
     "text": [
      "The result is significant at alpha = 0.050\n",
      "Reject Null in favour of the alternate\n"
     ]
    }
   ],
   "source": [
    "if abs(t_stat) > abs(t_critical):\n",
    "    print('The result is significant at alpha = {:.3f}'.format(sig))\n",
    "    print('Reject Null in favour of the alternate')"
   ]
  },
  {
   "cell_type": "code",
   "execution_count": 28,
   "metadata": {},
   "outputs": [
    {
     "data": {
      "text/plain": [
       "(array([-1.70113093]), array([-3.11905337]), array([0.00208777]))"
      ]
     },
     "execution_count": 28,
     "metadata": {},
     "output_type": "execute_result"
    }
   ],
   "source": [
    "t_critical, t_stat, pval"
   ]
  },
  {
   "cell_type": "markdown",
   "metadata": {},
   "source": [
    "$p-value < 0.05 \\implies$ Reject $H_{0}$ in favour of the alternate i.e. $H_{1}$"
   ]
  },
  {
   "cell_type": "markdown",
   "metadata": {},
   "source": [
    "$H_{0}: \\beta_{3} = 4$ <br/>\n",
    "$H_{1}: \\beta_{3} \\neq 4$ "
   ]
  },
  {
   "cell_type": "markdown",
   "metadata": {},
   "source": [
    "**Restricted Model:** <br/> <br/>\n",
    "$ y^{*}_{i} = \\beta_{1}  + \\beta_{2}X_{2i} + \\beta_{4}X_{4i} + u_{i}$\n",
    "<br/>\n",
    "where $y^{*}_{i} = y_{i} - 4X_{3i}$\n",
    "<br/>\n",
    "\n",
    "**Unrestricted Model:** <br/> <br/> \n",
    "$ y_{i} = \\beta_{1} + \\beta_{2}X_{2i} + \\beta_{3}X_{3i} + \\beta_{4}X_{4i} + u_{i}$\n",
    "<br/> <br/>"
   ]
  },
  {
   "cell_type": "code",
   "execution_count": 29,
   "metadata": {},
   "outputs": [],
   "source": [
    "X_star = extract_X([\"X2\", \"X4\"])\n",
    "y_star = y - 4*extract_X([\"X3\"])"
   ]
  },
  {
   "cell_type": "code",
   "execution_count": 30,
   "metadata": {},
   "outputs": [
    {
     "name": "stdout",
     "output_type": "stream",
     "text": [
      "F statistic: 91251.4180 with dfn: 1, and dfd: 28\n",
      "Critical value: 4.1960\n",
      "p-value: 0.0000\n"
     ]
    },
    {
     "data": {
      "text/plain": [
       "True"
      ]
     },
     "execution_count": 30,
     "metadata": {},
     "output_type": "execute_result"
    }
   ],
   "source": [
    "lm_r = LinearReg().fit(X_star, y_star)\n",
    "\n",
    "Ftest_LinearReg(lm_r, lm_ur, 0.05)"
   ]
  },
  {
   "cell_type": "markdown",
   "metadata": {},
   "source": [
    "$p-value < 0.05 \\implies$ Reject $H_{0}$ in favour of the alternate i.e. $H_{1}$"
   ]
  },
  {
   "cell_type": "markdown",
   "metadata": {},
   "source": [
    "$H_{0}: 5\\beta_{2} + 4\\beta_{3} = 10$ <br/>\n",
    "$H_{1}: 5\\beta_{2} + 4\\beta_{3} \\neq 10$ <br/>"
   ]
  },
  {
   "cell_type": "markdown",
   "metadata": {},
   "source": [
    "**Restricted Model:** <br/> <br/>\n",
    "$ y^{*}_{i} = \\beta_{1} + \\beta_{2}X^{*}_{2i} + \\beta_{4}X_{4i} + u_{i}$\n",
    "<br/>\n",
    "where $y^{*}_{i} = y_{i} - \\frac{10}{4}X_{3i}$ and $X^{*}_{2i} = X_{2i} - \\frac{5}{4}X_{3i}$\n",
    "<br/>\n",
    "\n",
    "**Unrestricted Model:** <br/> <br/> \n",
    "$ y_{i} = \\beta_{1} + \\beta_{2}X_{2i} + \\beta_{3}X_{3i} + \\beta_{4}X_{4i} + u_{i}$\n",
    "<br/> <br/>"
   ]
  },
  {
   "cell_type": "code",
   "execution_count": 31,
   "metadata": {},
   "outputs": [],
   "source": [
    "X_star = extract_X([\"X2\", \"X4\"])\n",
    "X_star[:, 0] = X_star[:, 0] - (5/4)*extract_X([\"X3\"]).ravel()\n",
    "y_star = y - (10/4)*extract_X([\"X3\"])\n",
    "\n",
    "lm_r = LinearReg().fit(X_star, y_star)"
   ]
  },
  {
   "cell_type": "code",
   "execution_count": 32,
   "metadata": {},
   "outputs": [
    {
     "name": "stdout",
     "output_type": "stream",
     "text": [
      "F statistic: 80983.3929 with dfn: 1, and dfd: 28\n",
      "Critical value: 4.1960\n",
      "p-value: 0.0000\n"
     ]
    },
    {
     "data": {
      "text/plain": [
       "True"
      ]
     },
     "execution_count": 32,
     "metadata": {},
     "output_type": "execute_result"
    }
   ],
   "source": [
    "Ftest_LinearReg(lm_r, lm_ur, 0.05)"
   ]
  },
  {
   "cell_type": "markdown",
   "metadata": {},
   "source": [
    "$p-value < 0.05 \\implies$ Reject $H_{0}$ in favour of the alternate i.e. $H_{1}$"
   ]
  },
  {
   "cell_type": "markdown",
   "metadata": {},
   "source": [
    "$H_{0}: \\beta_{2} = \\beta_{3} = 0$ <br/>\n",
    "$H_{1}: Atleast \\ one \\ \\beta_{i} \\neq 0$ "
   ]
  },
  {
   "cell_type": "markdown",
   "metadata": {},
   "source": [
    "**Restricted Model:** <br/> <br/>\n",
    "$ y^{*}_{i} = \\beta_{1} + \\beta_{4}X_{4i} + u_{i}$\n",
    "<br/>\n",
    "where $y^{*}_{i} = y_{i}$\n",
    "<br/>\n",
    "\n",
    "**Unrestricted Model:** <br/> <br/> \n",
    "$ y_{i} = \\beta_{1} + \\beta_{2}X_{2i} + \\beta_{3}X_{3i} + \\beta_{4}X_{4i} + u_{i}$\n",
    "<br/> <br/>"
   ]
  },
  {
   "cell_type": "code",
   "execution_count": 33,
   "metadata": {},
   "outputs": [],
   "source": [
    "X_star = extract_X([\"X4\"])\n",
    "y_star = y\n",
    "\n",
    "lm_r = LinearReg().fit(X_star, y_star)"
   ]
  },
  {
   "cell_type": "code",
   "execution_count": 34,
   "metadata": {},
   "outputs": [
    {
     "name": "stdout",
     "output_type": "stream",
     "text": [
      "F statistic: 19.3533 with dfn: 2, and dfd: 28\n",
      "Critical value: 3.3404\n",
      "p-value: 0.0000\n"
     ]
    },
    {
     "data": {
      "text/plain": [
       "True"
      ]
     },
     "execution_count": 34,
     "metadata": {},
     "output_type": "execute_result"
    }
   ],
   "source": [
    "Ftest_LinearReg(lm_r, lm_ur, 0.05)"
   ]
  },
  {
   "cell_type": "markdown",
   "metadata": {},
   "source": [
    "$p-value < 0.05 \\implies$ Reject $H_{0}$ in favour of the alternate i.e. $H_{1}$"
   ]
  },
  {
   "cell_type": "markdown",
   "metadata": {},
   "source": [
    "## Network of friends"
   ]
  },
  {
   "cell_type": "code",
   "execution_count": 35,
   "metadata": {},
   "outputs": [],
   "source": [
    "friends_graph = {'A': ['E', 'B'],\n",
    "                 'B': ['A', 'C'],\n",
    "                 'C': ['B', 'E', 'D'],\n",
    "                 'D': ['C', 'E'],\n",
    "                 'E': ['A', 'D', 'C']}\n",
    "\n",
    "people = list(friends_graph.keys())\n",
    "n = len(friends_graph.keys())"
   ]
  },
  {
   "cell_type": "code",
   "execution_count": 36,
   "metadata": {},
   "outputs": [],
   "source": [
    "def are_friends(p1, p2):\n",
    "    '''\n",
    "    '''\n",
    "    if p2 in friends_graph[p1]:\n",
    "        return True\n",
    "    \n",
    "    return False\n",
    "\n",
    "def get_person(index):\n",
    "    return people_dict[index]\n",
    "\n",
    "def get_index(person):\n",
    "    return [i for i in range(n) if get_person(i) == person][0]"
   ]
  },
  {
   "cell_type": "code",
   "execution_count": 37,
   "metadata": {},
   "outputs": [],
   "source": [
    "people_dict = dict(zip(range(n), people))"
   ]
  },
  {
   "cell_type": "code",
   "execution_count": 38,
   "metadata": {},
   "outputs": [
    {
     "data": {
      "text/plain": [
       "{0: 'A', 1: 'B', 2: 'C', 3: 'D', 4: 'E'}"
      ]
     },
     "execution_count": 38,
     "metadata": {},
     "output_type": "execute_result"
    }
   ],
   "source": [
    "people_dict"
   ]
  },
  {
   "cell_type": "code",
   "execution_count": 39,
   "metadata": {},
   "outputs": [],
   "source": [
    "friend = np.zeros((n, n))"
   ]
  },
  {
   "cell_type": "code",
   "execution_count": 40,
   "metadata": {},
   "outputs": [
    {
     "data": {
      "text/plain": [
       "array([[0., 0., 0., 0., 0.],\n",
       "       [0., 0., 0., 0., 0.],\n",
       "       [0., 0., 0., 0., 0.],\n",
       "       [0., 0., 0., 0., 0.],\n",
       "       [0., 0., 0., 0., 0.]])"
      ]
     },
     "execution_count": 40,
     "metadata": {},
     "output_type": "execute_result"
    }
   ],
   "source": [
    "friend"
   ]
  },
  {
   "cell_type": "markdown",
   "metadata": {},
   "source": [
    "If two persons are friends, put 1 in the matrix $Friend$"
   ]
  },
  {
   "cell_type": "code",
   "execution_count": 41,
   "metadata": {},
   "outputs": [],
   "source": [
    "for i in range(n):\n",
    "    for j in range(n):\n",
    "        if i == j:\n",
    "            friend[i][j] = 0\n",
    "        else:\n",
    "            person1, person2 = get_person(i), get_person(j)\n",
    "            if are_friends(person1, person2):\n",
    "                friend[i][j] = 1\n",
    "    "
   ]
  },
  {
   "cell_type": "code",
   "execution_count": 42,
   "metadata": {},
   "outputs": [
    {
     "data": {
      "text/plain": [
       "array([[0., 1., 0., 0., 1.],\n",
       "       [1., 0., 1., 0., 0.],\n",
       "       [0., 1., 0., 1., 1.],\n",
       "       [0., 0., 1., 0., 1.],\n",
       "       [1., 0., 1., 1., 0.]])"
      ]
     },
     "execution_count": 42,
     "metadata": {},
     "output_type": "execute_result"
    }
   ],
   "source": [
    "friend"
   ]
  },
  {
   "cell_type": "markdown",
   "metadata": {},
   "source": [
    "$Friend^{2}$ matrix indicates the number of mutual friends. Diagonal elements indicate the number of friends a person has."
   ]
  },
  {
   "cell_type": "code",
   "execution_count": 43,
   "metadata": {},
   "outputs": [],
   "source": [
    "friend_sq = friend@friend"
   ]
  },
  {
   "cell_type": "code",
   "execution_count": 44,
   "metadata": {},
   "outputs": [
    {
     "data": {
      "text/plain": [
       "array([[2., 0., 2., 1., 0.],\n",
       "       [0., 2., 0., 1., 2.],\n",
       "       [2., 0., 3., 1., 1.],\n",
       "       [1., 1., 1., 2., 1.],\n",
       "       [0., 2., 1., 1., 3.]])"
      ]
     },
     "execution_count": 44,
     "metadata": {},
     "output_type": "execute_result"
    }
   ],
   "source": [
    "friend_sq"
   ]
  },
  {
   "cell_type": "code",
   "execution_count": 45,
   "metadata": {},
   "outputs": [],
   "source": [
    "def get_number_mutual(p1, p2):\n",
    "    i, j = get_index(p1), get_index(p2)\n",
    "    \n",
    "    return int(friend_sq[i][j])\n",
    "    "
   ]
  },
  {
   "cell_type": "code",
   "execution_count": 46,
   "metadata": {},
   "outputs": [
    {
     "data": {
      "text/plain": [
       "1"
      ]
     },
     "execution_count": 46,
     "metadata": {},
     "output_type": "execute_result"
    }
   ],
   "source": [
    "get_number_mutual('C', 'E')"
   ]
  },
  {
   "cell_type": "code",
   "execution_count": null,
   "metadata": {},
   "outputs": [],
   "source": []
  }
 ],
 "metadata": {
  "kernelspec": {
   "display_name": "Python 3",
   "language": "python",
   "name": "python3"
  },
  "language_info": {
   "codemirror_mode": {
    "name": "ipython",
    "version": 3
   },
   "file_extension": ".py",
   "mimetype": "text/x-python",
   "name": "python",
   "nbconvert_exporter": "python",
   "pygments_lexer": "ipython3",
   "version": "3.7.6"
  }
 },
 "nbformat": 4,
 "nbformat_minor": 4
}
