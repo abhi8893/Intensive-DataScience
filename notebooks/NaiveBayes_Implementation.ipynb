{
 "cells": [
  {
   "cell_type": "markdown",
   "metadata": {},
   "source": [
    "# Naive Bayes Implementation"
   ]
  },
  {
   "cell_type": "code",
   "execution_count": 397,
   "metadata": {
    "ExecuteTime": {
     "end_time": "2020-02-25T17:51:58.421478Z",
     "start_time": "2020-02-25T17:51:58.417370Z"
    }
   },
   "outputs": [],
   "source": [
    "import numpy as np\n",
    "import pandas as pd\n",
    "from sklearn.datasets import load_iris\n",
    "from sklearn.model_selection import train_test_split\n",
    "from sklearn.metrics import accuracy_score\n",
    "from sklearn.base import BaseEstimator, ClassifierMixin\n",
    "\n",
    "from sklearn.model_selection import cross_val_score"
   ]
  },
  {
   "cell_type": "code",
   "execution_count": 398,
   "metadata": {
    "ExecuteTime": {
     "end_time": "2020-02-25T17:51:58.641098Z",
     "start_time": "2020-02-25T17:51:58.617488Z"
    }
   },
   "outputs": [],
   "source": [
    "iris = load_iris()\n",
    "X, y = iris.data, iris.target\n",
    "X_train, X_test, y_train, y_test = train_test_split(X, y, test_size=0.3, random_state=10)"
   ]
  },
  {
   "cell_type": "code",
   "execution_count": 399,
   "metadata": {
    "ExecuteTime": {
     "end_time": "2020-02-25T17:51:58.800280Z",
     "start_time": "2020-02-25T17:51:58.787056Z"
    }
   },
   "outputs": [],
   "source": [
    "df = pd.DataFrame(np.c_[iris['data'], iris['target']], \n",
    "                 columns=iris.feature_names + ['species'])"
   ]
  },
  {
   "cell_type": "code",
   "execution_count": 400,
   "metadata": {
    "ExecuteTime": {
     "end_time": "2020-02-25T17:51:58.998948Z",
     "start_time": "2020-02-25T17:51:58.957979Z"
    }
   },
   "outputs": [
    {
     "data": {
      "text/html": [
       "<div>\n",
       "<style scoped>\n",
       "    .dataframe tbody tr th:only-of-type {\n",
       "        vertical-align: middle;\n",
       "    }\n",
       "\n",
       "    .dataframe tbody tr th {\n",
       "        vertical-align: top;\n",
       "    }\n",
       "\n",
       "    .dataframe thead th {\n",
       "        text-align: right;\n",
       "    }\n",
       "</style>\n",
       "<table border=\"1\" class=\"dataframe\">\n",
       "  <thead>\n",
       "    <tr style=\"text-align: right;\">\n",
       "      <th></th>\n",
       "      <th>sepal length (cm)</th>\n",
       "      <th>sepal width (cm)</th>\n",
       "      <th>petal length (cm)</th>\n",
       "      <th>petal width (cm)</th>\n",
       "      <th>species</th>\n",
       "    </tr>\n",
       "  </thead>\n",
       "  <tbody>\n",
       "    <tr>\n",
       "      <td>0</td>\n",
       "      <td>5.1</td>\n",
       "      <td>3.5</td>\n",
       "      <td>1.4</td>\n",
       "      <td>0.2</td>\n",
       "      <td>0.0</td>\n",
       "    </tr>\n",
       "    <tr>\n",
       "      <td>1</td>\n",
       "      <td>4.9</td>\n",
       "      <td>3.0</td>\n",
       "      <td>1.4</td>\n",
       "      <td>0.2</td>\n",
       "      <td>0.0</td>\n",
       "    </tr>\n",
       "    <tr>\n",
       "      <td>2</td>\n",
       "      <td>4.7</td>\n",
       "      <td>3.2</td>\n",
       "      <td>1.3</td>\n",
       "      <td>0.2</td>\n",
       "      <td>0.0</td>\n",
       "    </tr>\n",
       "    <tr>\n",
       "      <td>3</td>\n",
       "      <td>4.6</td>\n",
       "      <td>3.1</td>\n",
       "      <td>1.5</td>\n",
       "      <td>0.2</td>\n",
       "      <td>0.0</td>\n",
       "    </tr>\n",
       "    <tr>\n",
       "      <td>4</td>\n",
       "      <td>5.0</td>\n",
       "      <td>3.6</td>\n",
       "      <td>1.4</td>\n",
       "      <td>0.2</td>\n",
       "      <td>0.0</td>\n",
       "    </tr>\n",
       "  </tbody>\n",
       "</table>\n",
       "</div>"
      ],
      "text/plain": [
       "   sepal length (cm)  sepal width (cm)  petal length (cm)  petal width (cm)  \\\n",
       "0                5.1               3.5                1.4               0.2   \n",
       "1                4.9               3.0                1.4               0.2   \n",
       "2                4.7               3.2                1.3               0.2   \n",
       "3                4.6               3.1                1.5               0.2   \n",
       "4                5.0               3.6                1.4               0.2   \n",
       "\n",
       "   species  \n",
       "0      0.0  \n",
       "1      0.0  \n",
       "2      0.0  \n",
       "3      0.0  \n",
       "4      0.0  "
      ]
     },
     "execution_count": 400,
     "metadata": {},
     "output_type": "execute_result"
    }
   ],
   "source": [
    "df.head()"
   ]
  },
  {
   "cell_type": "markdown",
   "metadata": {},
   "source": [
    "## Naive Bayes"
   ]
  },
  {
   "cell_type": "code",
   "execution_count": 381,
   "metadata": {
    "ExecuteTime": {
     "end_time": "2020-02-25T17:46:47.967122Z",
     "start_time": "2020-02-25T17:46:47.934354Z"
    }
   },
   "outputs": [],
   "source": [
    "def estimate_priors(y):\n",
    "    return np.bincount(y)/len(y)\n",
    "\n",
    "def fit_gaussian(X, indep=False):\n",
    "    mu = np.mean(X, 0)\n",
    "    if indep:\n",
    "        sigma = np.diag(np.std(X, 0))\n",
    "    else:\n",
    "        sigma = np.cov(X.T)\n",
    "    \n",
    "    return (mu, sigma)\n",
    "\n",
    "# TODO: Vectorized over a matrix (X)\n",
    "def dmvn(x, mu, sigma, log=False):\n",
    "    n = mu.shape[0]\n",
    "    pi = np.pi\n",
    "    sigma_inv = np.linalg.inv(sigma)\n",
    "    x_mu = x-mu\n",
    "    denom = ((2*pi)**(n/2)) * np.linalg.det(sigma)**(1/2)    \n",
    "    dens = np.exp(-((x_mu).T @ sigma_inv @ (x_mu))/2)/denom\n",
    "    if log:\n",
    "        dens = np.log(dens)\n",
    "        \n",
    "    return dens\n",
    "\n",
    "# TODO: Vectorized splitting\n",
    "def split(X, y):\n",
    "    grps = np.unique(y)\n",
    "    n = len(grps)\n",
    "    arr = [0]*n\n",
    "    for i, grp in enumerate(grps):\n",
    "        arr[i] = X[y==grp, :]\n",
    "        \n",
    "    return arr"
   ]
  },
  {
   "cell_type": "code",
   "execution_count": 396,
   "metadata": {
    "ExecuteTime": {
     "end_time": "2020-02-25T17:51:20.075391Z",
     "start_time": "2020-02-25T17:51:20.046496Z"
    }
   },
   "outputs": [],
   "source": [
    "class GaussianNaiveBayes(BaseEstimator, ClassifierMixin):\n",
    "    '''Gaussian Naive Bayes classifier\n",
    "    \n",
    "    Parameters\n",
    "    ----------\n",
    "    \n",
    "    priors : array-like, shape (n_classes,)\n",
    "        Prior probabilities of the classes. If specified the priors are not\n",
    "        adjusted according to the data.\n",
    "    \n",
    "    indep: bool, optional (default=False)\n",
    "        Whether the features are assumed to be independent (default) or not.\n",
    "        \n",
    "    '''\n",
    "    def __init__(self, priors=None, indep=False):\n",
    "        self.indep = indep\n",
    "        self.priors_ = priors # CHECK: Will naming differently cause a problem?\n",
    "    \n",
    "    def fit(self, X, y):\n",
    "        spltd = split(X, y)\n",
    "        self.priors_ = estimate_priors(y)\n",
    "        self.ngrps_ = len(self.priors_)\n",
    "        self.dens_ = [None]*self.ngrps_\n",
    "        self.params_ = [fit_gaussian(x, self.indep) for x in spltd]\n",
    "        \n",
    "        # TODO: Vectorize\n",
    "        for i, x in enumerate(spltd):\n",
    "            self.dens_ = lambda xi, i: dmvn(xi, *self.params_[i])\n",
    "            \n",
    "        return self\n",
    "    \n",
    "    def _get_posterior_dens(self, X):\n",
    "        posterior = np.array([[self.dens_(x, i)*self.priors_[i] \n",
    "                               for i in range(self.ngrps_)]\n",
    "                              for x in X])\n",
    "        \n",
    "        return posterior/posterior.sum(1).reshape(-1, 1)\n",
    "    \n",
    "    def predict(self, X):\n",
    "        posterior = self._get_posterior_dens(X)\n",
    "        return posterior.argmax(1)\n",
    "    \n",
    "    def predict_proba(self, X):\n",
    "        return self._get_posterior_dens(X)\n",
    "        \n",
    "        "
   ]
  },
  {
   "cell_type": "code",
   "execution_count": 391,
   "metadata": {
    "ExecuteTime": {
     "end_time": "2020-02-25T17:50:41.274344Z",
     "start_time": "2020-02-25T17:50:41.247962Z"
    }
   },
   "outputs": [
    {
     "data": {
      "text/plain": [
       "GaussianNaiveBayes(indep=False, priors=None)"
      ]
     },
     "execution_count": 391,
     "metadata": {},
     "output_type": "execute_result"
    }
   ],
   "source": [
    "gnb = GaussianNaiveBayes()\n",
    "gnb.fit(X_train, y_train)"
   ]
  },
  {
   "cell_type": "code",
   "execution_count": 392,
   "metadata": {
    "ExecuteTime": {
     "end_time": "2020-02-25T17:50:43.938255Z",
     "start_time": "2020-02-25T17:50:43.931221Z"
    }
   },
   "outputs": [
    {
     "data": {
      "text/plain": [
       "array([1, 2, 0, 1, 0, 1, 1, 1, 0, 1, 1, 2, 1, 0, 0, 2, 1, 0, 0, 0, 2, 2,\n",
       "       2, 0, 1, 0, 1, 1, 1, 2, 1, 1, 2, 2, 2, 0, 2, 2, 2, 2, 0, 0, 1, 0,\n",
       "       1])"
      ]
     },
     "execution_count": 392,
     "metadata": {},
     "output_type": "execute_result"
    }
   ],
   "source": [
    "preds = gnb.predict(X_test)\n",
    "preds"
   ]
  },
  {
   "cell_type": "code",
   "execution_count": 393,
   "metadata": {
    "ExecuteTime": {
     "end_time": "2020-02-25T17:50:44.632233Z",
     "start_time": "2020-02-25T17:50:44.611193Z"
    }
   },
   "outputs": [
    {
     "data": {
      "text/plain": [
       "1.0"
      ]
     },
     "execution_count": 393,
     "metadata": {},
     "output_type": "execute_result"
    }
   ],
   "source": [
    "accuracy_score(y_test, preds)"
   ]
  },
  {
   "cell_type": "code",
   "execution_count": 394,
   "metadata": {
    "ExecuteTime": {
     "end_time": "2020-02-25T17:50:45.181142Z",
     "start_time": "2020-02-25T17:50:45.162611Z"
    }
   },
   "outputs": [],
   "source": [
    "gnb_sk = GaussianNB()\n",
    "gnb_sk.fit(X_train, y_train)\n",
    "preds_sk = gnb_sk.predict(X_test)"
   ]
  },
  {
   "cell_type": "code",
   "execution_count": 395,
   "metadata": {
    "ExecuteTime": {
     "end_time": "2020-02-25T17:50:45.911202Z",
     "start_time": "2020-02-25T17:50:45.893702Z"
    }
   },
   "outputs": [
    {
     "data": {
      "text/plain": [
       "1.0"
      ]
     },
     "execution_count": 395,
     "metadata": {},
     "output_type": "execute_result"
    }
   ],
   "source": [
    "accuracy_score(y_test, preds_sk)"
   ]
  },
  {
   "cell_type": "code",
   "execution_count": null,
   "metadata": {},
   "outputs": [],
   "source": []
  }
 ],
 "metadata": {
  "kernelspec": {
   "display_name": "Python 3",
   "language": "python",
   "name": "python3"
  },
  "language_info": {
   "codemirror_mode": {
    "name": "ipython",
    "version": 3
   },
   "file_extension": ".py",
   "mimetype": "text/x-python",
   "name": "python",
   "nbconvert_exporter": "python",
   "pygments_lexer": "ipython3",
   "version": "3.7.4"
  },
  "toc": {
   "base_numbering": 1,
   "nav_menu": {},
   "number_sections": true,
   "sideBar": true,
   "skip_h1_title": false,
   "title_cell": "Table of Contents",
   "title_sidebar": "Contents",
   "toc_cell": false,
   "toc_position": {},
   "toc_section_display": true,
   "toc_window_display": false
  }
 },
 "nbformat": 4,
 "nbformat_minor": 4
}
