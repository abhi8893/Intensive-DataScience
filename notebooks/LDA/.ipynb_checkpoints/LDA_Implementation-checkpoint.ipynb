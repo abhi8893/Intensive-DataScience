{
 "cells": [
  {
   "cell_type": "markdown",
   "metadata": {},
   "source": [
    "# Linear Discriminant Analysis \n",
    "\n",
    "Refer: [LDA in Python: Sebastian raschka blog](https://sebastianraschka.com/Articles/2014_python_lda.html)"
   ]
  },
  {
   "cell_type": "code",
   "execution_count": 1,
   "metadata": {
    "ExecuteTime": {
     "end_time": "2020-02-25T20:40:59.466130Z",
     "start_time": "2020-02-25T20:40:59.448044Z"
    }
   },
   "outputs": [],
   "source": [
    "import pandas as pd\n",
    "import numpy as np\n",
    "from sklearn.discriminant_analysis import LinearDiscriminantAnalysis\n",
    "from sklearn.base import BaseEstimator, ClassifierMixin\n",
    "from sklearn.datasets import load_iris"
   ]
  },
  {
   "cell_type": "code",
   "execution_count": 2,
   "metadata": {
    "ExecuteTime": {
     "end_time": "2020-02-25T20:40:59.711793Z",
     "start_time": "2020-02-25T20:40:59.689563Z"
    }
   },
   "outputs": [],
   "source": [
    "iris = load_iris()\n",
    "X, y = iris.data, iris.target"
   ]
  },
  {
   "cell_type": "code",
   "execution_count": 3,
   "metadata": {
    "ExecuteTime": {
     "end_time": "2020-02-25T20:40:59.941106Z",
     "start_time": "2020-02-25T20:40:59.913693Z"
    }
   },
   "outputs": [],
   "source": [
    "# TODO: Vectorized splitting\n",
    "def split(X, y):\n",
    "    grps = np.unique(y)\n",
    "    n = len(grps)\n",
    "    arr = [0]*n\n",
    "    for i, grp in enumerate(grps):\n",
    "        arr[i] = X[y==grp, :]\n",
    "        \n",
    "    return arr\n",
    "\n",
    "def within_class_scatter(X):\n",
    "    n = X.shape[0]\n",
    "    return np.cov(X.T)*(n-1)\n",
    "\n",
    "def between_class_scatter(MU, N):\n",
    "    n = MU.shape[0]\n",
    "    return np.cov(MU.T)\n",
    "    \n",
    "    "
   ]
  },
  {
   "cell_type": "code",
   "execution_count": 4,
   "metadata": {
    "ExecuteTime": {
     "end_time": "2020-02-25T20:41:00.334464Z",
     "start_time": "2020-02-25T20:41:00.307354Z"
    }
   },
   "outputs": [
    {
     "data": {
      "text/plain": [
       "LinearDiscriminantAnalysis(n_components=None, priors=None, shrinkage=None,\n",
       "                           solver='svd', store_covariance=False, tol=0.0001)"
      ]
     },
     "execution_count": 4,
     "metadata": {},
     "output_type": "execute_result"
    }
   ],
   "source": [
    "LinearDiscriminantAnalysis()"
   ]
  },
  {
   "cell_type": "code",
   "execution_count": 63,
   "metadata": {
    "ExecuteTime": {
     "end_time": "2020-02-25T20:41:00.768456Z",
     "start_time": "2020-02-25T20:41:00.720261Z"
    }
   },
   "outputs": [],
   "source": [
    "class LDA(BaseEstimator, ClassifierMixin):\n",
    "    '''Linear Discriminant Analysis Classifier\n",
    "    \n",
    "    Parameters\n",
    "    ----------\n",
    "    \n",
    "    n_components : int, optional (default=None)\n",
    "        Number of components (<= min(n_classes - 1, n_features)) for\n",
    "        dimensionality reduction. If None, will be set to\n",
    "        min(n_classes - 1, n_features)        \n",
    "        \n",
    "    '''\n",
    "    \n",
    "    \n",
    "    \n",
    "    def __init__(self, n_components=None):\n",
    "        self.n_components = n_components\n",
    "        \n",
    "    \n",
    "    def fit(self, X, y):\n",
    "        \n",
    "        eig = np.linalg.eig\n",
    "        inv = np.linalg.inv\n",
    "        n_classes = len(np.unique(y))\n",
    "        n_features = X.shape[1]\n",
    "        \n",
    "        if self.n_components is None:\n",
    "            self.n_components = min(n_classes-1, n_features)\n",
    "        \n",
    "        # split\n",
    "        spltd = split(X, y)\n",
    "        # Computer Sw\n",
    "        Sw = np.array([within_class_scatter(x) for x in spltd]).sum(0)     \n",
    "        # Compute Means\n",
    "        MU = np.array([x.mean(0) for x in spltd])\n",
    "        # Computer Sb\n",
    "        Sb = 0\n",
    "        mu_ovr = MU.mean(0).reshape(-1, 1)\n",
    "        for i in range(MU.shape[0]):\n",
    "            mu = MU[i].reshape(-1, 1)\n",
    "            n = spltd[i].shape[0]\n",
    "            Sb += n*(mu-mu_ovr) @ (mu-mu_ovr).T\n",
    "        \n",
    "        \n",
    "        self.within_class_scatter_ = Sw\n",
    "        self.between_class_scatter_ = Sb\n",
    "        self.means_ = MU\n",
    "        \n",
    "        self.eigvals_, self.discriminant_axes_ = eig(inv(Sw).dot(Sb))\n",
    "        \n",
    "        return self\n",
    "        \n",
    "        \n",
    "    def transform(self, X, n_components=None):\n",
    "        if n_components is None:\n",
    "            n_components = self.n_components\n",
    "            \n",
    "        self.projection_matrix = self.discriminant_axes_[:, 0:n_components]\n",
    "        \n",
    "        return X @ self.projection_matrix\n",
    "\n",
    "        \n",
    "    "
   ]
  },
  {
   "cell_type": "code",
   "execution_count": 6,
   "metadata": {
    "ExecuteTime": {
     "end_time": "2020-02-25T20:41:06.092943Z",
     "start_time": "2020-02-25T20:41:06.071252Z"
    }
   },
   "outputs": [],
   "source": [
    "lda = LDA()\n",
    "lda.fit(X, y)\n",
    "X_trans = lda.transform(X)"
   ]
  },
  {
   "cell_type": "code",
   "execution_count": 7,
   "metadata": {
    "ExecuteTime": {
     "end_time": "2020-02-25T20:41:08.065097Z",
     "start_time": "2020-02-25T20:41:07.934905Z"
    }
   },
   "outputs": [
    {
     "data": {
      "image/png": "[encoded data removed]",
      "text/plain": [
       "<Figure size 432x288 with 1 Axes>"
      ]
     },
     "metadata": {
      "needs_background": "light"
     },
     "output_type": "display_data"
    }
   ],
   "source": [
    "import matplotlib.pyplot as plt\n",
    "\n",
    "plt.scatter(X_trans[:, 0], X_trans[:, 1], c=y)\n",
    "plt.show()"
   ]
  },
  {
   "cell_type": "code",
   "execution_count": 8,
   "metadata": {
    "ExecuteTime": {
     "end_time": "2020-02-25T20:41:08.829711Z",
     "start_time": "2020-02-25T20:41:08.808173Z"
    }
   },
   "outputs": [],
   "source": [
    "lda_sk = LinearDiscriminantAnalysis()\n",
    "X_trans_sk = LinearDiscriminantAnalysis().fit_transform(X, y)"
   ]
  },
  {
   "cell_type": "code",
   "execution_count": 9,
   "metadata": {
    "ExecuteTime": {
     "end_time": "2020-02-25T20:41:10.478906Z",
     "start_time": "2020-02-25T20:41:10.350727Z"
    }
   },
   "outputs": [
    {
     "data": {
      "image/png": "[encoded data removed]",
      "text/plain": [
       "<Figure size 432x288 with 1 Axes>"
      ]
     },
     "metadata": {
      "needs_background": "light"
     },
     "output_type": "display_data"
    }
   ],
   "source": [
    "plt.scatter(X_trans_sk[:, 0], X_trans_sk[:, 1], c=y)\n",
    "plt.show()"
   ]
  },
  {
   "cell_type": "markdown",
   "metadata": {},
   "source": [
    "## Test it with another dataset"
   ]
  },
  {
   "cell_type": "code",
   "execution_count": 14,
   "metadata": {},
   "outputs": [
    {
     "data": {
      "text/html": [
       "<div>\n",
       "<style scoped>\n",
       "    .dataframe tbody tr th:only-of-type {\n",
       "        vertical-align: middle;\n",
       "    }\n",
       "\n",
       "    .dataframe tbody tr th {\n",
       "        vertical-align: top;\n",
       "    }\n",
       "\n",
       "    .dataframe thead th {\n",
       "        text-align: right;\n",
       "    }\n",
       "</style>\n",
       "<table border=\"1\" class=\"dataframe\">\n",
       "  <thead>\n",
       "    <tr style=\"text-align: right;\">\n",
       "      <th></th>\n",
       "      <th>x1</th>\n",
       "      <th>x2</th>\n",
       "      <th>class</th>\n",
       "    </tr>\n",
       "  </thead>\n",
       "  <tbody>\n",
       "    <tr>\n",
       "      <th>0</th>\n",
       "      <td>8.6661</td>\n",
       "      <td>-2.8073</td>\n",
       "      <td>0</td>\n",
       "    </tr>\n",
       "    <tr>\n",
       "      <th>1</th>\n",
       "      <td>8.1674</td>\n",
       "      <td>-2.4586</td>\n",
       "      <td>0</td>\n",
       "    </tr>\n",
       "    <tr>\n",
       "      <th>2</th>\n",
       "      <td>-2.6383</td>\n",
       "      <td>1.9242</td>\n",
       "      <td>0</td>\n",
       "    </tr>\n",
       "    <tr>\n",
       "      <th>3</th>\n",
       "      <td>9.5228</td>\n",
       "      <td>-4.0112</td>\n",
       "      <td>0</td>\n",
       "    </tr>\n",
       "    <tr>\n",
       "      <th>4</th>\n",
       "      <td>-4.4552</td>\n",
       "      <td>4.5718</td>\n",
       "      <td>0</td>\n",
       "    </tr>\n",
       "  </tbody>\n",
       "</table>\n",
       "</div>"
      ],
      "text/plain": [
       "       x1      x2  class\n",
       "0  8.6661 -2.8073      0\n",
       "1  8.1674 -2.4586      0\n",
       "2 -2.6383  1.9242      0\n",
       "3  9.5228 -4.0112      0\n",
       "4 -4.4552  4.5718      0"
      ]
     },
     "execution_count": 14,
     "metadata": {},
     "output_type": "execute_result"
    }
   ],
   "source": [
    "df = pd.read_csv(r\"C:\\Users\\Exam\\Abhi\\Git\\Intensive-R\\general-ML\\Assignment\\data\\data.csv\")\n",
    "df.head()"
   ]
  },
  {
   "cell_type": "code",
   "execution_count": 28,
   "metadata": {},
   "outputs": [],
   "source": [
    "X, y = df.drop(\"class\", 1).values, df.loc[:,\"class\"].values"
   ]
  },
  {
   "cell_type": "code",
   "execution_count": 29,
   "metadata": {},
   "outputs": [
    {
     "data": {
      "text/plain": [
       "array([[  8.6661 ,  -2.8073 ],\n",
       "       [  8.1674 ,  -2.4586 ],\n",
       "       [ -2.6383 ,   1.9242 ],\n",
       "       ...,\n",
       "       [-13.4586 ,  17.5932 ],\n",
       "       [ -8.3827 ,  12.393  ],\n",
       "       [ -0.65804,   2.6842 ]])"
      ]
     },
     "execution_count": 29,
     "metadata": {},
     "output_type": "execute_result"
    }
   ],
   "source": [
    "X"
   ]
  },
  {
   "cell_type": "code",
   "execution_count": 30,
   "metadata": {},
   "outputs": [
    {
     "data": {
      "text/plain": [
       "LDA(n_components=2)"
      ]
     },
     "execution_count": 30,
     "metadata": {},
     "output_type": "execute_result"
    }
   ],
   "source": [
    "lda.fit(X, y)"
   ]
  },
  {
   "cell_type": "code",
   "execution_count": 40,
   "metadata": {},
   "outputs": [],
   "source": [
    "X_lda = lda.transform(X, 1).flatten()"
   ]
  },
  {
   "cell_type": "code",
   "execution_count": 64,
   "metadata": {},
   "outputs": [
    {
     "data": {
      "text/plain": [
       "(0, 200)"
      ]
     },
     "execution_count": 64,
     "metadata": {},
     "output_type": "execute_result"
    },
    {
     "data": {
      "image/png": "[encoded data removed]",
      "text/plain": [
       "<Figure size 432x288 with 1 Axes>"
      ]
     },
     "metadata": {
      "needs_background": "light"
     },
     "output_type": "display_data"
    }
   ],
   "source": [
    "plt.scatter(X_lda, y, c=y)\n",
    "plt.ylim(0, 200)"
   ]
  }
 ],
 "metadata": {
  "kernelspec": {
   "display_name": "Python 3",
   "language": "python",
   "name": "python3"
  },
  "language_info": {
   "codemirror_mode": {
    "name": "ipython",
    "version": 3
   },
   "file_extension": ".py",
   "mimetype": "text/x-python",
   "name": "python",
   "nbconvert_exporter": "python",
   "pygments_lexer": "ipython3",
   "version": "3.7.6"
  },
  "toc": {
   "base_numbering": 1,
   "nav_menu": {},
   "number_sections": true,
   "sideBar": true,
   "skip_h1_title": false,
   "title_cell": "Table of Contents",
   "title_sidebar": "Contents",
   "toc_cell": false,
   "toc_position": {},
   "toc_section_display": true,
   "toc_window_display": false
  }
 },
 "nbformat": 4,
 "nbformat_minor": 2
}
