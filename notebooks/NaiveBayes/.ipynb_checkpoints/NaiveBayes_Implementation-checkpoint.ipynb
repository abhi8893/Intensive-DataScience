{
 "cells": [
  {
   "cell_type": "markdown",
   "metadata": {},
   "source": [
    "# Naive Bayes Implementation"
   ]
  },
  {
   "cell_type": "code",
   "execution_count": 1,
   "metadata": {
    "ExecuteTime": {
     "end_time": "2020-02-25T18:31:38.014590Z",
     "start_time": "2020-02-25T18:31:37.996163Z"
    }
   },
   "outputs": [],
   "source": [
    "import numpy as np\n",
    "import pandas as pd\n",
    "from sklearn.datasets import load_iris\n",
    "from sklearn.model_selection import train_test_split\n",
    "from sklearn.metrics import accuracy_score\n",
    "from sklearn.base import BaseEstimator, ClassifierMixin\n",
    "\n",
    "from sklearn.model_selection import cross_val_score\n",
    "from sklearn.naive_bayes import GaussianNB"
   ]
  },
  {
   "cell_type": "code",
   "execution_count": 2,
   "metadata": {
    "ExecuteTime": {
     "end_time": "2020-02-25T18:31:38.237446Z",
     "start_time": "2020-02-25T18:31:38.198323Z"
    }
   },
   "outputs": [],
   "source": [
    "iris = load_iris()\n",
    "X, y = iris.data, iris.target\n",
    "X_train, X_test, y_train, y_test = train_test_split(X, y, test_size=0.3, random_state=10)"
   ]
  },
  {
   "cell_type": "code",
   "execution_count": 3,
   "metadata": {
    "ExecuteTime": {
     "end_time": "2020-02-25T18:31:38.387436Z",
     "start_time": "2020-02-25T18:31:38.371387Z"
    }
   },
   "outputs": [],
   "source": [
    "df = pd.DataFrame(np.c_[iris['data'], iris['target']], \n",
    "                 columns=iris.feature_names + ['species'])"
   ]
  },
  {
   "cell_type": "code",
   "execution_count": 4,
   "metadata": {
    "ExecuteTime": {
     "end_time": "2020-02-25T18:31:38.595363Z",
     "start_time": "2020-02-25T18:31:38.540782Z"
    }
   },
   "outputs": [
    {
     "data": {
      "text/html": [
       "<div>\n",
       "<style scoped>\n",
       "    .dataframe tbody tr th:only-of-type {\n",
       "        vertical-align: middle;\n",
       "    }\n",
       "\n",
       "    .dataframe tbody tr th {\n",
       "        vertical-align: top;\n",
       "    }\n",
       "\n",
       "    .dataframe thead th {\n",
       "        text-align: right;\n",
       "    }\n",
       "</style>\n",
       "<table border=\"1\" class=\"dataframe\">\n",
       "  <thead>\n",
       "    <tr style=\"text-align: right;\">\n",
       "      <th></th>\n",
       "      <th>sepal length (cm)</th>\n",
       "      <th>sepal width (cm)</th>\n",
       "      <th>petal length (cm)</th>\n",
       "      <th>petal width (cm)</th>\n",
       "      <th>species</th>\n",
       "    </tr>\n",
       "  </thead>\n",
       "  <tbody>\n",
       "    <tr>\n",
       "      <th>0</th>\n",
       "      <td>5.1</td>\n",
       "      <td>3.5</td>\n",
       "      <td>1.4</td>\n",
       "      <td>0.2</td>\n",
       "      <td>0.0</td>\n",
       "    </tr>\n",
       "    <tr>\n",
       "      <th>1</th>\n",
       "      <td>4.9</td>\n",
       "      <td>3.0</td>\n",
       "      <td>1.4</td>\n",
       "      <td>0.2</td>\n",
       "      <td>0.0</td>\n",
       "    </tr>\n",
       "    <tr>\n",
       "      <th>2</th>\n",
       "      <td>4.7</td>\n",
       "      <td>3.2</td>\n",
       "      <td>1.3</td>\n",
       "      <td>0.2</td>\n",
       "      <td>0.0</td>\n",
       "    </tr>\n",
       "    <tr>\n",
       "      <th>3</th>\n",
       "      <td>4.6</td>\n",
       "      <td>3.1</td>\n",
       "      <td>1.5</td>\n",
       "      <td>0.2</td>\n",
       "      <td>0.0</td>\n",
       "    </tr>\n",
       "    <tr>\n",
       "      <th>4</th>\n",
       "      <td>5.0</td>\n",
       "      <td>3.6</td>\n",
       "      <td>1.4</td>\n",
       "      <td>0.2</td>\n",
       "      <td>0.0</td>\n",
       "    </tr>\n",
       "  </tbody>\n",
       "</table>\n",
       "</div>"
      ],
      "text/plain": [
       "   sepal length (cm)  sepal width (cm)  petal length (cm)  petal width (cm)  \\\n",
       "0                5.1               3.5                1.4               0.2   \n",
       "1                4.9               3.0                1.4               0.2   \n",
       "2                4.7               3.2                1.3               0.2   \n",
       "3                4.6               3.1                1.5               0.2   \n",
       "4                5.0               3.6                1.4               0.2   \n",
       "\n",
       "   species  \n",
       "0      0.0  \n",
       "1      0.0  \n",
       "2      0.0  \n",
       "3      0.0  \n",
       "4      0.0  "
      ]
     },
     "execution_count": 4,
     "metadata": {},
     "output_type": "execute_result"
    }
   ],
   "source": [
    "df.head()"
   ]
  },
  {
   "cell_type": "markdown",
   "metadata": {},
   "source": [
    "## Naive Bayes"
   ]
  },
  {
   "cell_type": "code",
   "execution_count": 5,
   "metadata": {
    "ExecuteTime": {
     "end_time": "2020-02-25T18:31:38.983449Z",
     "start_time": "2020-02-25T18:31:38.951656Z"
    }
   },
   "outputs": [],
   "source": [
    "def estimate_priors(y):\n",
    "    return np.bincount(y)/len(y)\n",
    "\n",
    "def fit_gaussian(X, indep=False):\n",
    "    mu = np.mean(X, 0)\n",
    "    if indep:\n",
    "        sigma = np.diag(np.var(X, 0))\n",
    "    else:\n",
    "        sigma = np.cov(X.T)\n",
    "    \n",
    "    return (mu, sigma)\n",
    "\n",
    "# TODO: Vectorized over a matrix (X)\n",
    "def dmvn(x, mu, sigma, log=False):\n",
    "    n = mu.shape[0]\n",
    "    pi = np.pi\n",
    "    sigma_inv = np.linalg.inv(sigma)\n",
    "    x_mu = x-mu\n",
    "    denom = ((2*pi)**(n/2)) * np.linalg.det(sigma)**(1/2)    \n",
    "    dens = np.exp(-((x_mu).T @ sigma_inv @ (x_mu))/2)/denom\n",
    "    if log:\n",
    "        dens = np.log(dens)\n",
    "        \n",
    "    return dens\n",
    "\n",
    "# TODO: Vectorized splitting\n",
    "def split(X, y):\n",
    "    grps = np.unique(y)\n",
    "    n = len(grps)\n",
    "    arr = [0]*n\n",
    "    for i, grp in enumerate(grps):\n",
    "        arr[i] = X[y==grp, :]\n",
    "        \n",
    "    return arr"
   ]
  },
  {
   "cell_type": "code",
   "execution_count": 6,
   "metadata": {
    "ExecuteTime": {
     "end_time": "2020-02-25T20:47:17.582092Z",
     "start_time": "2020-02-25T20:47:17.557460Z"
    }
   },
   "outputs": [],
   "source": [
    "class GaussianNaiveBayes(BaseEstimator, ClassifierMixin):\n",
    "    '''Gaussian Naive Bayes classifier\n",
    "    \n",
    "    Parameters\n",
    "    ----------\n",
    "    \n",
    "    priors : array-like, shape (n_classes,)\n",
    "        Prior probabilities of the classes. If specified the priors are not\n",
    "        adjusted according to the data.\n",
    "    \n",
    "    indep: bool, optional (default=False)\n",
    "        Whether the features are assumed to be independent (default) or not.\n",
    "        \n",
    "    '''\n",
    "    def __init__(self, priors=None, indep=False):\n",
    "        self.indep = indep\n",
    "        self.priors = priors # CHECK: Will naming differently cause a problem?\n",
    "    \n",
    "    def fit(self, X, y):\n",
    "        spltd = split(X, y)\n",
    "        self.priors = estimate_priors(y)\n",
    "        self.ngrps_ = len(self.priors)\n",
    "        self.dens_ = [None]*self.ngrps_\n",
    "        self.params_ = [fit_gaussian(x, self.indep) for x in spltd]\n",
    "        \n",
    "        # TODO: Vectorize\n",
    "        for i, x in enumerate(spltd):\n",
    "            self.dens_ = lambda xi, i: dmvn(xi, *self.params_[i])\n",
    "            \n",
    "        return self\n",
    "    \n",
    "    def predict(self, X):\n",
    "        return np.argmax(self.predict_proba(X), 1) # MAP Estimate\n",
    "    \n",
    "    def predict_proba(self, X):\n",
    "        posterior = np.array([[self.dens_(x, i)*self.priors[i] \n",
    "                               for i in range(self.ngrps_)]\n",
    "                              for x in X])\n",
    "        \n",
    "        return posterior/posterior.sum(1).reshape(-1, 1)\n",
    "        "
   ]
  },
  {
   "cell_type": "code",
   "execution_count": 7,
   "metadata": {
    "ExecuteTime": {
     "end_time": "2020-02-25T20:47:18.151928Z",
     "start_time": "2020-02-25T20:47:18.123736Z"
    }
   },
   "outputs": [
    {
     "data": {
      "text/plain": [
       "GaussianNaiveBayes(indep=False,\n",
       "                   priors=array([0.34285714, 0.31428571, 0.34285714]))"
      ]
     },
     "execution_count": 7,
     "metadata": {},
     "output_type": "execute_result"
    }
   ],
   "source": [
    "gnb = GaussianNaiveBayes()\n",
    "gnb.fit(X_train, y_train)"
   ]
  },
  {
   "cell_type": "code",
   "execution_count": 8,
   "metadata": {
    "ExecuteTime": {
     "end_time": "2020-02-25T18:31:40.035007Z",
     "start_time": "2020-02-25T18:31:39.996526Z"
    }
   },
   "outputs": [
    {
     "data": {
      "text/plain": [
       "array([1, 2, 0, 1, 0, 1, 1, 1, 0, 1, 1, 2, 1, 0, 0, 2, 1, 0, 0, 0, 2, 2,\n",
       "       2, 0, 1, 0, 1, 1, 1, 2, 1, 1, 2, 2, 2, 0, 2, 2, 2, 2, 0, 0, 1, 0,\n",
       "       1], dtype=int64)"
      ]
     },
     "execution_count": 8,
     "metadata": {},
     "output_type": "execute_result"
    }
   ],
   "source": [
    "preds = gnb.predict(X_test)\n",
    "preds"
   ]
  },
  {
   "cell_type": "code",
   "execution_count": 9,
   "metadata": {
    "ExecuteTime": {
     "end_time": "2020-02-25T18:31:40.439514Z",
     "start_time": "2020-02-25T18:31:40.417048Z"
    }
   },
   "outputs": [
    {
     "data": {
      "text/plain": [
       "1.0"
      ]
     },
     "execution_count": 9,
     "metadata": {},
     "output_type": "execute_result"
    }
   ],
   "source": [
    "accuracy_score(y_test, preds)"
   ]
  },
  {
   "cell_type": "code",
   "execution_count": 10,
   "metadata": {
    "ExecuteTime": {
     "end_time": "2020-02-25T18:31:40.876152Z",
     "start_time": "2020-02-25T18:31:40.850526Z"
    }
   },
   "outputs": [],
   "source": [
    "gnb_sk = GaussianNB()\n",
    "gnb_sk.fit(X_train, y_train)\n",
    "preds_sk = gnb_sk.predict(X_test)"
   ]
  },
  {
   "cell_type": "code",
   "execution_count": 11,
   "metadata": {
    "ExecuteTime": {
     "end_time": "2020-02-25T18:31:41.529463Z",
     "start_time": "2020-02-25T18:31:41.508173Z"
    }
   },
   "outputs": [
    {
     "data": {
      "text/plain": [
       "1.0"
      ]
     },
     "execution_count": 11,
     "metadata": {},
     "output_type": "execute_result"
    }
   ],
   "source": [
    "accuracy_score(y_test, preds_sk)"
   ]
  }
 ],
 "metadata": {
  "kernelspec": {
   "display_name": "Python 3",
   "language": "python",
   "name": "python3"
  },
  "language_info": {
   "codemirror_mode": {
    "name": "ipython",
    "version": 3
   },
   "file_extension": ".py",
   "mimetype": "text/x-python",
   "name": "python",
   "nbconvert_exporter": "python",
   "pygments_lexer": "ipython3",
   "version": "3.7.6"
  },
  "toc": {
   "base_numbering": 1,
   "nav_menu": {},
   "number_sections": true,
   "sideBar": true,
   "skip_h1_title": false,
   "title_cell": "Table of Contents",
   "title_sidebar": "Contents",
   "toc_cell": false,
   "toc_position": {},
   "toc_section_display": true,
   "toc_window_display": false
  }
 },
 "nbformat": 4,
 "nbformat_minor": 4
}
