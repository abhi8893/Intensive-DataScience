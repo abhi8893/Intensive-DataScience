{
 "cells": [
  {
   "cell_type": "markdown",
   "metadata": {},
   "source": [
    "# KMeans Algorithm Implementation"
   ]
  },
  {
   "cell_type": "markdown",
   "metadata": {},
   "source": [
    "## Load Libraries"
   ]
  },
  {
   "cell_type": "code",
   "execution_count": 420,
   "metadata": {
    "ExecuteTime": {
     "end_time": "2020-02-05T11:53:31.903288Z",
     "start_time": "2020-02-05T11:53:31.895604Z"
    }
   },
   "outputs": [],
   "source": [
    "from sklearn.datasets import load_iris\n",
    "from sklearn.cluster import KMeans\n",
    "import numpy as np\n",
    "from matplotlib.colors import ListedColormap\n",
    "import matplotlib.pyplot as plt\n",
    "import seaborn as sns"
   ]
  },
  {
   "cell_type": "markdown",
   "metadata": {},
   "source": [
    "## Load Dataset"
   ]
  },
  {
   "cell_type": "code",
   "execution_count": 304,
   "metadata": {
    "ExecuteTime": {
     "end_time": "2020-02-05T10:58:26.935376Z",
     "start_time": "2020-02-05T10:58:26.930062Z"
    }
   },
   "outputs": [],
   "source": [
    "iris = load_iris()"
   ]
  },
  {
   "cell_type": "code",
   "execution_count": 305,
   "metadata": {
    "ExecuteTime": {
     "end_time": "2020-02-05T10:58:27.206525Z",
     "start_time": "2020-02-05T10:58:27.195053Z"
    }
   },
   "outputs": [],
   "source": [
    "X, y = iris['data'], iris['target']"
   ]
  },
  {
   "cell_type": "markdown",
   "metadata": {},
   "source": [
    "[Numpy random sampling from ND array](https://stackoverflow.com/questions/14262654/numpy-get-random-set-of-rows-from-2d-array)"
   ]
  },
  {
   "cell_type": "markdown",
   "metadata": {},
   "source": [
    "## Define functions"
   ]
  },
  {
   "cell_type": "markdown",
   "metadata": {},
   "source": [
    "### Distance (dissimilarity) function"
   ]
  },
  {
   "cell_type": "code",
   "execution_count": 422,
   "metadata": {
    "ExecuteTime": {
     "end_time": "2020-02-05T16:55:31.406594Z",
     "start_time": "2020-02-05T16:55:31.401222Z"
    }
   },
   "outputs": [],
   "source": [
    "def distance(x:np.array, y: np.array, dist='minkowski', p=2):\n",
    "    '''Calculate the distance between two points'''\n",
    "    return sum(abs(x-y)**(p))**(1/p)"
   ]
  },
  {
   "cell_type": "code",
   "execution_count": 416,
   "metadata": {
    "ExecuteTime": {
     "end_time": "2020-02-05T11:52:26.117936Z",
     "start_time": "2020-02-05T11:52:26.113791Z"
    }
   },
   "outputs": [],
   "source": [
    "@np.vectorize\n",
    "def mapvals(x, d: dict):\n",
    "    if x in d:\n",
    "        return(d[x])\n",
    "    else:\n",
    "        return x"
   ]
  },
  {
   "cell_type": "markdown",
   "metadata": {},
   "source": [
    "### kmeans function"
   ]
  },
  {
   "cell_type": "code",
   "execution_count": 467,
   "metadata": {
    "ExecuteTime": {
     "end_time": "2020-02-05T18:28:32.151407Z",
     "start_time": "2020-02-05T18:28:32.138572Z"
    }
   },
   "outputs": [],
   "source": [
    "def intra_cluster_metric(X, x, p=1):\n",
    "    return (abs(X-np.broadcast_to(x, X.shape))**p).sum()"
   ]
  },
  {
   "cell_type": "code",
   "execution_count": 468,
   "metadata": {
    "ExecuteTime": {
     "end_time": "2020-02-05T18:28:32.474973Z",
     "start_time": "2020-02-05T18:28:32.450953Z"
    }
   },
   "outputs": [],
   "source": [
    "from scipy import stats\n",
    "\n",
    "def calculate_representative_point(X, method='mean', \n",
    "                                   cost_func=intra_cluster_metric,\n",
    "                                   data_type='continous'):\n",
    "    '''\n",
    "    Calculate representative point\n",
    "    \n",
    "    Parameters\n",
    "    ----------\n",
    "    X: np.array\n",
    "        Data points belonging to a cluster\n",
    "    \n",
    "    method: str, optional, default: 'mean'\n",
    "        Method used to calculate the representative point of the cluster\n",
    "        'mean' -> KMeans, 'medoid' -> KMedoid (PAM), 'mode' -> KMode\n",
    "    \n",
    "    '''\n",
    "    if method == 'mean':\n",
    "        return X.mean(axis=0)\n",
    "    \n",
    "    if method == 'medoid':\n",
    "        n = X.shape[0]\n",
    "        costs = np.zeros(n)        \n",
    "        i = 0\n",
    "        for i in range(n):\n",
    "            costs[i] = cost_func(X, X[i, :])\n",
    "            \n",
    "        return X[np.argmin(costs)]\n",
    "    \n",
    "    if method == 'mode':\n",
    "        if data_type == 'continous':\n",
    "            return calculate_representative_point(X, method='medoid', cost_func=cost_func)\n",
    "        \n",
    "        if data_type == 'discrete':\n",
    "            return stats.mode(X).mode"
   ]
  },
  {
   "cell_type": "code",
   "execution_count": 469,
   "metadata": {
    "ExecuteTime": {
     "end_time": "2020-02-05T18:28:32.875203Z",
     "start_time": "2020-02-05T18:28:32.854722Z"
    }
   },
   "outputs": [],
   "source": [
    "def kmeans(X: np.array, K=8, max_iter=200,\n",
    "           return_iter_ids=False,\n",
    "           return_iter_centroids=False,\n",
    "           distance_kwargs=None,\n",
    "           centroid_method='mean'):\n",
    "    '''\n",
    "    Perform KMeans clustering.\n",
    "\n",
    "    Parameters\n",
    "    ----------\n",
    "    X : np.array\n",
    "        Data points on which clustering is to be performed\n",
    "        \n",
    "    K : int, optional, default: 8\n",
    "        Number of clusters\n",
    "        \n",
    "    max_iter: int, optional, default: 200\n",
    "        Maximum number of iterations to perform\n",
    "    \n",
    "    return_iter_ids: bool, optional, default: False\n",
    "        Whether to return the cluster ids of each iteration or not\n",
    "        \n",
    "    return_iter_centroids: bool, optional, default: False\n",
    "        Whether to return the centroids of each iteration or not\n",
    "        \n",
    "    centroid_method: str, optional, default: 'mean'\n",
    "        Method used to calculate the representative point of the cluster\n",
    "        'mean' -> KMeans, 'medoid' -> KMedoid (PAM), 'mode' -> KMode\n",
    "    \n",
    "\n",
    "    '''\n",
    "    # Cluster ids for each of the points\n",
    "    cluster_ids = np.zeros(X.shape[0], dtype=int)\n",
    "\n",
    "    # Randomy choose cluster centroids\n",
    "    idx = np.random.choice(X.shape[0], K)\n",
    "    cluster_ids[idx] = range(K)\n",
    "    centroids = X[idx]\n",
    "    \n",
    "    iter_ids = np.zeros((max_iter+1, X.shape[0]))\n",
    "    iter_centroids = np.zeros((max_iter, K, X.shape[1]))\n",
    "\n",
    "\n",
    "    # For each: assign point to cluster with minimum distance\n",
    "    # Stop when: No reassignment\n",
    "    \n",
    "\n",
    "\n",
    "    def reassignment():\n",
    "        '''Check reassignment of cluster points'''\n",
    "        return not (np.array_equal(cluster_ids, old_ids))\n",
    "\n",
    "    def first_iteration():\n",
    "        '''Check if first iteration'''\n",
    "        return i==0\n",
    "\n",
    "    def recalculate_centroids(method=centroid_method):\n",
    "        '''Recalculate centroids'''\n",
    "        for clstr_id in range(K):\n",
    "            centroids[clstr_id, :] = calculate_representative_point(X[cluster_ids == clstr_id, :], \n",
    "                                                                    method)\n",
    "            \n",
    "            \n",
    "            \n",
    "    def assign_cluster(pt):\n",
    "        pass\n",
    "\n",
    "    distances = np.zeros(K)\n",
    "    old_ids = cluster_ids.copy()\n",
    "    \n",
    "    i=0\n",
    "    while (reassignment() or first_iteration()) or i < max_iter:\n",
    "        old_ids = cluster_ids.copy()\n",
    "        j=0\n",
    "        for pt in X:\n",
    "            l=0\n",
    "            for cntrd in centroids:\n",
    "                distances[l] = distance(pt, cntrd)\n",
    "                l += 1\n",
    "\n",
    "            cluster_ids[j] = np.argmin(distances)\n",
    "            j += 1\n",
    "            \n",
    "        iter_ids[i, :] = cluster_ids\n",
    "\n",
    "\n",
    "        recalculate_centroids()\n",
    "        iter_centroids[i, :, :] = centroids \n",
    "        i += 1\n",
    "        \n",
    "    result = {'cluster_ids': cluster_ids, \n",
    "              'centroids': centroids}\n",
    "    \n",
    "    if return_iter_centroids:\n",
    "        result['iter_centroids'] = iter_centroids[:i-1]\n",
    "        \n",
    "    if return_iter_ids:\n",
    "        result['iter_ids'] = iter_ids[:i-1]\n",
    "        \n",
    "    return result\n",
    "\n"
   ]
  },
  {
   "cell_type": "markdown",
   "metadata": {},
   "source": [
    "## Test and compare with sklearn implementation"
   ]
  },
  {
   "cell_type": "code",
   "execution_count": 480,
   "metadata": {
    "ExecuteTime": {
     "end_time": "2020-02-05T18:31:07.162793Z",
     "start_time": "2020-02-05T18:31:07.158914Z"
    }
   },
   "outputs": [],
   "source": [
    "features = [0, 1]\n",
    "X1 = X[:, features]"
   ]
  },
  {
   "cell_type": "code",
   "execution_count": 482,
   "metadata": {
    "ExecuteTime": {
     "end_time": "2020-02-05T18:31:11.597626Z",
     "start_time": "2020-02-05T18:31:11.055662Z"
    }
   },
   "outputs": [],
   "source": [
    "result = kmeans(X1, K=3, return_iter_centroids=True, centroid_method='mean')"
   ]
  },
  {
   "cell_type": "code",
   "execution_count": 483,
   "metadata": {
    "ExecuteTime": {
     "end_time": "2020-02-05T18:31:12.192881Z",
     "start_time": "2020-02-05T18:31:12.148925Z"
    }
   },
   "outputs": [],
   "source": [
    "model = KMeans(3)\n",
    "sklearn_ids = model.fit_predict(X1)"
   ]
  },
  {
   "cell_type": "code",
   "execution_count": 484,
   "metadata": {
    "ExecuteTime": {
     "end_time": "2020-02-05T18:31:12.764733Z",
     "start_time": "2020-02-05T18:31:12.746872Z"
    }
   },
   "outputs": [
    {
     "data": {
      "text/plain": [
       "array([2, 2, 2, 2, 2, 2, 2, 2, 2, 2, 2, 2, 2, 2, 2, 2, 2, 2, 2, 2, 2, 2,\n",
       "       2, 2, 2, 2, 2, 2, 2, 2, 2, 2, 2, 2, 2, 2, 2, 2, 2, 2, 2, 2, 2, 2,\n",
       "       2, 2, 2, 2, 2, 2, 1, 1, 1, 0, 1, 0, 1, 0, 1, 0, 0, 0, 0, 0, 0, 1,\n",
       "       0, 0, 0, 0, 0, 0, 0, 0, 1, 1, 1, 1, 0, 0, 0, 0, 0, 0, 0, 0, 1, 0,\n",
       "       0, 0, 0, 0, 0, 0, 0, 0, 0, 0, 0, 0, 1, 0, 1, 1, 1, 1, 0, 1, 1, 1,\n",
       "       1, 1, 1, 0, 0, 1, 1, 1, 1, 0, 1, 0, 1, 0, 1, 1, 0, 0, 1, 1, 1, 1,\n",
       "       1, 0, 0, 1, 1, 1, 0, 1, 1, 1, 0, 1, 1, 1, 0, 1, 1, 0], dtype=int32)"
      ]
     },
     "execution_count": 484,
     "metadata": {},
     "output_type": "execute_result"
    }
   ],
   "source": [
    "sklearn_ids"
   ]
  },
  {
   "cell_type": "code",
   "execution_count": 485,
   "metadata": {
    "ExecuteTime": {
     "end_time": "2020-02-05T18:31:13.880598Z",
     "start_time": "2020-02-05T18:31:13.862880Z"
    }
   },
   "outputs": [
    {
     "data": {
      "text/plain": [
       "array([0, 0, 0, 0, 0, 0, 0, 0, 0, 0, 0, 0, 0, 0, 0, 0, 0, 0, 0, 0, 0, 0,\n",
       "       0, 0, 0, 0, 0, 0, 0, 0, 0, 0, 0, 0, 0, 0, 0, 0, 0, 0, 0, 0, 0, 0,\n",
       "       0, 0, 0, 0, 0, 0, 2, 2, 2, 1, 2, 1, 2, 1, 2, 1, 1, 1, 1, 1, 1, 2,\n",
       "       1, 1, 1, 1, 1, 1, 1, 1, 2, 2, 2, 2, 1, 1, 1, 1, 1, 1, 1, 1, 2, 1,\n",
       "       1, 1, 1, 1, 1, 1, 1, 1, 1, 1, 1, 1, 2, 1, 2, 1, 2, 2, 0, 2, 2, 2,\n",
       "       2, 2, 2, 1, 1, 2, 2, 2, 2, 1, 2, 1, 2, 1, 2, 2, 1, 1, 2, 2, 2, 2,\n",
       "       2, 1, 1, 2, 2, 2, 1, 2, 2, 2, 1, 2, 2, 2, 1, 2, 2, 1])"
      ]
     },
     "execution_count": 485,
     "metadata": {},
     "output_type": "execute_result"
    }
   ],
   "source": [
    "result['cluster_ids']"
   ]
  },
  {
   "cell_type": "markdown",
   "metadata": {},
   "source": [
    "**NOTE:** Carefully see the cluster id's and choose the appropriate mapping. Needs to be automated using an algorithm for best match."
   ]
  },
  {
   "cell_type": "code",
   "execution_count": 486,
   "metadata": {
    "ExecuteTime": {
     "end_time": "2020-02-05T18:31:34.875683Z",
     "start_time": "2020-02-05T18:31:34.871163Z"
    }
   },
   "outputs": [],
   "source": [
    "result['cluster_ids'] = mapvals(result['cluster_ids'], {0:2, 2:1, 1:0})"
   ]
  },
  {
   "cell_type": "markdown",
   "metadata": {},
   "source": [
    "### Plot the comparison"
   ]
  },
  {
   "cell_type": "markdown",
   "metadata": {
    "ExecuteTime": {
     "end_time": "2020-02-05T10:57:10.850364Z",
     "start_time": "2020-02-05T10:57:10.830444Z"
    }
   },
   "source": [
    "[Matplotlib color according to class labels](https://stackoverflow.com/questions/12487060/matplotlib-color-according-to-class-labels)"
   ]
  },
  {
   "cell_type": "code",
   "execution_count": 487,
   "metadata": {
    "ExecuteTime": {
     "end_time": "2020-02-05T18:31:36.422847Z",
     "start_time": "2020-02-05T18:31:36.417510Z"
    }
   },
   "outputs": [],
   "source": [
    "colors = ['red', 'green', 'blue']"
   ]
  },
  {
   "cell_type": "code",
   "execution_count": 488,
   "metadata": {
    "ExecuteTime": {
     "end_time": "2020-02-05T18:31:37.505153Z",
     "start_time": "2020-02-05T18:31:36.947339Z"
    }
   },
   "outputs": [
    {
     "data": {
      "image/png": "[encoded data removed]",
      "text/plain": [
       "<Figure size 864x288 with 2 Axes>"
      ]
     },
     "metadata": {
      "needs_background": "light"
     },
     "output_type": "display_data"
    }
   ],
   "source": [
    "fig, (ax1, ax2) = plt.subplots(1, 2, figsize=(12, 4))\n",
    "\n",
    "ax1.scatter(X[:, 0], X[:, 1], c=result['cluster_ids'], cmap=ListedColormap(colors))\n",
    "ax1.scatter(result['centroids'][:, 0], result['centroids'][:, 1], marker=\"*\", color='black', s=200)\n",
    "ax1.set_title('Python Implemented KMeans')\n",
    "ax1.set_xlabel(iris['feature_names'][features[0]])\n",
    "ax1.set_ylabel(iris['feature_names'][features[1]])\n",
    "\n",
    "ax2.scatter(X[:, 0], X[:, 1], c=sklearn_ids, cmap=ListedColormap(colors))\n",
    "ax2.set_title('sklearn KMeans')\n",
    "ax2.set_xlabel(iris['feature_names'][features[0]])\n",
    "\n",
    "\n",
    "\n",
    "fig.suptitle('KMeans comparison', fontsize=20, fontweight='bold', y=1.05)\n",
    "\n",
    "plt.savefig('KMeans_comparison.pdf', dpi=400, bbox_inches='tight')"
   ]
  },
  {
   "cell_type": "code",
   "execution_count": null,
   "metadata": {},
   "outputs": [],
   "source": []
  }
 ],
 "metadata": {
  "kernelspec": {
   "display_name": "Python [conda env:ds] *",
   "language": "python",
   "name": "conda-env-ds-py"
  },
  "language_info": {
   "codemirror_mode": {
    "name": "ipython",
    "version": 3
   },
   "file_extension": ".py",
   "mimetype": "text/x-python",
   "name": "python",
   "nbconvert_exporter": "python",
   "pygments_lexer": "ipython3",
   "version": "3.7.4"
  },
  "toc": {
   "base_numbering": 1,
   "nav_menu": {},
   "number_sections": true,
   "sideBar": true,
   "skip_h1_title": false,
   "title_cell": "Table of Contents",
   "title_sidebar": "Contents",
   "toc_cell": false,
   "toc_position": {},
   "toc_section_display": true,
   "toc_window_display": false
  }
 },
 "nbformat": 4,
 "nbformat_minor": 2
}
