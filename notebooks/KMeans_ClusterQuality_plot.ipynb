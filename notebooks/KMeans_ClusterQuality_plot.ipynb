{
 "cells": [
  {
   "cell_type": "code",
   "execution_count": 43,
   "metadata": {
    "ExecuteTime": {
     "end_time": "2020-02-05T12:41:04.205680Z",
     "start_time": "2020-02-05T12:41:03.979690Z"
    }
   },
   "outputs": [],
   "source": [
    "from sklearn.cluster import KMeans\n",
    "from sklearn.datasets import load_iris\n",
    "import numpy as np\n",
    "import matplotlib.pyplot as plt"
   ]
  },
  {
   "cell_type": "code",
   "execution_count": 6,
   "metadata": {
    "ExecuteTime": {
     "end_time": "2020-02-05T12:08:46.536963Z",
     "start_time": "2020-02-05T12:08:46.521729Z"
    }
   },
   "outputs": [],
   "source": [
    "iris = load_iris()\n",
    "X = iris['data']"
   ]
  },
  {
   "cell_type": "code",
   "execution_count": 7,
   "metadata": {
    "ExecuteTime": {
     "end_time": "2020-02-05T12:08:46.733928Z",
     "start_time": "2020-02-05T12:08:46.725768Z"
    }
   },
   "outputs": [],
   "source": [
    "def distance(x:np.array, y: np.array, dist='minkowski', p=2):\n",
    "    '''Calculate the distance between two points'''\n",
    "    return sum(abs(x-y)**(p))**(1/p)"
   ]
  },
  {
   "cell_type": "code",
   "execution_count": 46,
   "metadata": {
    "ExecuteTime": {
     "end_time": "2020-02-05T12:43:43.092736Z",
     "start_time": "2020-02-05T12:43:43.084550Z"
    }
   },
   "outputs": [],
   "source": [
    "# TODO: Make these vectorized\n",
    "\n",
    "def J(X, mu, ids):\n",
    "    '''Calculate J index'''\n",
    "    n = X.shape[0]\n",
    "    res = 0\n",
    "    i = 0\n",
    "    for i in range(n):\n",
    "        res += distance(X[i], mu[ids[i]])**2\n",
    "        i += 1\n",
    "        \n",
    "    return(res/n)\n",
    "\n",
    "def Q(X, mu, ids):\n",
    "    '''Calculate Q index'''\n",
    "    n = dict(zip(*np.unique(ids, return_counts=True)))\n",
    "    \n",
    "    res = 0\n",
    "    i = 0\n",
    "    for i in range(X.shape[0]):\n",
    "        j = ids[i]\n",
    "        res += distance(X[i], mu[j])/n[j]\n",
    "        i += 1\n",
    "        \n",
    "    return(res)"
   ]
  },
  {
   "cell_type": "code",
   "execution_count": 52,
   "metadata": {
    "ExecuteTime": {
     "end_time": "2020-02-05T12:46:15.309590Z",
     "start_time": "2020-02-05T12:46:14.512990Z"
    }
   },
   "outputs": [],
   "source": [
    "max_K = 20\n",
    "K_range = range(1, max_K+1)\n",
    "scores = {}\n",
    "scores['J'] = [0]*max_K\n",
    "scores['Q'] = [0]*max_K\n",
    "\n",
    "i = 0\n",
    "for k in K_range:\n",
    "            \n",
    "    model = KMeans(n_clusters=k)\n",
    "    model.fit(X)\n",
    "    cluster_ids, centroids = model.predict(X), model.cluster_centers_\n",
    "\n",
    "    scores['J'][i] = J(X, centroids, cluster_ids)\n",
    "    scores['Q'][i] = Q(X, centroids, cluster_ids)\n",
    "    \n",
    "    i += 1"
   ]
  },
  {
   "cell_type": "code",
   "execution_count": 65,
   "metadata": {
    "ExecuteTime": {
     "end_time": "2020-02-05T18:38:07.746631Z",
     "start_time": "2020-02-05T18:38:07.018639Z"
    }
   },
   "outputs": [
    {
     "data": {
      "image/png": "[encoded data removed]",
      "text/plain": [
       "<Figure size 864x288 with 2 Axes>"
      ]
     },
     "metadata": {
      "needs_background": "light"
     },
     "output_type": "display_data"
    }
   ],
   "source": [
    "fig, (ax1, ax2) = plt.subplots(1, 2, figsize=(12, 4), sharex=True)\n",
    "\n",
    "ax1.plot(range(1, max_K+1), scores['J'])\n",
    "ax1.set_xlabel('K')\n",
    "ax1.set_xticks(K_range)\n",
    "ax1.set_title('J index')\n",
    "\n",
    "ax2.plot(range(1, max_K+1), scores['Q'])\n",
    "ax2.set_title('Q index')\n",
    "ax2.set_xlabel('K')\n",
    "\n",
    "\n",
    "fig.suptitle('Cluster quality metrics', fontsize=20, fontweight='bold', y=1.05)\n",
    "plt.savefig('KMeans_Cluster_quality.pdf', dpi=400, bbox_inches='tight')"
   ]
  },
  {
   "cell_type": "code",
   "execution_count": null,
   "metadata": {},
   "outputs": [],
   "source": []
  }
 ],
 "metadata": {
  "kernelspec": {
   "display_name": "Python [conda env:ds] *",
   "language": "python",
   "name": "conda-env-ds-py"
  },
  "language_info": {
   "codemirror_mode": {
    "name": "ipython",
    "version": 3
   },
   "file_extension": ".py",
   "mimetype": "text/x-python",
   "name": "python",
   "nbconvert_exporter": "python",
   "pygments_lexer": "ipython3",
   "version": "3.7.4"
  },
  "toc": {
   "base_numbering": 1,
   "nav_menu": {},
   "number_sections": true,
   "sideBar": true,
   "skip_h1_title": false,
   "title_cell": "Table of Contents",
   "title_sidebar": "Contents",
   "toc_cell": false,
   "toc_position": {},
   "toc_section_display": true,
   "toc_window_display": false
  }
 },
 "nbformat": 4,
 "nbformat_minor": 2
}
