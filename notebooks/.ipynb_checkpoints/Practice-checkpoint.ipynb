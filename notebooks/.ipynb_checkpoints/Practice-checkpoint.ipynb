{
 "cells": [
  {
   "cell_type": "code",
   "execution_count": 7,
   "metadata": {},
   "outputs": [],
   "source": [
    "def find_top_bottom(stdnts):\n",
    "    '''\n",
    "    >>> stdnts = [('S1', 70, 75), ('S2', 60, 85), ('S3', 50, 27)]\n",
    "    >>> find_top_bottom(stdnts)\n",
    "    \n",
    "    '''\n",
    "    # key specified considers tie rule as: alphabetical order\n",
    "    srted_marks = sorted(stdnts, key=lambda x: (x[1]+ x[2], x[0]))\n",
    "    bottom, top = srted_marks[0:2], srted_marks[-2:]\n",
    "    \n",
    "    print('The top two students are', top[0][0], 'and', top[1][0])\n",
    "    print('The bottom two students are', bottom[0][0], 'and', bottom[1][0])\n",
    "    \n",
    "    return {'top': (top[0][0], top[1][0]),\n",
    "           'bottom': (bottom[0][0], bottom[1][0])}"
   ]
  },
  {
   "cell_type": "code",
   "execution_count": 8,
   "metadata": {},
   "outputs": [
    {
     "name": "stdout",
     "output_type": "stream",
     "text": [
      "('The top two students are', 'S1', 'and', 'S2')\n",
      "('The bottom two students are', 'S3', 'and', 'S1')\n"
     ]
    },
    {
     "data": {
      "text/plain": [
       "{'bottom': ('S3', 'S1'), 'top': ('S1', 'S2')}"
      ]
     },
     "execution_count": 8,
     "metadata": {},
     "output_type": "execute_result"
    }
   ],
   "source": [
    "find_top_bottom(stdnts)"
   ]
  },
  {
   "cell_type": "code",
   "execution_count": 10,
   "metadata": {},
   "outputs": [],
   "source": [
    "import numpy as np"
   ]
  },
  {
   "cell_type": "code",
   "execution_count": 11,
   "metadata": {},
   "outputs": [],
   "source": [
    "A = np.ones((3, 4))"
   ]
  },
  {
   "cell_type": "code",
   "execution_count": 13,
   "metadata": {},
   "outputs": [
    {
     "ename": "SyntaxError",
     "evalue": "invalid syntax (<ipython-input-13-538cbdc248d7>, line 1)",
     "output_type": "error",
     "traceback": [
      "\u001b[1;36m  File \u001b[1;32m\"<ipython-input-13-538cbdc248d7>\"\u001b[1;36m, line \u001b[1;32m1\u001b[0m\n\u001b[1;33m    A @ A\u001b[0m\n\u001b[1;37m      ^\u001b[0m\n\u001b[1;31mSyntaxError\u001b[0m\u001b[1;31m:\u001b[0m invalid syntax\n"
     ]
    }
   ],
   "source": [
    "np.ma"
   ]
  },
  {
   "cell_type": "code",
   "execution_count": 17,
   "metadata": {},
   "outputs": [],
   "source": [
    "import numpy as np\n",
    "\n",
    "def is_associative(A, B, C):\n",
    "    A, B, C = np.array(A), np.array(B), np.array(C)\n",
    "    \n",
    "    if np.equal(np.matmul(np.matmul(A, B), C),\n",
    "                np.matmul(A, np.matmul(B, C))\n",
    "               ).all():\n",
    "        return True\n",
    "    \n",
    "    return False"
   ]
  },
  {
   "cell_type": "code",
   "execution_count": null,
   "metadata": {},
   "outputs": [],
   "source": [
    "np.equal"
   ]
  },
  {
   "cell_type": "code",
   "execution_count": 19,
   "metadata": {},
   "outputs": [
    {
     "data": {
      "text/plain": [
       "True"
      ]
     },
     "execution_count": 19,
     "metadata": {},
     "output_type": "execute_result"
    }
   ],
   "source": [
    "A = np.ones((3, 3))\n",
    "is_associative(A, 2*A, A)"
   ]
  },
  {
   "cell_type": "code",
   "execution_count": 1,
   "metadata": {},
   "outputs": [],
   "source": [
    "stdnts = [('S1', 70, 75), ('S2', 60, 85), ('S3', 50, 27)]"
   ]
  },
  {
   "cell_type": "code",
   "execution_count": 3,
   "metadata": {},
   "outputs": [
    {
     "data": {
      "text/plain": [
       "[('S3', 50, 27), ('S1', 70, 75), ('S2', 60, 85)]"
      ]
     },
     "execution_count": 3,
     "metadata": {},
     "output_type": "execute_result"
    }
   ],
   "source": [
    "sorted(stdnts, key=lambda x: x[1] + x[2])"
   ]
  },
  {
   "cell_type": "code",
   "execution_count": 4,
   "metadata": {},
   "outputs": [
    {
     "data": {
      "text/plain": [
       "[('S2', 60, 85), ('S3', 50, 27)]"
      ]
     },
     "execution_count": 4,
     "metadata": {},
     "output_type": "execute_result"
    }
   ],
   "source": [
    "stdnts[-2:]"
   ]
  },
  {
   "cell_type": "code",
   "execution_count": null,
   "metadata": {},
   "outputs": [],
   "source": []
  }
 ],
 "metadata": {
  "kernelspec": {
   "display_name": "Python 2",
   "language": "python",
   "name": "python2"
  },
  "language_info": {
   "codemirror_mode": {
    "name": "ipython",
    "version": 2
   },
   "file_extension": ".py",
   "mimetype": "text/x-python",
   "name": "python",
   "nbconvert_exporter": "python",
   "pygments_lexer": "ipython2",
   "version": "2.7.15"
  }
 },
 "nbformat": 4,
 "nbformat_minor": 2
}
