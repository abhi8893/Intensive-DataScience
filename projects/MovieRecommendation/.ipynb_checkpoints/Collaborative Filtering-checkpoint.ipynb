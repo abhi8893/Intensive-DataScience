{
 "cells": [
  {
   "cell_type": "markdown",
   "metadata": {},
   "source": [
    "# Collaborative Filtering"
   ]
  },
  {
   "cell_type": "markdown",
   "metadata": {},
   "source": [
    "* Not all Users have rated every movie (This is logical, and not really a missing data)\n",
    "* "
   ]
  },
  {
   "cell_type": "code",
   "execution_count": 75,
   "metadata": {
    "ExecuteTime": {
     "end_time": "2020-03-15T10:40:22.350680Z",
     "start_time": "2020-03-15T10:40:22.347897Z"
    }
   },
   "outputs": [],
   "source": [
    "import pandas as pd\n",
    "import numpy as np\n",
    "import matplotlib.pyplot as plt"
   ]
  },
  {
   "cell_type": "code",
   "execution_count": 2,
   "metadata": {
    "ExecuteTime": {
     "end_time": "2020-03-15T10:00:46.673285Z",
     "start_time": "2020-03-15T10:00:46.206880Z"
    }
   },
   "outputs": [],
   "source": [
    "from sklearn.metrics.pairwise import pairwise_distances"
   ]
  },
  {
   "cell_type": "code",
   "execution_count": 130,
   "metadata": {
    "ExecuteTime": {
     "end_time": "2020-03-15T10:53:32.515255Z",
     "start_time": "2020-03-15T10:53:32.466769Z"
    }
   },
   "outputs": [
    {
     "data": {
      "text/html": [
       "<div>\n",
       "<style scoped>\n",
       "    .dataframe tbody tr th:only-of-type {\n",
       "        vertical-align: middle;\n",
       "    }\n",
       "\n",
       "    .dataframe tbody tr th {\n",
       "        vertical-align: top;\n",
       "    }\n",
       "\n",
       "    .dataframe thead th {\n",
       "        text-align: right;\n",
       "    }\n",
       "</style>\n",
       "<table border=\"1\" class=\"dataframe\">\n",
       "  <thead>\n",
       "    <tr style=\"text-align: right;\">\n",
       "      <th></th>\n",
       "      <th>user_id</th>\n",
       "      <th>movie_id</th>\n",
       "      <th>rating</th>\n",
       "      <th>unix_timestamp</th>\n",
       "    </tr>\n",
       "  </thead>\n",
       "  <tbody>\n",
       "    <tr>\n",
       "      <td>0</td>\n",
       "      <td>1</td>\n",
       "      <td>1</td>\n",
       "      <td>5</td>\n",
       "      <td>874965758</td>\n",
       "    </tr>\n",
       "    <tr>\n",
       "      <td>1</td>\n",
       "      <td>1</td>\n",
       "      <td>2</td>\n",
       "      <td>3</td>\n",
       "      <td>876893171</td>\n",
       "    </tr>\n",
       "    <tr>\n",
       "      <td>2</td>\n",
       "      <td>1</td>\n",
       "      <td>3</td>\n",
       "      <td>4</td>\n",
       "      <td>878542960</td>\n",
       "    </tr>\n",
       "    <tr>\n",
       "      <td>3</td>\n",
       "      <td>1</td>\n",
       "      <td>4</td>\n",
       "      <td>3</td>\n",
       "      <td>876893119</td>\n",
       "    </tr>\n",
       "    <tr>\n",
       "      <td>4</td>\n",
       "      <td>1</td>\n",
       "      <td>5</td>\n",
       "      <td>3</td>\n",
       "      <td>889751712</td>\n",
       "    </tr>\n",
       "  </tbody>\n",
       "</table>\n",
       "</div>"
      ],
      "text/plain": [
       "   user_id  movie_id  rating  unix_timestamp\n",
       "0        1         1       5       874965758\n",
       "1        1         2       3       876893171\n",
       "2        1         3       4       878542960\n",
       "3        1         4       3       876893119\n",
       "4        1         5       3       889751712"
      ]
     },
     "execution_count": 130,
     "metadata": {},
     "output_type": "execute_result"
    }
   ],
   "source": [
    "r_cols = [\"user_id\", \"movie_id\", \"rating\", \"unix_timestamp\"]\n",
    "ratings_train = pd.read_csv(\"data/ml-100k/ua.base\", names=r_cols, sep=\"\\t\", encoding=\"latin-1\")\n",
    "ratings_train.head()"
   ]
  },
  {
   "cell_type": "code",
   "execution_count": 131,
   "metadata": {
    "ExecuteTime": {
     "end_time": "2020-03-15T10:53:36.948523Z",
     "start_time": "2020-03-15T10:53:36.931200Z"
    }
   },
   "outputs": [
    {
     "data": {
      "text/plain": [
       "user_id           0\n",
       "movie_id          0\n",
       "rating            0\n",
       "unix_timestamp    0\n",
       "dtype: int64"
      ]
     },
     "execution_count": 131,
     "metadata": {},
     "output_type": "execute_result"
    }
   ],
   "source": [
    "ratings_train.isna().sum()"
   ]
  },
  {
   "cell_type": "code",
   "execution_count": 132,
   "metadata": {
    "ExecuteTime": {
     "end_time": "2020-03-15T10:53:41.693502Z",
     "start_time": "2020-03-15T10:53:41.632362Z"
    }
   },
   "outputs": [],
   "source": [
    "X_train = ratings.pivot_table(values='rating', index='user_id', columns='movie_id')"
   ]
  },
  {
   "cell_type": "code",
   "execution_count": 133,
   "metadata": {
    "ExecuteTime": {
     "end_time": "2020-03-15T10:53:47.329746Z",
     "start_time": "2020-03-15T10:53:47.324448Z"
    }
   },
   "outputs": [
    {
     "data": {
      "text/plain": [
       "(943, 1680)"
      ]
     },
     "execution_count": 133,
     "metadata": {},
     "output_type": "execute_result"
    }
   ],
   "source": [
    "X_train.shape"
   ]
  },
  {
   "cell_type": "code",
   "execution_count": 134,
   "metadata": {
    "ExecuteTime": {
     "end_time": "2020-03-15T10:53:52.562260Z",
     "start_time": "2020-03-15T10:53:52.559174Z"
    }
   },
   "outputs": [],
   "source": [
    "n_users, n_items = X_train.shape"
   ]
  },
  {
   "cell_type": "code",
   "execution_count": 95,
   "metadata": {
    "ExecuteTime": {
     "end_time": "2020-03-15T10:47:27.503680Z",
     "start_time": "2020-03-15T10:47:27.497836Z"
    }
   },
   "outputs": [],
   "source": [
    "user_sim = np.zeros((n_users, n_users))\n",
    "item_sim = np.zeros((n_items, n_items))"
   ]
  },
  {
   "cell_type": "code",
   "execution_count": 135,
   "metadata": {
    "ExecuteTime": {
     "end_time": "2020-03-15T10:53:58.462104Z",
     "start_time": "2020-03-15T10:53:58.451249Z"
    }
   },
   "outputs": [],
   "source": [
    "X_isna = X_train.isna()"
   ]
  },
  {
   "cell_type": "code",
   "execution_count": 136,
   "metadata": {
    "ExecuteTime": {
     "end_time": "2020-03-15T10:54:53.557541Z",
     "start_time": "2020-03-15T10:54:53.546790Z"
    }
   },
   "outputs": [],
   "source": [
    "def calc_dist_nan(curr_id, other_id, calc, metric):\n",
    "    if calc == \"user\":\n",
    "        curr = X_train.loc[curr_id, :]\n",
    "        other = X_train.loc[other_id, :]\n",
    "        curr_isna = X_isna.loc[curr_id, :]\n",
    "        other_isna = X_isna.loc[other_id, :]\n",
    "        \n",
    "    elif calc == \"item\":\n",
    "        curr = X_train.loc[:, curr_id]\n",
    "        other = X_train.loc[:, other_id]\n",
    "        curr_isna = X_isna.loc[:, curr_id]\n",
    "        other_isna = X_isna.loc[:, other_id]\n",
    "        \n",
    "        \n",
    "    valid_idx = ~(curr_isna | other_isna)\n",
    "    other = other.loc[valid_idx].values.reshape(1, -1)\n",
    "    curr = curr.loc[valid_idx].values.reshape(1, -1)\n",
    "    \n",
    "    try:\n",
    "        res = pairwise_distances(curr, other, metric=metric)[0, 0]\n",
    "    except ValueError:\n",
    "        res = np.nan\n",
    "    \n",
    "    return res"
   ]
  },
  {
   "cell_type": "code",
   "execution_count": 137,
   "metadata": {
    "ExecuteTime": {
     "end_time": "2020-03-15T10:54:53.992886Z",
     "start_time": "2020-03-15T10:54:53.984684Z"
    }
   },
   "outputs": [
    {
     "data": {
      "text/plain": [
       "0.6050554126894128"
      ]
     },
     "execution_count": 137,
     "metadata": {},
     "output_type": "execute_result"
    }
   ],
   "source": [
    "calc_dist_nan(1, 5, \"user\", \"correlation\")"
   ]
  },
  {
   "cell_type": "code",
   "execution_count": 12,
   "metadata": {
    "ExecuteTime": {
     "end_time": "2020-03-15T10:00:51.625229Z",
     "start_time": "2020-03-15T10:00:51.622816Z"
    }
   },
   "outputs": [],
   "source": [
    "# for user_id in user_ids:\n",
    "#     for other_id in user_ids:\n",
    "#         user_sim[user_id-1, other_id-1] = calc_dist_nan(user_id, other_id, \"user\", \"correlation\")"
   ]
  },
  {
   "cell_type": "markdown",
   "metadata": {},
   "source": [
    "* Cosine Similarity is not affected by ZERO padding (X -> X_zf (zero-fill))\n",
    "* Pearson Correlation is not affected by MEAN padding (X -> X_umf, X_imf (user and item mean-fill))"
   ]
  },
  {
   "cell_type": "code",
   "execution_count": 138,
   "metadata": {
    "ExecuteTime": {
     "end_time": "2020-03-15T10:56:02.278132Z",
     "start_time": "2020-03-15T10:56:01.786519Z"
    }
   },
   "outputs": [],
   "source": [
    "X__zf = X_train.fillna(0)\n",
    "X_umf = X_train.T.fillna(X_train.mean(axis=1), axis=0).T\n",
    "X_imf = X_train.fillna(X_train.mean(axis=0), axis=0)"
   ]
  },
  {
   "cell_type": "markdown",
   "metadata": {},
   "source": [
    "Here I choose the pearson correlation similarity"
   ]
  },
  {
   "cell_type": "code",
   "execution_count": 139,
   "metadata": {
    "ExecuteTime": {
     "end_time": "2020-03-15T10:56:07.207356Z",
     "start_time": "2020-03-15T10:56:06.173889Z"
    }
   },
   "outputs": [],
   "source": [
    "user_sim = 1 - pairwise_distances(X_umf, X_umf, metric=\"correlation\")"
   ]
  },
  {
   "cell_type": "code",
   "execution_count": 140,
   "metadata": {
    "ExecuteTime": {
     "end_time": "2020-03-15T10:56:09.677857Z",
     "start_time": "2020-03-15T10:56:07.775532Z"
    }
   },
   "outputs": [],
   "source": [
    "item_sim = 1 - pairwise_distances(X_imf.T, X_imf.T, metric=\"correlation\")"
   ]
  },
  {
   "cell_type": "code",
   "execution_count": 142,
   "metadata": {
    "ExecuteTime": {
     "end_time": "2020-03-15T10:56:26.806763Z",
     "start_time": "2020-03-15T10:56:26.799040Z"
    }
   },
   "outputs": [],
   "source": [
    "user_sim = pd.DataFrame(user_sim, index=X_train.index, columns=X_train.index)\n",
    "item_sim = pd.DataFrame(item_sim, index=X_train.columns, columns=X_train.columns)"
   ]
  },
  {
   "cell_type": "markdown",
   "metadata": {},
   "source": [
    "Item similarity has NaN values as some of the columns had the same entries for each movie "
   ]
  },
  {
   "cell_type": "code",
   "execution_count": 143,
   "metadata": {
    "ExecuteTime": {
     "end_time": "2020-03-15T10:56:28.159900Z",
     "start_time": "2020-03-15T10:56:28.117393Z"
    }
   },
   "outputs": [],
   "source": [
    "item_sim.fillna(0, inplace=True)"
   ]
  },
  {
   "cell_type": "code",
   "execution_count": 144,
   "metadata": {
    "ExecuteTime": {
     "end_time": "2020-03-15T10:56:28.812195Z",
     "start_time": "2020-03-15T10:56:28.762769Z"
    }
   },
   "outputs": [
    {
     "data": {
      "text/html": [
       "<div>\n",
       "<style scoped>\n",
       "    .dataframe tbody tr th:only-of-type {\n",
       "        vertical-align: middle;\n",
       "    }\n",
       "\n",
       "    .dataframe tbody tr th {\n",
       "        vertical-align: top;\n",
       "    }\n",
       "\n",
       "    .dataframe thead th {\n",
       "        text-align: right;\n",
       "    }\n",
       "</style>\n",
       "<table border=\"1\" class=\"dataframe\">\n",
       "  <thead>\n",
       "    <tr style=\"text-align: right;\">\n",
       "      <th>user_id</th>\n",
       "      <th>1</th>\n",
       "      <th>2</th>\n",
       "      <th>3</th>\n",
       "      <th>4</th>\n",
       "      <th>5</th>\n",
       "      <th>6</th>\n",
       "      <th>7</th>\n",
       "      <th>8</th>\n",
       "      <th>9</th>\n",
       "      <th>10</th>\n",
       "      <th>...</th>\n",
       "      <th>934</th>\n",
       "      <th>935</th>\n",
       "      <th>936</th>\n",
       "      <th>937</th>\n",
       "      <th>938</th>\n",
       "      <th>939</th>\n",
       "      <th>940</th>\n",
       "      <th>941</th>\n",
       "      <th>942</th>\n",
       "      <th>943</th>\n",
       "    </tr>\n",
       "    <tr>\n",
       "      <th>user_id</th>\n",
       "      <th></th>\n",
       "      <th></th>\n",
       "      <th></th>\n",
       "      <th></th>\n",
       "      <th></th>\n",
       "      <th></th>\n",
       "      <th></th>\n",
       "      <th></th>\n",
       "      <th></th>\n",
       "      <th></th>\n",
       "      <th></th>\n",
       "      <th></th>\n",
       "      <th></th>\n",
       "      <th></th>\n",
       "      <th></th>\n",
       "      <th></th>\n",
       "      <th></th>\n",
       "      <th></th>\n",
       "      <th></th>\n",
       "      <th></th>\n",
       "      <th></th>\n",
       "    </tr>\n",
       "  </thead>\n",
       "  <tbody>\n",
       "    <tr>\n",
       "      <td>1</td>\n",
       "      <td>1.000000</td>\n",
       "      <td>0.028590</td>\n",
       "      <td>-0.003828</td>\n",
       "      <td>0.020081</td>\n",
       "      <td>0.124110</td>\n",
       "      <td>0.106932</td>\n",
       "      <td>0.117792</td>\n",
       "      <td>0.188452</td>\n",
       "      <td>0.004759</td>\n",
       "      <td>0.006039</td>\n",
       "      <td>...</td>\n",
       "      <td>0.009763</td>\n",
       "      <td>-0.033367</td>\n",
       "      <td>0.086846</td>\n",
       "      <td>0.028380</td>\n",
       "      <td>0.070688</td>\n",
       "      <td>0.095859</td>\n",
       "      <td>0.080992</td>\n",
       "      <td>0.011840</td>\n",
       "      <td>-0.044896</td>\n",
       "      <td>0.043661</td>\n",
       "    </tr>\n",
       "    <tr>\n",
       "      <td>2</td>\n",
       "      <td>0.028590</td>\n",
       "      <td>1.000000</td>\n",
       "      <td>-0.021223</td>\n",
       "      <td>-0.006146</td>\n",
       "      <td>0.025119</td>\n",
       "      <td>0.104709</td>\n",
       "      <td>0.087534</td>\n",
       "      <td>0.006623</td>\n",
       "      <td>0.007834</td>\n",
       "      <td>0.066855</td>\n",
       "      <td>...</td>\n",
       "      <td>-0.013352</td>\n",
       "      <td>0.025006</td>\n",
       "      <td>0.047662</td>\n",
       "      <td>0.182241</td>\n",
       "      <td>0.038222</td>\n",
       "      <td>0.039041</td>\n",
       "      <td>0.012068</td>\n",
       "      <td>-0.045436</td>\n",
       "      <td>-0.006165</td>\n",
       "      <td>0.039756</td>\n",
       "    </tr>\n",
       "    <tr>\n",
       "      <td>3</td>\n",
       "      <td>-0.003828</td>\n",
       "      <td>-0.021223</td>\n",
       "      <td>1.000000</td>\n",
       "      <td>-0.013882</td>\n",
       "      <td>0.017186</td>\n",
       "      <td>-0.040819</td>\n",
       "      <td>0.007468</td>\n",
       "      <td>0.053729</td>\n",
       "      <td>0.000000</td>\n",
       "      <td>0.010856</td>\n",
       "      <td>...</td>\n",
       "      <td>0.000876</td>\n",
       "      <td>0.000172</td>\n",
       "      <td>-0.028436</td>\n",
       "      <td>0.014123</td>\n",
       "      <td>-0.002138</td>\n",
       "      <td>-0.013758</td>\n",
       "      <td>-0.009838</td>\n",
       "      <td>-0.005399</td>\n",
       "      <td>0.022304</td>\n",
       "      <td>0.001957</td>\n",
       "    </tr>\n",
       "    <tr>\n",
       "      <td>4</td>\n",
       "      <td>0.020081</td>\n",
       "      <td>-0.006146</td>\n",
       "      <td>-0.013882</td>\n",
       "      <td>1.000000</td>\n",
       "      <td>-0.001941</td>\n",
       "      <td>0.000000</td>\n",
       "      <td>-0.020235</td>\n",
       "      <td>0.177352</td>\n",
       "      <td>0.000000</td>\n",
       "      <td>0.002642</td>\n",
       "      <td>...</td>\n",
       "      <td>-0.009107</td>\n",
       "      <td>0.001272</td>\n",
       "      <td>-0.026177</td>\n",
       "      <td>-0.018798</td>\n",
       "      <td>0.023365</td>\n",
       "      <td>0.000000</td>\n",
       "      <td>0.213826</td>\n",
       "      <td>0.329542</td>\n",
       "      <td>0.068909</td>\n",
       "      <td>-0.014356</td>\n",
       "    </tr>\n",
       "    <tr>\n",
       "      <td>5</td>\n",
       "      <td>0.124110</td>\n",
       "      <td>0.025119</td>\n",
       "      <td>0.017186</td>\n",
       "      <td>-0.001941</td>\n",
       "      <td>1.000000</td>\n",
       "      <td>0.034633</td>\n",
       "      <td>0.074725</td>\n",
       "      <td>0.133686</td>\n",
       "      <td>0.008440</td>\n",
       "      <td>0.004918</td>\n",
       "      <td>...</td>\n",
       "      <td>0.074736</td>\n",
       "      <td>0.000898</td>\n",
       "      <td>0.024986</td>\n",
       "      <td>0.042377</td>\n",
       "      <td>0.101132</td>\n",
       "      <td>0.026222</td>\n",
       "      <td>0.034262</td>\n",
       "      <td>0.009612</td>\n",
       "      <td>0.034556</td>\n",
       "      <td>0.094492</td>\n",
       "    </tr>\n",
       "  </tbody>\n",
       "</table>\n",
       "<p>5 rows × 943 columns</p>\n",
       "</div>"
      ],
      "text/plain": [
       "user_id       1         2         3         4         5         6         7    \\\n",
       "user_id                                                                         \n",
       "1        1.000000  0.028590 -0.003828  0.020081  0.124110  0.106932  0.117792   \n",
       "2        0.028590  1.000000 -0.021223 -0.006146  0.025119  0.104709  0.087534   \n",
       "3       -0.003828 -0.021223  1.000000 -0.013882  0.017186 -0.040819  0.007468   \n",
       "4        0.020081 -0.006146 -0.013882  1.000000 -0.001941  0.000000 -0.020235   \n",
       "5        0.124110  0.025119  0.017186 -0.001941  1.000000  0.034633  0.074725   \n",
       "\n",
       "user_id       8         9         10   ...       934       935       936  \\\n",
       "user_id                                ...                                 \n",
       "1        0.188452  0.004759  0.006039  ...  0.009763 -0.033367  0.086846   \n",
       "2        0.006623  0.007834  0.066855  ... -0.013352  0.025006  0.047662   \n",
       "3        0.053729  0.000000  0.010856  ...  0.000876  0.000172 -0.028436   \n",
       "4        0.177352  0.000000  0.002642  ... -0.009107  0.001272 -0.026177   \n",
       "5        0.133686  0.008440  0.004918  ...  0.074736  0.000898  0.024986   \n",
       "\n",
       "user_id       937       938       939       940       941       942       943  \n",
       "user_id                                                                        \n",
       "1        0.028380  0.070688  0.095859  0.080992  0.011840 -0.044896  0.043661  \n",
       "2        0.182241  0.038222  0.039041  0.012068 -0.045436 -0.006165  0.039756  \n",
       "3        0.014123 -0.002138 -0.013758 -0.009838 -0.005399  0.022304  0.001957  \n",
       "4       -0.018798  0.023365  0.000000  0.213826  0.329542  0.068909 -0.014356  \n",
       "5        0.042377  0.101132  0.026222  0.034262  0.009612  0.034556  0.094492  \n",
       "\n",
       "[5 rows x 943 columns]"
      ]
     },
     "execution_count": 144,
     "metadata": {},
     "output_type": "execute_result"
    }
   ],
   "source": [
    "user_sim.head()"
   ]
  },
  {
   "cell_type": "code",
   "execution_count": 145,
   "metadata": {
    "ExecuteTime": {
     "end_time": "2020-03-15T10:56:29.842598Z",
     "start_time": "2020-03-15T10:56:29.821606Z"
    }
   },
   "outputs": [
    {
     "data": {
      "text/html": [
       "<div>\n",
       "<style scoped>\n",
       "    .dataframe tbody tr th:only-of-type {\n",
       "        vertical-align: middle;\n",
       "    }\n",
       "\n",
       "    .dataframe tbody tr th {\n",
       "        vertical-align: top;\n",
       "    }\n",
       "\n",
       "    .dataframe thead th {\n",
       "        text-align: right;\n",
       "    }\n",
       "</style>\n",
       "<table border=\"1\" class=\"dataframe\">\n",
       "  <thead>\n",
       "    <tr style=\"text-align: right;\">\n",
       "      <th>movie_id</th>\n",
       "      <th>1</th>\n",
       "      <th>2</th>\n",
       "      <th>3</th>\n",
       "      <th>4</th>\n",
       "      <th>5</th>\n",
       "      <th>6</th>\n",
       "      <th>7</th>\n",
       "      <th>8</th>\n",
       "      <th>9</th>\n",
       "      <th>10</th>\n",
       "      <th>...</th>\n",
       "      <th>1673</th>\n",
       "      <th>1674</th>\n",
       "      <th>1675</th>\n",
       "      <th>1676</th>\n",
       "      <th>1677</th>\n",
       "      <th>1678</th>\n",
       "      <th>1679</th>\n",
       "      <th>1680</th>\n",
       "      <th>1681</th>\n",
       "      <th>1682</th>\n",
       "    </tr>\n",
       "    <tr>\n",
       "      <th>movie_id</th>\n",
       "      <th></th>\n",
       "      <th></th>\n",
       "      <th></th>\n",
       "      <th></th>\n",
       "      <th></th>\n",
       "      <th></th>\n",
       "      <th></th>\n",
       "      <th></th>\n",
       "      <th></th>\n",
       "      <th></th>\n",
       "      <th></th>\n",
       "      <th></th>\n",
       "      <th></th>\n",
       "      <th></th>\n",
       "      <th></th>\n",
       "      <th></th>\n",
       "      <th></th>\n",
       "      <th></th>\n",
       "      <th></th>\n",
       "      <th></th>\n",
       "      <th></th>\n",
       "    </tr>\n",
       "  </thead>\n",
       "  <tbody>\n",
       "    <tr>\n",
       "      <td>1</td>\n",
       "      <td>1.000000</td>\n",
       "      <td>0.094325</td>\n",
       "      <td>0.088859</td>\n",
       "      <td>0.049576</td>\n",
       "      <td>0.111533</td>\n",
       "      <td>0.074350</td>\n",
       "      <td>0.137681</td>\n",
       "      <td>0.114308</td>\n",
       "      <td>0.070285</td>\n",
       "      <td>0.053710</td>\n",
       "      <td>...</td>\n",
       "      <td>0.0</td>\n",
       "      <td>0.0</td>\n",
       "      <td>0.0</td>\n",
       "      <td>0.0</td>\n",
       "      <td>0.0</td>\n",
       "      <td>0.0</td>\n",
       "      <td>0.0</td>\n",
       "      <td>0.0</td>\n",
       "      <td>0.0</td>\n",
       "      <td>0.0</td>\n",
       "    </tr>\n",
       "    <tr>\n",
       "      <td>2</td>\n",
       "      <td>0.094325</td>\n",
       "      <td>1.000000</td>\n",
       "      <td>0.070472</td>\n",
       "      <td>0.120234</td>\n",
       "      <td>0.067024</td>\n",
       "      <td>-0.011068</td>\n",
       "      <td>0.068603</td>\n",
       "      <td>0.132597</td>\n",
       "      <td>-0.070552</td>\n",
       "      <td>0.046792</td>\n",
       "      <td>...</td>\n",
       "      <td>0.0</td>\n",
       "      <td>0.0</td>\n",
       "      <td>0.0</td>\n",
       "      <td>0.0</td>\n",
       "      <td>0.0</td>\n",
       "      <td>0.0</td>\n",
       "      <td>0.0</td>\n",
       "      <td>0.0</td>\n",
       "      <td>0.0</td>\n",
       "      <td>0.0</td>\n",
       "    </tr>\n",
       "    <tr>\n",
       "      <td>3</td>\n",
       "      <td>0.088859</td>\n",
       "      <td>0.070472</td>\n",
       "      <td>1.000000</td>\n",
       "      <td>-0.053400</td>\n",
       "      <td>0.027067</td>\n",
       "      <td>0.063664</td>\n",
       "      <td>0.036606</td>\n",
       "      <td>-0.014717</td>\n",
       "      <td>0.015743</td>\n",
       "      <td>0.010401</td>\n",
       "      <td>...</td>\n",
       "      <td>0.0</td>\n",
       "      <td>0.0</td>\n",
       "      <td>0.0</td>\n",
       "      <td>0.0</td>\n",
       "      <td>0.0</td>\n",
       "      <td>0.0</td>\n",
       "      <td>0.0</td>\n",
       "      <td>0.0</td>\n",
       "      <td>0.0</td>\n",
       "      <td>0.0</td>\n",
       "    </tr>\n",
       "    <tr>\n",
       "      <td>4</td>\n",
       "      <td>0.049576</td>\n",
       "      <td>0.120234</td>\n",
       "      <td>-0.053400</td>\n",
       "      <td>1.000000</td>\n",
       "      <td>-0.117680</td>\n",
       "      <td>-0.001884</td>\n",
       "      <td>0.079612</td>\n",
       "      <td>0.138738</td>\n",
       "      <td>0.094984</td>\n",
       "      <td>0.034637</td>\n",
       "      <td>...</td>\n",
       "      <td>0.0</td>\n",
       "      <td>0.0</td>\n",
       "      <td>0.0</td>\n",
       "      <td>0.0</td>\n",
       "      <td>0.0</td>\n",
       "      <td>0.0</td>\n",
       "      <td>0.0</td>\n",
       "      <td>0.0</td>\n",
       "      <td>0.0</td>\n",
       "      <td>0.0</td>\n",
       "    </tr>\n",
       "    <tr>\n",
       "      <td>5</td>\n",
       "      <td>0.111533</td>\n",
       "      <td>0.067024</td>\n",
       "      <td>0.027067</td>\n",
       "      <td>-0.117680</td>\n",
       "      <td>1.000000</td>\n",
       "      <td>-0.022720</td>\n",
       "      <td>0.078582</td>\n",
       "      <td>0.062860</td>\n",
       "      <td>0.028432</td>\n",
       "      <td>-0.030891</td>\n",
       "      <td>...</td>\n",
       "      <td>0.0</td>\n",
       "      <td>0.0</td>\n",
       "      <td>0.0</td>\n",
       "      <td>0.0</td>\n",
       "      <td>0.0</td>\n",
       "      <td>0.0</td>\n",
       "      <td>0.0</td>\n",
       "      <td>0.0</td>\n",
       "      <td>0.0</td>\n",
       "      <td>0.0</td>\n",
       "    </tr>\n",
       "  </tbody>\n",
       "</table>\n",
       "<p>5 rows × 1680 columns</p>\n",
       "</div>"
      ],
      "text/plain": [
       "movie_id      1         2         3         4         5         6     \\\n",
       "movie_id                                                               \n",
       "1         1.000000  0.094325  0.088859  0.049576  0.111533  0.074350   \n",
       "2         0.094325  1.000000  0.070472  0.120234  0.067024 -0.011068   \n",
       "3         0.088859  0.070472  1.000000 -0.053400  0.027067  0.063664   \n",
       "4         0.049576  0.120234 -0.053400  1.000000 -0.117680 -0.001884   \n",
       "5         0.111533  0.067024  0.027067 -0.117680  1.000000 -0.022720   \n",
       "\n",
       "movie_id      7         8         9         10    ...  1673  1674  1675  1676  \\\n",
       "movie_id                                          ...                           \n",
       "1         0.137681  0.114308  0.070285  0.053710  ...   0.0   0.0   0.0   0.0   \n",
       "2         0.068603  0.132597 -0.070552  0.046792  ...   0.0   0.0   0.0   0.0   \n",
       "3         0.036606 -0.014717  0.015743  0.010401  ...   0.0   0.0   0.0   0.0   \n",
       "4         0.079612  0.138738  0.094984  0.034637  ...   0.0   0.0   0.0   0.0   \n",
       "5         0.078582  0.062860  0.028432 -0.030891  ...   0.0   0.0   0.0   0.0   \n",
       "\n",
       "movie_id  1677  1678  1679  1680  1681  1682  \n",
       "movie_id                                      \n",
       "1          0.0   0.0   0.0   0.0   0.0   0.0  \n",
       "2          0.0   0.0   0.0   0.0   0.0   0.0  \n",
       "3          0.0   0.0   0.0   0.0   0.0   0.0  \n",
       "4          0.0   0.0   0.0   0.0   0.0   0.0  \n",
       "5          0.0   0.0   0.0   0.0   0.0   0.0  \n",
       "\n",
       "[5 rows x 1680 columns]"
      ]
     },
     "execution_count": 145,
     "metadata": {},
     "output_type": "execute_result"
    }
   ],
   "source": [
    "item_sim.head()"
   ]
  },
  {
   "cell_type": "markdown",
   "metadata": {},
   "source": [
    "## User-User Collaborative filtering"
   ]
  },
  {
   "cell_type": "code",
   "execution_count": 147,
   "metadata": {
    "ExecuteTime": {
     "end_time": "2020-03-15T10:56:38.701523Z",
     "start_time": "2020-03-15T10:56:38.696244Z"
    }
   },
   "outputs": [
    {
     "data": {
      "text/plain": [
       "(943, 1680)"
      ]
     },
     "execution_count": 147,
     "metadata": {},
     "output_type": "execute_result"
    }
   ],
   "source": [
    "X_train.shape"
   ]
  },
  {
   "cell_type": "code",
   "execution_count": 107,
   "metadata": {
    "ExecuteTime": {
     "end_time": "2020-03-15T10:47:48.051375Z",
     "start_time": "2020-03-15T10:47:48.047742Z"
    }
   },
   "outputs": [
    {
     "data": {
      "text/plain": [
       "(943, 943)"
      ]
     },
     "execution_count": 107,
     "metadata": {},
     "output_type": "execute_result"
    }
   ],
   "source": [
    "user_sim.shape"
   ]
  },
  {
   "cell_type": "code",
   "execution_count": 22,
   "metadata": {
    "ExecuteTime": {
     "end_time": "2020-03-15T10:00:59.726524Z",
     "start_time": "2020-03-15T10:00:59.709654Z"
    }
   },
   "outputs": [],
   "source": [
    "def predict_rating(ratings, similarity, method):\n",
    "    if method == \"user-user\":\n",
    "        pass\n",
    "    \n",
    "    elif method == \"item-item\":\n",
    "        pass\n",
    "    \n",
    "    return None"
   ]
  },
  {
   "cell_type": "code",
   "execution_count": 108,
   "metadata": {
    "ExecuteTime": {
     "end_time": "2020-03-15T10:47:51.057957Z",
     "start_time": "2020-03-15T10:47:51.054699Z"
    }
   },
   "outputs": [],
   "source": [
    "from sklearn.base import BaseEstimator, ClassifierMixin"
   ]
  },
  {
   "cell_type": "code",
   "execution_count": 148,
   "metadata": {
    "ExecuteTime": {
     "end_time": "2020-03-15T10:56:48.935291Z",
     "start_time": "2020-03-15T10:56:48.911973Z"
    }
   },
   "outputs": [],
   "source": [
    "class Recommender(BaseEstimator, ClassifierMixin):\n",
    "    def __init__(self, engine, method):\n",
    "        '''\n",
    "        Parameters\n",
    "        ----------\n",
    "        engine: str, ['user', 'item']\n",
    "            user or item based collaborative filtering approach\n",
    "            \n",
    "        method: str, ['correlation', 'cosine']\n",
    "            Similarity metric to use\n",
    "            'correlation': pearson correlation,\n",
    "            'cosine': cosine similarity\n",
    "        '''\n",
    "        self.engine = engine\n",
    "        self.method = method\n",
    "        \n",
    "    \n",
    "    @staticmethod\n",
    "    def _impute(X, engine, method):\n",
    "\n",
    "        if engine == 'user':\n",
    "            if method == 'correlation':\n",
    "                X = X.T.fillna(X.mean(axis=1), axis=0).T\n",
    "            elif method == 'cosine':\n",
    "                X = X.fillna(0)\n",
    "                \n",
    "        elif engine == 'item':\n",
    "            if method == 'correlation':\n",
    "                X = X.fillna(X.mean(axis=0), axis=0).T\n",
    "            elif method == 'cosine':\n",
    "                X = X.fillna(0).T\n",
    "                \n",
    "                \n",
    "        return X\n",
    "        \n",
    "    def fit(self, user_item_ids, ratings):\n",
    "        ''' fit method\n",
    "        \n",
    "        Parameters\n",
    "        ----------\n",
    "        user_item_ids: np.array\n",
    "        ratings: np.array\n",
    "            ratings\n",
    "        '''\n",
    "        \n",
    "        user_ids, item_ids = user_item_ids[:, 0], user_item_ids[:, 1]\n",
    "        X = (pd.DataFrame(\n",
    "                {'user_id': user_ids, 'item_id': item_ids, 'rating': ratings}).\n",
    "                 pivot(values='rating', index='user_id', columns='item_id')\n",
    "                )\n",
    "        X = self._impute(X, self.engine, self.method)\n",
    "        \n",
    "        self.similarity = pd.DataFrame(1 - pairwise_distances(X, X, metric=self.method),\n",
    "                                       index=X.index, columns=X.index).fillna(0)\n",
    "        \n",
    "        self.pred_ratings = (self.similarity.dot(X)/abs(self.similarity).\n",
    "                             sum(axis=1).values.reshape(-1, 1))\n",
    "        \n",
    "        if self.engine == 'item':\n",
    "            self.pred_ratings = self.pred_ratings.T\n",
    "        \n",
    "        return self\n",
    "    \n",
    "#     def predict(self, user_item_ids):\n",
    "            \n",
    "#         user_id, item_id = user_item_ids[:, 0], user_item_ids[:, 1]\n",
    "            \n",
    "#         return pred\n",
    "    \n"
   ]
  },
  {
   "cell_type": "code",
   "execution_count": 149,
   "metadata": {
    "ExecuteTime": {
     "end_time": "2020-03-15T10:56:49.262354Z",
     "start_time": "2020-03-15T10:56:49.251445Z"
    }
   },
   "outputs": [],
   "source": [
    "from sklearn.model_selection import cross_val_score"
   ]
  },
  {
   "cell_type": "code",
   "execution_count": 150,
   "metadata": {
    "ExecuteTime": {
     "end_time": "2020-03-15T10:56:49.841712Z",
     "start_time": "2020-03-15T10:56:49.828654Z"
    }
   },
   "outputs": [],
   "source": [
    "def rmse(actual, pred):\n",
    "    size = (~actual.isna()).sum().sum()\n",
    "    return (((pred - actual)**(2)).sum().sum()/size)**(1/2)"
   ]
  },
  {
   "cell_type": "code",
   "execution_count": 151,
   "metadata": {
    "ExecuteTime": {
     "end_time": "2020-03-15T10:56:55.347654Z",
     "start_time": "2020-03-15T10:56:55.344717Z"
    }
   },
   "outputs": [],
   "source": [
    "from sklearn.model_selection import train_test_split"
   ]
  },
  {
   "cell_type": "code",
   "execution_count": 152,
   "metadata": {
    "ExecuteTime": {
     "end_time": "2020-03-15T10:57:33.988057Z",
     "start_time": "2020-03-15T10:57:32.695144Z"
    }
   },
   "outputs": [
    {
     "data": {
      "text/plain": [
       "Recommender(engine='user', method='correlation')"
      ]
     },
     "execution_count": 152,
     "metadata": {},
     "output_type": "execute_result"
    }
   ],
   "source": [
    "rcmdr = Recommender(\"user\", \"correlation\")\n",
    "rcmdr.fit(ratings_train.loc[:, [\"user_id\", \"movie_id\"]].values, ratings_train[\"rating\"].values)"
   ]
  },
  {
   "cell_type": "code",
   "execution_count": 153,
   "metadata": {
    "ExecuteTime": {
     "end_time": "2020-03-15T10:57:34.589706Z",
     "start_time": "2020-03-15T10:57:34.560284Z"
    }
   },
   "outputs": [
    {
     "data": {
      "text/html": [
       "<div>\n",
       "<style scoped>\n",
       "    .dataframe tbody tr th:only-of-type {\n",
       "        vertical-align: middle;\n",
       "    }\n",
       "\n",
       "    .dataframe tbody tr th {\n",
       "        vertical-align: top;\n",
       "    }\n",
       "\n",
       "    .dataframe thead th {\n",
       "        text-align: right;\n",
       "    }\n",
       "</style>\n",
       "<table border=\"1\" class=\"dataframe\">\n",
       "  <thead>\n",
       "    <tr style=\"text-align: right;\">\n",
       "      <th>item_id</th>\n",
       "      <th>1</th>\n",
       "      <th>2</th>\n",
       "      <th>3</th>\n",
       "      <th>4</th>\n",
       "      <th>5</th>\n",
       "      <th>6</th>\n",
       "      <th>7</th>\n",
       "      <th>8</th>\n",
       "      <th>9</th>\n",
       "      <th>10</th>\n",
       "      <th>...</th>\n",
       "      <th>1673</th>\n",
       "      <th>1674</th>\n",
       "      <th>1675</th>\n",
       "      <th>1676</th>\n",
       "      <th>1677</th>\n",
       "      <th>1678</th>\n",
       "      <th>1679</th>\n",
       "      <th>1680</th>\n",
       "      <th>1681</th>\n",
       "      <th>1682</th>\n",
       "    </tr>\n",
       "    <tr>\n",
       "      <th>user_id</th>\n",
       "      <th></th>\n",
       "      <th></th>\n",
       "      <th></th>\n",
       "      <th></th>\n",
       "      <th></th>\n",
       "      <th></th>\n",
       "      <th></th>\n",
       "      <th></th>\n",
       "      <th></th>\n",
       "      <th></th>\n",
       "      <th></th>\n",
       "      <th></th>\n",
       "      <th></th>\n",
       "      <th></th>\n",
       "      <th></th>\n",
       "      <th></th>\n",
       "      <th></th>\n",
       "      <th></th>\n",
       "      <th></th>\n",
       "      <th></th>\n",
       "      <th></th>\n",
       "    </tr>\n",
       "  </thead>\n",
       "  <tbody>\n",
       "    <tr>\n",
       "      <td>1</td>\n",
       "      <td>3.244741</td>\n",
       "      <td>2.948537</td>\n",
       "      <td>2.964926</td>\n",
       "      <td>3.034042</td>\n",
       "      <td>2.963416</td>\n",
       "      <td>3.042999</td>\n",
       "      <td>3.195328</td>\n",
       "      <td>3.068992</td>\n",
       "      <td>3.215707</td>\n",
       "      <td>3.027927</td>\n",
       "      <td>...</td>\n",
       "      <td>3.018414</td>\n",
       "      <td>3.018999</td>\n",
       "      <td>3.018294</td>\n",
       "      <td>3.016755</td>\n",
       "      <td>3.018625</td>\n",
       "      <td>3.017713</td>\n",
       "      <td>3.018945</td>\n",
       "      <td>3.018329</td>\n",
       "      <td>3.019024</td>\n",
       "      <td>3.017785</td>\n",
       "    </tr>\n",
       "    <tr>\n",
       "      <td>2</td>\n",
       "      <td>2.347613</td>\n",
       "      <td>2.251412</td>\n",
       "      <td>2.250957</td>\n",
       "      <td>2.269158</td>\n",
       "      <td>2.266191</td>\n",
       "      <td>2.281506</td>\n",
       "      <td>2.318986</td>\n",
       "      <td>2.312724</td>\n",
       "      <td>2.368964</td>\n",
       "      <td>2.212118</td>\n",
       "      <td>...</td>\n",
       "      <td>2.276349</td>\n",
       "      <td>2.278359</td>\n",
       "      <td>2.278048</td>\n",
       "      <td>2.277329</td>\n",
       "      <td>2.278095</td>\n",
       "      <td>2.279266</td>\n",
       "      <td>2.278404</td>\n",
       "      <td>2.278835</td>\n",
       "      <td>2.278380</td>\n",
       "      <td>2.278351</td>\n",
       "    </tr>\n",
       "    <tr>\n",
       "      <td>3</td>\n",
       "      <td>0.396649</td>\n",
       "      <td>0.376989</td>\n",
       "      <td>0.384401</td>\n",
       "      <td>0.401924</td>\n",
       "      <td>0.381184</td>\n",
       "      <td>0.395649</td>\n",
       "      <td>0.403709</td>\n",
       "      <td>0.425180</td>\n",
       "      <td>0.440036</td>\n",
       "      <td>0.401508</td>\n",
       "      <td>...</td>\n",
       "      <td>0.393566</td>\n",
       "      <td>0.395278</td>\n",
       "      <td>0.393926</td>\n",
       "      <td>0.390937</td>\n",
       "      <td>0.395205</td>\n",
       "      <td>0.398190</td>\n",
       "      <td>0.395379</td>\n",
       "      <td>0.396784</td>\n",
       "      <td>0.395292</td>\n",
       "      <td>0.395188</td>\n",
       "    </tr>\n",
       "    <tr>\n",
       "      <td>4</td>\n",
       "      <td>0.642394</td>\n",
       "      <td>0.641829</td>\n",
       "      <td>0.633882</td>\n",
       "      <td>0.638196</td>\n",
       "      <td>0.643305</td>\n",
       "      <td>0.653738</td>\n",
       "      <td>0.664402</td>\n",
       "      <td>0.676174</td>\n",
       "      <td>0.655355</td>\n",
       "      <td>0.656639</td>\n",
       "      <td>...</td>\n",
       "      <td>0.648838</td>\n",
       "      <td>0.647349</td>\n",
       "      <td>0.647354</td>\n",
       "      <td>0.647113</td>\n",
       "      <td>0.646901</td>\n",
       "      <td>0.647531</td>\n",
       "      <td>0.647465</td>\n",
       "      <td>0.647498</td>\n",
       "      <td>0.647501</td>\n",
       "      <td>0.647665</td>\n",
       "    </tr>\n",
       "    <tr>\n",
       "      <td>5</td>\n",
       "      <td>2.833243</td>\n",
       "      <td>2.598973</td>\n",
       "      <td>2.580645</td>\n",
       "      <td>2.678890</td>\n",
       "      <td>2.616358</td>\n",
       "      <td>2.647664</td>\n",
       "      <td>2.849655</td>\n",
       "      <td>2.766981</td>\n",
       "      <td>2.738744</td>\n",
       "      <td>2.660775</td>\n",
       "      <td>...</td>\n",
       "      <td>2.652954</td>\n",
       "      <td>2.651809</td>\n",
       "      <td>2.651067</td>\n",
       "      <td>2.649565</td>\n",
       "      <td>2.651553</td>\n",
       "      <td>2.650886</td>\n",
       "      <td>2.651717</td>\n",
       "      <td>2.651301</td>\n",
       "      <td>2.651777</td>\n",
       "      <td>2.651442</td>\n",
       "    </tr>\n",
       "    <tr>\n",
       "      <td>...</td>\n",
       "      <td>...</td>\n",
       "      <td>...</td>\n",
       "      <td>...</td>\n",
       "      <td>...</td>\n",
       "      <td>...</td>\n",
       "      <td>...</td>\n",
       "      <td>...</td>\n",
       "      <td>...</td>\n",
       "      <td>...</td>\n",
       "      <td>...</td>\n",
       "      <td>...</td>\n",
       "      <td>...</td>\n",
       "      <td>...</td>\n",
       "      <td>...</td>\n",
       "      <td>...</td>\n",
       "      <td>...</td>\n",
       "      <td>...</td>\n",
       "      <td>...</td>\n",
       "      <td>...</td>\n",
       "      <td>...</td>\n",
       "      <td>...</td>\n",
       "    </tr>\n",
       "    <tr>\n",
       "      <td>939</td>\n",
       "      <td>1.888321</td>\n",
       "      <td>1.700093</td>\n",
       "      <td>1.675433</td>\n",
       "      <td>1.748591</td>\n",
       "      <td>1.712033</td>\n",
       "      <td>1.725380</td>\n",
       "      <td>1.816390</td>\n",
       "      <td>1.742357</td>\n",
       "      <td>1.901127</td>\n",
       "      <td>1.722198</td>\n",
       "      <td>...</td>\n",
       "      <td>1.726844</td>\n",
       "      <td>1.726788</td>\n",
       "      <td>1.725527</td>\n",
       "      <td>1.722999</td>\n",
       "      <td>1.726857</td>\n",
       "      <td>1.725470</td>\n",
       "      <td>1.726629</td>\n",
       "      <td>1.726050</td>\n",
       "      <td>1.726675</td>\n",
       "      <td>1.726528</td>\n",
       "    </tr>\n",
       "    <tr>\n",
       "      <td>940</td>\n",
       "      <td>2.465095</td>\n",
       "      <td>2.300971</td>\n",
       "      <td>2.298583</td>\n",
       "      <td>2.267674</td>\n",
       "      <td>2.322128</td>\n",
       "      <td>2.336572</td>\n",
       "      <td>2.469926</td>\n",
       "      <td>2.506139</td>\n",
       "      <td>2.359464</td>\n",
       "      <td>2.346251</td>\n",
       "      <td>...</td>\n",
       "      <td>2.337274</td>\n",
       "      <td>2.336150</td>\n",
       "      <td>2.335518</td>\n",
       "      <td>2.334214</td>\n",
       "      <td>2.335599</td>\n",
       "      <td>2.335449</td>\n",
       "      <td>2.336086</td>\n",
       "      <td>2.335767</td>\n",
       "      <td>2.336135</td>\n",
       "      <td>2.335881</td>\n",
       "    </tr>\n",
       "    <tr>\n",
       "      <td>941</td>\n",
       "      <td>1.730485</td>\n",
       "      <td>1.356488</td>\n",
       "      <td>1.352026</td>\n",
       "      <td>1.387318</td>\n",
       "      <td>1.364625</td>\n",
       "      <td>1.380594</td>\n",
       "      <td>1.459263</td>\n",
       "      <td>1.447033</td>\n",
       "      <td>1.443604</td>\n",
       "      <td>1.413493</td>\n",
       "      <td>...</td>\n",
       "      <td>1.376277</td>\n",
       "      <td>1.376080</td>\n",
       "      <td>1.375963</td>\n",
       "      <td>1.375744</td>\n",
       "      <td>1.375954</td>\n",
       "      <td>1.375514</td>\n",
       "      <td>1.376043</td>\n",
       "      <td>1.375779</td>\n",
       "      <td>1.376070</td>\n",
       "      <td>1.375417</td>\n",
       "    </tr>\n",
       "    <tr>\n",
       "      <td>942</td>\n",
       "      <td>1.516816</td>\n",
       "      <td>1.387759</td>\n",
       "      <td>1.387238</td>\n",
       "      <td>1.419869</td>\n",
       "      <td>1.410922</td>\n",
       "      <td>1.405881</td>\n",
       "      <td>1.399744</td>\n",
       "      <td>1.479570</td>\n",
       "      <td>1.449581</td>\n",
       "      <td>1.411753</td>\n",
       "      <td>...</td>\n",
       "      <td>1.409017</td>\n",
       "      <td>1.409176</td>\n",
       "      <td>1.408028</td>\n",
       "      <td>1.405597</td>\n",
       "      <td>1.408948</td>\n",
       "      <td>1.408328</td>\n",
       "      <td>1.409099</td>\n",
       "      <td>1.408713</td>\n",
       "      <td>1.409148</td>\n",
       "      <td>1.408801</td>\n",
       "    </tr>\n",
       "    <tr>\n",
       "      <td>943</td>\n",
       "      <td>2.977016</td>\n",
       "      <td>2.798318</td>\n",
       "      <td>2.721389</td>\n",
       "      <td>2.833485</td>\n",
       "      <td>2.772664</td>\n",
       "      <td>2.796533</td>\n",
       "      <td>2.953355</td>\n",
       "      <td>2.921730</td>\n",
       "      <td>2.900394</td>\n",
       "      <td>2.812803</td>\n",
       "      <td>...</td>\n",
       "      <td>2.796640</td>\n",
       "      <td>2.796868</td>\n",
       "      <td>2.795702</td>\n",
       "      <td>2.793370</td>\n",
       "      <td>2.796299</td>\n",
       "      <td>2.796756</td>\n",
       "      <td>2.796756</td>\n",
       "      <td>2.796756</td>\n",
       "      <td>2.796793</td>\n",
       "      <td>2.795607</td>\n",
       "    </tr>\n",
       "  </tbody>\n",
       "</table>\n",
       "<p>943 rows × 1680 columns</p>\n",
       "</div>"
      ],
      "text/plain": [
       "item_id      1         2         3         4         5         6         7     \\\n",
       "user_id                                                                         \n",
       "1        3.244741  2.948537  2.964926  3.034042  2.963416  3.042999  3.195328   \n",
       "2        2.347613  2.251412  2.250957  2.269158  2.266191  2.281506  2.318986   \n",
       "3        0.396649  0.376989  0.384401  0.401924  0.381184  0.395649  0.403709   \n",
       "4        0.642394  0.641829  0.633882  0.638196  0.643305  0.653738  0.664402   \n",
       "5        2.833243  2.598973  2.580645  2.678890  2.616358  2.647664  2.849655   \n",
       "...           ...       ...       ...       ...       ...       ...       ...   \n",
       "939      1.888321  1.700093  1.675433  1.748591  1.712033  1.725380  1.816390   \n",
       "940      2.465095  2.300971  2.298583  2.267674  2.322128  2.336572  2.469926   \n",
       "941      1.730485  1.356488  1.352026  1.387318  1.364625  1.380594  1.459263   \n",
       "942      1.516816  1.387759  1.387238  1.419869  1.410922  1.405881  1.399744   \n",
       "943      2.977016  2.798318  2.721389  2.833485  2.772664  2.796533  2.953355   \n",
       "\n",
       "item_id      8         9         10    ...      1673      1674      1675  \\\n",
       "user_id                                ...                                 \n",
       "1        3.068992  3.215707  3.027927  ...  3.018414  3.018999  3.018294   \n",
       "2        2.312724  2.368964  2.212118  ...  2.276349  2.278359  2.278048   \n",
       "3        0.425180  0.440036  0.401508  ...  0.393566  0.395278  0.393926   \n",
       "4        0.676174  0.655355  0.656639  ...  0.648838  0.647349  0.647354   \n",
       "5        2.766981  2.738744  2.660775  ...  2.652954  2.651809  2.651067   \n",
       "...           ...       ...       ...  ...       ...       ...       ...   \n",
       "939      1.742357  1.901127  1.722198  ...  1.726844  1.726788  1.725527   \n",
       "940      2.506139  2.359464  2.346251  ...  2.337274  2.336150  2.335518   \n",
       "941      1.447033  1.443604  1.413493  ...  1.376277  1.376080  1.375963   \n",
       "942      1.479570  1.449581  1.411753  ...  1.409017  1.409176  1.408028   \n",
       "943      2.921730  2.900394  2.812803  ...  2.796640  2.796868  2.795702   \n",
       "\n",
       "item_id      1676      1677      1678      1679      1680      1681      1682  \n",
       "user_id                                                                        \n",
       "1        3.016755  3.018625  3.017713  3.018945  3.018329  3.019024  3.017785  \n",
       "2        2.277329  2.278095  2.279266  2.278404  2.278835  2.278380  2.278351  \n",
       "3        0.390937  0.395205  0.398190  0.395379  0.396784  0.395292  0.395188  \n",
       "4        0.647113  0.646901  0.647531  0.647465  0.647498  0.647501  0.647665  \n",
       "5        2.649565  2.651553  2.650886  2.651717  2.651301  2.651777  2.651442  \n",
       "...           ...       ...       ...       ...       ...       ...       ...  \n",
       "939      1.722999  1.726857  1.725470  1.726629  1.726050  1.726675  1.726528  \n",
       "940      2.334214  2.335599  2.335449  2.336086  2.335767  2.336135  2.335881  \n",
       "941      1.375744  1.375954  1.375514  1.376043  1.375779  1.376070  1.375417  \n",
       "942      1.405597  1.408948  1.408328  1.409099  1.408713  1.409148  1.408801  \n",
       "943      2.793370  2.796299  2.796756  2.796756  2.796756  2.796793  2.795607  \n",
       "\n",
       "[943 rows x 1680 columns]"
      ]
     },
     "execution_count": 153,
     "metadata": {},
     "output_type": "execute_result"
    }
   ],
   "source": [
    "rcmdr.pred_ratings"
   ]
  },
  {
   "cell_type": "code",
   "execution_count": 154,
   "metadata": {
    "ExecuteTime": {
     "end_time": "2020-03-15T10:57:39.878570Z",
     "start_time": "2020-03-15T10:57:39.864732Z"
    }
   },
   "outputs": [
    {
     "data": {
      "text/html": [
       "<div>\n",
       "<style scoped>\n",
       "    .dataframe tbody tr th:only-of-type {\n",
       "        vertical-align: middle;\n",
       "    }\n",
       "\n",
       "    .dataframe tbody tr th {\n",
       "        vertical-align: top;\n",
       "    }\n",
       "\n",
       "    .dataframe thead th {\n",
       "        text-align: right;\n",
       "    }\n",
       "</style>\n",
       "<table border=\"1\" class=\"dataframe\">\n",
       "  <thead>\n",
       "    <tr style=\"text-align: right;\">\n",
       "      <th></th>\n",
       "      <th>user_id</th>\n",
       "      <th>movie_id</th>\n",
       "      <th>rating</th>\n",
       "      <th>unix_timestamp</th>\n",
       "    </tr>\n",
       "  </thead>\n",
       "  <tbody>\n",
       "    <tr>\n",
       "      <td>0</td>\n",
       "      <td>1</td>\n",
       "      <td>20</td>\n",
       "      <td>4</td>\n",
       "      <td>887431883</td>\n",
       "    </tr>\n",
       "    <tr>\n",
       "      <td>1</td>\n",
       "      <td>1</td>\n",
       "      <td>33</td>\n",
       "      <td>4</td>\n",
       "      <td>878542699</td>\n",
       "    </tr>\n",
       "    <tr>\n",
       "      <td>2</td>\n",
       "      <td>1</td>\n",
       "      <td>61</td>\n",
       "      <td>4</td>\n",
       "      <td>878542420</td>\n",
       "    </tr>\n",
       "    <tr>\n",
       "      <td>3</td>\n",
       "      <td>1</td>\n",
       "      <td>117</td>\n",
       "      <td>3</td>\n",
       "      <td>874965739</td>\n",
       "    </tr>\n",
       "    <tr>\n",
       "      <td>4</td>\n",
       "      <td>1</td>\n",
       "      <td>155</td>\n",
       "      <td>2</td>\n",
       "      <td>878542201</td>\n",
       "    </tr>\n",
       "  </tbody>\n",
       "</table>\n",
       "</div>"
      ],
      "text/plain": [
       "   user_id  movie_id  rating  unix_timestamp\n",
       "0        1        20       4       887431883\n",
       "1        1        33       4       878542699\n",
       "2        1        61       4       878542420\n",
       "3        1       117       3       874965739\n",
       "4        1       155       2       878542201"
      ]
     },
     "execution_count": 154,
     "metadata": {},
     "output_type": "execute_result"
    }
   ],
   "source": [
    "r_cols = [\"user_id\", \"movie_id\", \"rating\", \"unix_timestamp\"]\n",
    "ratings_test = pd.read_csv(\"data/ml-100k/ua.test\", names=r_cols, sep=\"\\t\", encoding=\"latin-1\")\n",
    "ratings_test.head()"
   ]
  },
  {
   "cell_type": "code",
   "execution_count": 155,
   "metadata": {
    "ExecuteTime": {
     "end_time": "2020-03-15T10:57:43.120401Z",
     "start_time": "2020-03-15T10:57:43.094966Z"
    }
   },
   "outputs": [],
   "source": [
    "X_test = ratings_test.pivot_table(values='rating', index='user_id', columns='movie_id')"
   ]
  },
  {
   "cell_type": "code",
   "execution_count": 156,
   "metadata": {
    "ExecuteTime": {
     "end_time": "2020-03-15T10:57:43.930889Z",
     "start_time": "2020-03-15T10:57:43.911358Z"
    }
   },
   "outputs": [
    {
     "data": {
      "text/html": [
       "<div>\n",
       "<style scoped>\n",
       "    .dataframe tbody tr th:only-of-type {\n",
       "        vertical-align: middle;\n",
       "    }\n",
       "\n",
       "    .dataframe tbody tr th {\n",
       "        vertical-align: top;\n",
       "    }\n",
       "\n",
       "    .dataframe thead th {\n",
       "        text-align: right;\n",
       "    }\n",
       "</style>\n",
       "<table border=\"1\" class=\"dataframe\">\n",
       "  <thead>\n",
       "    <tr style=\"text-align: right;\">\n",
       "      <th>movie_id</th>\n",
       "      <th>1</th>\n",
       "      <th>2</th>\n",
       "      <th>3</th>\n",
       "      <th>4</th>\n",
       "      <th>5</th>\n",
       "      <th>6</th>\n",
       "      <th>7</th>\n",
       "      <th>8</th>\n",
       "      <th>9</th>\n",
       "      <th>10</th>\n",
       "      <th>...</th>\n",
       "      <th>1591</th>\n",
       "      <th>1592</th>\n",
       "      <th>1600</th>\n",
       "      <th>1612</th>\n",
       "      <th>1617</th>\n",
       "      <th>1646</th>\n",
       "      <th>1653</th>\n",
       "      <th>1656</th>\n",
       "      <th>1662</th>\n",
       "      <th>1664</th>\n",
       "    </tr>\n",
       "    <tr>\n",
       "      <th>user_id</th>\n",
       "      <th></th>\n",
       "      <th></th>\n",
       "      <th></th>\n",
       "      <th></th>\n",
       "      <th></th>\n",
       "      <th></th>\n",
       "      <th></th>\n",
       "      <th></th>\n",
       "      <th></th>\n",
       "      <th></th>\n",
       "      <th></th>\n",
       "      <th></th>\n",
       "      <th></th>\n",
       "      <th></th>\n",
       "      <th></th>\n",
       "      <th></th>\n",
       "      <th></th>\n",
       "      <th></th>\n",
       "      <th></th>\n",
       "      <th></th>\n",
       "      <th></th>\n",
       "    </tr>\n",
       "  </thead>\n",
       "  <tbody>\n",
       "    <tr>\n",
       "      <td>1</td>\n",
       "      <td>NaN</td>\n",
       "      <td>NaN</td>\n",
       "      <td>NaN</td>\n",
       "      <td>NaN</td>\n",
       "      <td>NaN</td>\n",
       "      <td>NaN</td>\n",
       "      <td>NaN</td>\n",
       "      <td>NaN</td>\n",
       "      <td>NaN</td>\n",
       "      <td>NaN</td>\n",
       "      <td>...</td>\n",
       "      <td>NaN</td>\n",
       "      <td>NaN</td>\n",
       "      <td>NaN</td>\n",
       "      <td>NaN</td>\n",
       "      <td>NaN</td>\n",
       "      <td>NaN</td>\n",
       "      <td>NaN</td>\n",
       "      <td>NaN</td>\n",
       "      <td>NaN</td>\n",
       "      <td>NaN</td>\n",
       "    </tr>\n",
       "    <tr>\n",
       "      <td>2</td>\n",
       "      <td>NaN</td>\n",
       "      <td>NaN</td>\n",
       "      <td>NaN</td>\n",
       "      <td>NaN</td>\n",
       "      <td>NaN</td>\n",
       "      <td>NaN</td>\n",
       "      <td>NaN</td>\n",
       "      <td>NaN</td>\n",
       "      <td>NaN</td>\n",
       "      <td>NaN</td>\n",
       "      <td>...</td>\n",
       "      <td>NaN</td>\n",
       "      <td>NaN</td>\n",
       "      <td>NaN</td>\n",
       "      <td>NaN</td>\n",
       "      <td>NaN</td>\n",
       "      <td>NaN</td>\n",
       "      <td>NaN</td>\n",
       "      <td>NaN</td>\n",
       "      <td>NaN</td>\n",
       "      <td>NaN</td>\n",
       "    </tr>\n",
       "    <tr>\n",
       "      <td>3</td>\n",
       "      <td>NaN</td>\n",
       "      <td>NaN</td>\n",
       "      <td>NaN</td>\n",
       "      <td>NaN</td>\n",
       "      <td>NaN</td>\n",
       "      <td>NaN</td>\n",
       "      <td>NaN</td>\n",
       "      <td>NaN</td>\n",
       "      <td>NaN</td>\n",
       "      <td>NaN</td>\n",
       "      <td>...</td>\n",
       "      <td>NaN</td>\n",
       "      <td>NaN</td>\n",
       "      <td>NaN</td>\n",
       "      <td>NaN</td>\n",
       "      <td>NaN</td>\n",
       "      <td>NaN</td>\n",
       "      <td>NaN</td>\n",
       "      <td>NaN</td>\n",
       "      <td>NaN</td>\n",
       "      <td>NaN</td>\n",
       "    </tr>\n",
       "    <tr>\n",
       "      <td>4</td>\n",
       "      <td>NaN</td>\n",
       "      <td>NaN</td>\n",
       "      <td>NaN</td>\n",
       "      <td>NaN</td>\n",
       "      <td>NaN</td>\n",
       "      <td>NaN</td>\n",
       "      <td>NaN</td>\n",
       "      <td>NaN</td>\n",
       "      <td>NaN</td>\n",
       "      <td>NaN</td>\n",
       "      <td>...</td>\n",
       "      <td>NaN</td>\n",
       "      <td>NaN</td>\n",
       "      <td>NaN</td>\n",
       "      <td>NaN</td>\n",
       "      <td>NaN</td>\n",
       "      <td>NaN</td>\n",
       "      <td>NaN</td>\n",
       "      <td>NaN</td>\n",
       "      <td>NaN</td>\n",
       "      <td>NaN</td>\n",
       "    </tr>\n",
       "    <tr>\n",
       "      <td>5</td>\n",
       "      <td>4.0</td>\n",
       "      <td>3.0</td>\n",
       "      <td>NaN</td>\n",
       "      <td>NaN</td>\n",
       "      <td>NaN</td>\n",
       "      <td>NaN</td>\n",
       "      <td>NaN</td>\n",
       "      <td>NaN</td>\n",
       "      <td>NaN</td>\n",
       "      <td>NaN</td>\n",
       "      <td>...</td>\n",
       "      <td>NaN</td>\n",
       "      <td>NaN</td>\n",
       "      <td>NaN</td>\n",
       "      <td>NaN</td>\n",
       "      <td>NaN</td>\n",
       "      <td>NaN</td>\n",
       "      <td>NaN</td>\n",
       "      <td>NaN</td>\n",
       "      <td>NaN</td>\n",
       "      <td>NaN</td>\n",
       "    </tr>\n",
       "    <tr>\n",
       "      <td>...</td>\n",
       "      <td>...</td>\n",
       "      <td>...</td>\n",
       "      <td>...</td>\n",
       "      <td>...</td>\n",
       "      <td>...</td>\n",
       "      <td>...</td>\n",
       "      <td>...</td>\n",
       "      <td>...</td>\n",
       "      <td>...</td>\n",
       "      <td>...</td>\n",
       "      <td>...</td>\n",
       "      <td>...</td>\n",
       "      <td>...</td>\n",
       "      <td>...</td>\n",
       "      <td>...</td>\n",
       "      <td>...</td>\n",
       "      <td>...</td>\n",
       "      <td>...</td>\n",
       "      <td>...</td>\n",
       "      <td>...</td>\n",
       "      <td>...</td>\n",
       "    </tr>\n",
       "    <tr>\n",
       "      <td>939</td>\n",
       "      <td>NaN</td>\n",
       "      <td>NaN</td>\n",
       "      <td>NaN</td>\n",
       "      <td>NaN</td>\n",
       "      <td>NaN</td>\n",
       "      <td>NaN</td>\n",
       "      <td>NaN</td>\n",
       "      <td>NaN</td>\n",
       "      <td>NaN</td>\n",
       "      <td>NaN</td>\n",
       "      <td>...</td>\n",
       "      <td>NaN</td>\n",
       "      <td>NaN</td>\n",
       "      <td>NaN</td>\n",
       "      <td>NaN</td>\n",
       "      <td>NaN</td>\n",
       "      <td>NaN</td>\n",
       "      <td>NaN</td>\n",
       "      <td>NaN</td>\n",
       "      <td>NaN</td>\n",
       "      <td>NaN</td>\n",
       "    </tr>\n",
       "    <tr>\n",
       "      <td>940</td>\n",
       "      <td>NaN</td>\n",
       "      <td>NaN</td>\n",
       "      <td>NaN</td>\n",
       "      <td>NaN</td>\n",
       "      <td>NaN</td>\n",
       "      <td>NaN</td>\n",
       "      <td>NaN</td>\n",
       "      <td>NaN</td>\n",
       "      <td>NaN</td>\n",
       "      <td>NaN</td>\n",
       "      <td>...</td>\n",
       "      <td>NaN</td>\n",
       "      <td>NaN</td>\n",
       "      <td>NaN</td>\n",
       "      <td>NaN</td>\n",
       "      <td>NaN</td>\n",
       "      <td>NaN</td>\n",
       "      <td>NaN</td>\n",
       "      <td>NaN</td>\n",
       "      <td>NaN</td>\n",
       "      <td>NaN</td>\n",
       "    </tr>\n",
       "    <tr>\n",
       "      <td>941</td>\n",
       "      <td>NaN</td>\n",
       "      <td>NaN</td>\n",
       "      <td>NaN</td>\n",
       "      <td>NaN</td>\n",
       "      <td>NaN</td>\n",
       "      <td>NaN</td>\n",
       "      <td>4.0</td>\n",
       "      <td>NaN</td>\n",
       "      <td>NaN</td>\n",
       "      <td>NaN</td>\n",
       "      <td>...</td>\n",
       "      <td>NaN</td>\n",
       "      <td>NaN</td>\n",
       "      <td>NaN</td>\n",
       "      <td>NaN</td>\n",
       "      <td>NaN</td>\n",
       "      <td>NaN</td>\n",
       "      <td>NaN</td>\n",
       "      <td>NaN</td>\n",
       "      <td>NaN</td>\n",
       "      <td>NaN</td>\n",
       "    </tr>\n",
       "    <tr>\n",
       "      <td>942</td>\n",
       "      <td>NaN</td>\n",
       "      <td>NaN</td>\n",
       "      <td>NaN</td>\n",
       "      <td>NaN</td>\n",
       "      <td>NaN</td>\n",
       "      <td>NaN</td>\n",
       "      <td>NaN</td>\n",
       "      <td>NaN</td>\n",
       "      <td>NaN</td>\n",
       "      <td>NaN</td>\n",
       "      <td>...</td>\n",
       "      <td>NaN</td>\n",
       "      <td>NaN</td>\n",
       "      <td>NaN</td>\n",
       "      <td>NaN</td>\n",
       "      <td>NaN</td>\n",
       "      <td>NaN</td>\n",
       "      <td>NaN</td>\n",
       "      <td>NaN</td>\n",
       "      <td>NaN</td>\n",
       "      <td>NaN</td>\n",
       "    </tr>\n",
       "    <tr>\n",
       "      <td>943</td>\n",
       "      <td>NaN</td>\n",
       "      <td>NaN</td>\n",
       "      <td>NaN</td>\n",
       "      <td>NaN</td>\n",
       "      <td>NaN</td>\n",
       "      <td>NaN</td>\n",
       "      <td>NaN</td>\n",
       "      <td>NaN</td>\n",
       "      <td>NaN</td>\n",
       "      <td>NaN</td>\n",
       "      <td>...</td>\n",
       "      <td>NaN</td>\n",
       "      <td>NaN</td>\n",
       "      <td>NaN</td>\n",
       "      <td>NaN</td>\n",
       "      <td>NaN</td>\n",
       "      <td>NaN</td>\n",
       "      <td>NaN</td>\n",
       "      <td>NaN</td>\n",
       "      <td>NaN</td>\n",
       "      <td>NaN</td>\n",
       "    </tr>\n",
       "  </tbody>\n",
       "</table>\n",
       "<p>943 rows × 1129 columns</p>\n",
       "</div>"
      ],
      "text/plain": [
       "movie_id  1     2     3     4     5     6     7     8     9     10    ...  \\\n",
       "user_id                                                               ...   \n",
       "1          NaN   NaN   NaN   NaN   NaN   NaN   NaN   NaN   NaN   NaN  ...   \n",
       "2          NaN   NaN   NaN   NaN   NaN   NaN   NaN   NaN   NaN   NaN  ...   \n",
       "3          NaN   NaN   NaN   NaN   NaN   NaN   NaN   NaN   NaN   NaN  ...   \n",
       "4          NaN   NaN   NaN   NaN   NaN   NaN   NaN   NaN   NaN   NaN  ...   \n",
       "5          4.0   3.0   NaN   NaN   NaN   NaN   NaN   NaN   NaN   NaN  ...   \n",
       "...        ...   ...   ...   ...   ...   ...   ...   ...   ...   ...  ...   \n",
       "939        NaN   NaN   NaN   NaN   NaN   NaN   NaN   NaN   NaN   NaN  ...   \n",
       "940        NaN   NaN   NaN   NaN   NaN   NaN   NaN   NaN   NaN   NaN  ...   \n",
       "941        NaN   NaN   NaN   NaN   NaN   NaN   4.0   NaN   NaN   NaN  ...   \n",
       "942        NaN   NaN   NaN   NaN   NaN   NaN   NaN   NaN   NaN   NaN  ...   \n",
       "943        NaN   NaN   NaN   NaN   NaN   NaN   NaN   NaN   NaN   NaN  ...   \n",
       "\n",
       "movie_id  1591  1592  1600  1612  1617  1646  1653  1656  1662  1664  \n",
       "user_id                                                               \n",
       "1          NaN   NaN   NaN   NaN   NaN   NaN   NaN   NaN   NaN   NaN  \n",
       "2          NaN   NaN   NaN   NaN   NaN   NaN   NaN   NaN   NaN   NaN  \n",
       "3          NaN   NaN   NaN   NaN   NaN   NaN   NaN   NaN   NaN   NaN  \n",
       "4          NaN   NaN   NaN   NaN   NaN   NaN   NaN   NaN   NaN   NaN  \n",
       "5          NaN   NaN   NaN   NaN   NaN   NaN   NaN   NaN   NaN   NaN  \n",
       "...        ...   ...   ...   ...   ...   ...   ...   ...   ...   ...  \n",
       "939        NaN   NaN   NaN   NaN   NaN   NaN   NaN   NaN   NaN   NaN  \n",
       "940        NaN   NaN   NaN   NaN   NaN   NaN   NaN   NaN   NaN   NaN  \n",
       "941        NaN   NaN   NaN   NaN   NaN   NaN   NaN   NaN   NaN   NaN  \n",
       "942        NaN   NaN   NaN   NaN   NaN   NaN   NaN   NaN   NaN   NaN  \n",
       "943        NaN   NaN   NaN   NaN   NaN   NaN   NaN   NaN   NaN   NaN  \n",
       "\n",
       "[943 rows x 1129 columns]"
      ]
     },
     "execution_count": 156,
     "metadata": {},
     "output_type": "execute_result"
    }
   ],
   "source": [
    "X_test"
   ]
  },
  {
   "cell_type": "code",
   "execution_count": 157,
   "metadata": {
    "ExecuteTime": {
     "end_time": "2020-03-15T10:57:44.791323Z",
     "start_time": "2020-03-15T10:57:44.772579Z"
    }
   },
   "outputs": [
    {
     "data": {
      "text/plain": [
       "Int64Index([   1,    2,    3,    4,    5,    6,    7,    8,    9,   10,\n",
       "            ...\n",
       "            1591, 1592, 1600, 1612, 1617, 1646, 1653, 1656, 1662, 1664],\n",
       "           dtype='int64', name='movie_id', length=1129)"
      ]
     },
     "execution_count": 157,
     "metadata": {},
     "output_type": "execute_result"
    }
   ],
   "source": [
    "X_test.columns"
   ]
  },
  {
   "cell_type": "code",
   "execution_count": 159,
   "metadata": {
    "ExecuteTime": {
     "end_time": "2020-03-15T10:57:50.330310Z",
     "start_time": "2020-03-15T10:57:50.046199Z"
    }
   },
   "outputs": [
    {
     "data": {
      "text/plain": [
       "2.4615935214939744"
      ]
     },
     "execution_count": 159,
     "metadata": {},
     "output_type": "execute_result"
    }
   ],
   "source": [
    "rmse(X_test, rcmdr.pred_ratings.loc[:, X_test.columns])"
   ]
  },
  {
   "cell_type": "code",
   "execution_count": 160,
   "metadata": {
    "ExecuteTime": {
     "end_time": "2020-03-15T10:58:09.077844Z",
     "start_time": "2020-03-15T10:58:08.725663Z"
    }
   },
   "outputs": [
    {
     "data": {
      "text/plain": [
       "1.9258894261434056"
      ]
     },
     "execution_count": 160,
     "metadata": {},
     "output_type": "execute_result"
    }
   ],
   "source": [
    "rmse(X_train, rcmdr.pred_ratings)"
   ]
  }
 ],
 "metadata": {
  "kernelspec": {
   "display_name": "Python 3",
   "language": "python",
   "name": "python3"
  },
  "language_info": {
   "codemirror_mode": {
    "name": "ipython",
    "version": 3
   },
   "file_extension": ".py",
   "mimetype": "text/x-python",
   "name": "python",
   "nbconvert_exporter": "python",
   "pygments_lexer": "ipython3",
   "version": "3.7.4"
  },
  "toc": {
   "base_numbering": 1,
   "nav_menu": {},
   "number_sections": true,
   "sideBar": true,
   "skip_h1_title": false,
   "title_cell": "Table of Contents",
   "title_sidebar": "Contents",
   "toc_cell": false,
   "toc_position": {},
   "toc_section_display": true,
   "toc_window_display": false
  }
 },
 "nbformat": 4,
 "nbformat_minor": 4
}
