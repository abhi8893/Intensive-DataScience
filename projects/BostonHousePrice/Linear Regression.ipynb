{
 "cells": [
  {
   "cell_type": "markdown",
   "metadata": {},
   "source": [
    "# Multiple Linear Regression: Boston House Prediction"
   ]
  },
  {
   "cell_type": "markdown",
   "metadata": {},
   "source": [
    "* CRIM per capita crime rate by town\n",
    "* ZN proportion of residential land zoned for lots over 25,000 sq.ft.\n",
    "* INDUS proportion of non-retail business acres per town\n",
    "* CHAS Charles River dummy variable (= 1 if tract bounds river; 0 otherwise)\n",
    "* NOX nitric oxides concentration (parts per 10 million)\n",
    "* RM average number of rooms per dwelling\n",
    "* AGE proportion of owner-occupied units built prior to 1940\n",
    "* DIS weighted distances to five Boston employment centres\n",
    "* RAD index of accessibility to radial highways\n",
    "* TAX full-value property-tax rate per 10,000usd\n",
    "* PTRATIO pupil-teacher ratio by town\n",
    "* B 1000(Bk - 0.63)^2 where Bk is the proportion of blacks by town\n",
    "* LSTAT % lower status of the population"
   ]
  },
  {
   "cell_type": "code",
   "execution_count": 426,
   "metadata": {},
   "outputs": [],
   "source": [
    "import pandas as pd\n",
    "import matplotlib.pyplot as plt\n",
    "from scipy.stats import f as fdist\n",
    "from scipy.stats import t as tdist\n",
    "from scipy.stats import chi2 as chisq"
   ]
  },
  {
   "cell_type": "code",
   "execution_count": 305,
   "metadata": {},
   "outputs": [],
   "source": [
    "names = ['CRIM', 'ZN', 'INDUS', 'CHAS', 'NOX', 'RM', 'AGE', \n",
    "         'DIS', 'RAD', 'TAX', 'PTRATIO','B', 'LSTAT', 'MEDV']\n",
    "df = pd.read_csv('data/housing.data', header=None, delim_whitespace=True, names=names)"
   ]
  },
  {
   "cell_type": "code",
   "execution_count": 306,
   "metadata": {},
   "outputs": [],
   "source": [
    "df = df.select_dtypes(float)"
   ]
  },
  {
   "cell_type": "code",
   "execution_count": 307,
   "metadata": {},
   "outputs": [
    {
     "data": {
      "text/html": [
       "<div>\n",
       "<style scoped>\n",
       "    .dataframe tbody tr th:only-of-type {\n",
       "        vertical-align: middle;\n",
       "    }\n",
       "\n",
       "    .dataframe tbody tr th {\n",
       "        vertical-align: top;\n",
       "    }\n",
       "\n",
       "    .dataframe thead th {\n",
       "        text-align: right;\n",
       "    }\n",
       "</style>\n",
       "<table border=\"1\" class=\"dataframe\">\n",
       "  <thead>\n",
       "    <tr style=\"text-align: right;\">\n",
       "      <th></th>\n",
       "      <th>CRIM</th>\n",
       "      <th>ZN</th>\n",
       "      <th>INDUS</th>\n",
       "      <th>NOX</th>\n",
       "      <th>RM</th>\n",
       "      <th>AGE</th>\n",
       "      <th>DIS</th>\n",
       "      <th>TAX</th>\n",
       "      <th>PTRATIO</th>\n",
       "      <th>B</th>\n",
       "      <th>LSTAT</th>\n",
       "      <th>MEDV</th>\n",
       "    </tr>\n",
       "  </thead>\n",
       "  <tbody>\n",
       "    <tr>\n",
       "      <th>0</th>\n",
       "      <td>0.00632</td>\n",
       "      <td>18.0</td>\n",
       "      <td>2.31</td>\n",
       "      <td>0.538</td>\n",
       "      <td>6.575</td>\n",
       "      <td>65.2</td>\n",
       "      <td>4.0900</td>\n",
       "      <td>296.0</td>\n",
       "      <td>15.3</td>\n",
       "      <td>396.90</td>\n",
       "      <td>4.98</td>\n",
       "      <td>24.0</td>\n",
       "    </tr>\n",
       "    <tr>\n",
       "      <th>1</th>\n",
       "      <td>0.02731</td>\n",
       "      <td>0.0</td>\n",
       "      <td>7.07</td>\n",
       "      <td>0.469</td>\n",
       "      <td>6.421</td>\n",
       "      <td>78.9</td>\n",
       "      <td>4.9671</td>\n",
       "      <td>242.0</td>\n",
       "      <td>17.8</td>\n",
       "      <td>396.90</td>\n",
       "      <td>9.14</td>\n",
       "      <td>21.6</td>\n",
       "    </tr>\n",
       "    <tr>\n",
       "      <th>2</th>\n",
       "      <td>0.02729</td>\n",
       "      <td>0.0</td>\n",
       "      <td>7.07</td>\n",
       "      <td>0.469</td>\n",
       "      <td>7.185</td>\n",
       "      <td>61.1</td>\n",
       "      <td>4.9671</td>\n",
       "      <td>242.0</td>\n",
       "      <td>17.8</td>\n",
       "      <td>392.83</td>\n",
       "      <td>4.03</td>\n",
       "      <td>34.7</td>\n",
       "    </tr>\n",
       "    <tr>\n",
       "      <th>3</th>\n",
       "      <td>0.03237</td>\n",
       "      <td>0.0</td>\n",
       "      <td>2.18</td>\n",
       "      <td>0.458</td>\n",
       "      <td>6.998</td>\n",
       "      <td>45.8</td>\n",
       "      <td>6.0622</td>\n",
       "      <td>222.0</td>\n",
       "      <td>18.7</td>\n",
       "      <td>394.63</td>\n",
       "      <td>2.94</td>\n",
       "      <td>33.4</td>\n",
       "    </tr>\n",
       "    <tr>\n",
       "      <th>4</th>\n",
       "      <td>0.06905</td>\n",
       "      <td>0.0</td>\n",
       "      <td>2.18</td>\n",
       "      <td>0.458</td>\n",
       "      <td>7.147</td>\n",
       "      <td>54.2</td>\n",
       "      <td>6.0622</td>\n",
       "      <td>222.0</td>\n",
       "      <td>18.7</td>\n",
       "      <td>396.90</td>\n",
       "      <td>5.33</td>\n",
       "      <td>36.2</td>\n",
       "    </tr>\n",
       "  </tbody>\n",
       "</table>\n",
       "</div>"
      ],
      "text/plain": [
       "      CRIM    ZN  INDUS    NOX     RM   AGE     DIS    TAX  PTRATIO       B  \\\n",
       "0  0.00632  18.0   2.31  0.538  6.575  65.2  4.0900  296.0     15.3  396.90   \n",
       "1  0.02731   0.0   7.07  0.469  6.421  78.9  4.9671  242.0     17.8  396.90   \n",
       "2  0.02729   0.0   7.07  0.469  7.185  61.1  4.9671  242.0     17.8  392.83   \n",
       "3  0.03237   0.0   2.18  0.458  6.998  45.8  6.0622  222.0     18.7  394.63   \n",
       "4  0.06905   0.0   2.18  0.458  7.147  54.2  6.0622  222.0     18.7  396.90   \n",
       "\n",
       "   LSTAT  MEDV  \n",
       "0   4.98  24.0  \n",
       "1   9.14  21.6  \n",
       "2   4.03  34.7  \n",
       "3   2.94  33.4  \n",
       "4   5.33  36.2  "
      ]
     },
     "execution_count": 307,
     "metadata": {},
     "output_type": "execute_result"
    }
   ],
   "source": [
    "df.head()"
   ]
  },
  {
   "cell_type": "code",
   "execution_count": 308,
   "metadata": {},
   "outputs": [],
   "source": [
    "corr = abs(df.corr()['MEDV']).sort_values(ascending=False)\n",
    "clmns = corr[1:3].index"
   ]
  },
  {
   "cell_type": "code",
   "execution_count": 309,
   "metadata": {},
   "outputs": [
    {
     "data": {
      "text/html": [
       "<div>\n",
       "<style scoped>\n",
       "    .dataframe tbody tr th:only-of-type {\n",
       "        vertical-align: middle;\n",
       "    }\n",
       "\n",
       "    .dataframe tbody tr th {\n",
       "        vertical-align: top;\n",
       "    }\n",
       "\n",
       "    .dataframe thead th {\n",
       "        text-align: right;\n",
       "    }\n",
       "</style>\n",
       "<table border=\"1\" class=\"dataframe\">\n",
       "  <thead>\n",
       "    <tr style=\"text-align: right;\">\n",
       "      <th></th>\n",
       "      <th>LSTAT</th>\n",
       "      <th>RM</th>\n",
       "      <th>MEDV</th>\n",
       "    </tr>\n",
       "  </thead>\n",
       "  <tbody>\n",
       "    <tr>\n",
       "      <th>0</th>\n",
       "      <td>4.98</td>\n",
       "      <td>6.575</td>\n",
       "      <td>24.0</td>\n",
       "    </tr>\n",
       "    <tr>\n",
       "      <th>1</th>\n",
       "      <td>9.14</td>\n",
       "      <td>6.421</td>\n",
       "      <td>21.6</td>\n",
       "    </tr>\n",
       "    <tr>\n",
       "      <th>2</th>\n",
       "      <td>4.03</td>\n",
       "      <td>7.185</td>\n",
       "      <td>34.7</td>\n",
       "    </tr>\n",
       "    <tr>\n",
       "      <th>3</th>\n",
       "      <td>2.94</td>\n",
       "      <td>6.998</td>\n",
       "      <td>33.4</td>\n",
       "    </tr>\n",
       "    <tr>\n",
       "      <th>4</th>\n",
       "      <td>5.33</td>\n",
       "      <td>7.147</td>\n",
       "      <td>36.2</td>\n",
       "    </tr>\n",
       "  </tbody>\n",
       "</table>\n",
       "</div>"
      ],
      "text/plain": [
       "   LSTAT     RM  MEDV\n",
       "0   4.98  6.575  24.0\n",
       "1   9.14  6.421  21.6\n",
       "2   4.03  7.185  34.7\n",
       "3   2.94  6.998  33.4\n",
       "4   5.33  7.147  36.2"
      ]
     },
     "execution_count": 309,
     "metadata": {},
     "output_type": "execute_result"
    }
   ],
   "source": [
    "df = df.loc[:, list(clmns) + ['MEDV']]\n",
    "df.head()"
   ]
  },
  {
   "cell_type": "markdown",
   "metadata": {},
   "source": [
    "## Create the regressor X matrix and regressand y matrix"
   ]
  },
  {
   "cell_type": "markdown",
   "metadata": {},
   "source": [
    "$ y = \\beta_{1} + \\beta_{2}X_{2} + \\beta_{3}X_3 + u_{i} $ <br/>"
   ]
  },
  {
   "cell_type": "code",
   "execution_count": 310,
   "metadata": {},
   "outputs": [],
   "source": [
    "X = df.iloc[:, 0:2].values\n",
    "X = np.hstack((np.ones((X.shape[0], 1)), X))\n",
    "\n",
    "y = df.iloc[:, -1].values.reshape(-1, 1)"
   ]
  },
  {
   "cell_type": "code",
   "execution_count": 311,
   "metadata": {},
   "outputs": [
    {
     "data": {
      "text/plain": [
       "array([[1.   , 4.98 , 6.575],\n",
       "       [1.   , 9.14 , 6.421],\n",
       "       [1.   , 4.03 , 7.185],\n",
       "       ...,\n",
       "       [1.   , 5.64 , 6.976],\n",
       "       [1.   , 6.48 , 6.794],\n",
       "       [1.   , 7.88 , 6.03 ]])"
      ]
     },
     "execution_count": 311,
     "metadata": {},
     "output_type": "execute_result"
    }
   ],
   "source": [
    "X"
   ]
  },
  {
   "cell_type": "code",
   "execution_count": 312,
   "metadata": {},
   "outputs": [
    {
     "data": {
      "text/plain": [
       "((506, 3), (506, 1))"
      ]
     },
     "execution_count": 312,
     "metadata": {},
     "output_type": "execute_result"
    }
   ],
   "source": [
    "X.shape, y.shape"
   ]
  },
  {
   "cell_type": "code",
   "execution_count": 313,
   "metadata": {},
   "outputs": [],
   "source": [
    "n, k = X.shape\n"
   ]
  },
  {
   "cell_type": "markdown",
   "metadata": {},
   "source": [
    "## Find the estimate of Beta"
   ]
  },
  {
   "cell_type": "code",
   "execution_count": 314,
   "metadata": {},
   "outputs": [],
   "source": [
    "import numpy as np\n",
    "from numpy.linalg import inv"
   ]
  },
  {
   "cell_type": "code",
   "execution_count": 315,
   "metadata": {},
   "outputs": [],
   "source": [
    "A = inv(X.T@X)"
   ]
  },
  {
   "cell_type": "code",
   "execution_count": 316,
   "metadata": {},
   "outputs": [
    {
     "data": {
      "text/plain": [
       "array([[-1.35827281],\n",
       "       [-0.64235833],\n",
       "       [ 5.09478798]])"
      ]
     },
     "execution_count": 316,
     "metadata": {},
     "output_type": "execute_result"
    }
   ],
   "source": [
    "beta_hat = A@X.T@y\n",
    "beta_hat"
   ]
  },
  {
   "cell_type": "markdown",
   "metadata": {},
   "source": [
    "## Obtain the estimate of y (predicted y)"
   ]
  },
  {
   "cell_type": "code",
   "execution_count": 317,
   "metadata": {},
   "outputs": [],
   "source": [
    "y_hat = X@beta_hat"
   ]
  },
  {
   "cell_type": "markdown",
   "metadata": {},
   "source": [
    "## Compute the residual sum of squares"
   ]
  },
  {
   "cell_type": "code",
   "execution_count": 318,
   "metadata": {},
   "outputs": [],
   "source": [
    "u_hat = y - y_hat\n",
    "rss = (u_hat.T@ u_hat).ravel()[0]"
   ]
  },
  {
   "cell_type": "markdown",
   "metadata": {},
   "source": [
    "## Obtain the variance of beta_hat"
   ]
  },
  {
   "cell_type": "code",
   "execution_count": 319,
   "metadata": {},
   "outputs": [],
   "source": [
    "beta_hat_var = (rss/(n-k))*(A)"
   ]
  },
  {
   "cell_type": "code",
   "execution_count": 320,
   "metadata": {},
   "outputs": [
    {
     "data": {
      "text/plain": [
       "array([[ 1.00668361e+01, -9.91781334e-02, -1.39248641e+00],\n",
       "       [-9.91781334e-02,  1.91244101e-03,  1.19306696e-02],\n",
       "       [-1.39248641e+00,  1.19306696e-02,  1.97549581e-01]])"
      ]
     },
     "execution_count": 320,
     "metadata": {},
     "output_type": "execute_result"
    }
   ],
   "source": [
    "beta_hat_var"
   ]
  },
  {
   "cell_type": "markdown",
   "metadata": {},
   "source": [
    "## Create the regression table"
   ]
  },
  {
   "cell_type": "code",
   "execution_count": null,
   "metadata": {},
   "outputs": [],
   "source": []
  },
  {
   "cell_type": "markdown",
   "metadata": {},
   "source": [
    "## Create the table for hypothesis testing"
   ]
  },
  {
   "cell_type": "code",
   "execution_count": 321,
   "metadata": {},
   "outputs": [],
   "source": [
    "from scipy.stats import t as tdist"
   ]
  },
  {
   "cell_type": "code",
   "execution_count": 322,
   "metadata": {},
   "outputs": [],
   "source": [
    "beta_hat_stderr = np.diag(beta_hat_var)**(1/2)"
   ]
  },
  {
   "cell_type": "code",
   "execution_count": 323,
   "metadata": {},
   "outputs": [
    {
     "data": {
      "text/plain": [
       "array([-1.35827281, -0.64235833,  5.09478798])"
      ]
     },
     "execution_count": 323,
     "metadata": {},
     "output_type": "execute_result"
    }
   ],
   "source": [
    "beta_hat.flatten()"
   ]
  },
  {
   "cell_type": "code",
   "execution_count": 324,
   "metadata": {},
   "outputs": [
    {
     "data": {
      "text/plain": [
       "[array([-1.35827281, -0.64235833,  5.09478798]),\n",
       " array([3.17282778, 0.04373146, 0.4444655 ])]"
      ]
     },
     "execution_count": 324,
     "metadata": {},
     "output_type": "execute_result"
    }
   ],
   "source": [
    "[beta_hat.flatten(), beta_hat_stderr]"
   ]
  },
  {
   "cell_type": "code",
   "execution_count": 325,
   "metadata": {},
   "outputs": [],
   "source": [
    "df_hyp = pd.DataFrame({'Estimate': beta_hat.flatten(),\n",
    "                       'Standard_error': beta_hat_stderr})\n",
    "\n",
    "df_hyp['t_statistic'] = df_hyp['Estimate']/df_hyp['Standard_error']"
   ]
  },
  {
   "cell_type": "code",
   "execution_count": 326,
   "metadata": {},
   "outputs": [],
   "source": [
    "df_hyp['pval'] = tdist.cdf(-abs(df_hyp.t_statistic), n-k)*2"
   ]
  },
  {
   "cell_type": "code",
   "execution_count": 327,
   "metadata": {},
   "outputs": [
    {
     "data": {
      "text/plain": [
       "1.9646914053628335"
      ]
     },
     "execution_count": 327,
     "metadata": {},
     "output_type": "execute_result"
    }
   ],
   "source": [
    "from scipy.stats import t as tdist\n",
    "\n",
    "critical_val = abs(tdist.ppf(q=[0.025], df=n-k))[0]\n",
    "critical_val"
   ]
  },
  {
   "cell_type": "code",
   "execution_count": 328,
   "metadata": {},
   "outputs": [
    {
     "data": {
      "text/html": [
       "<div>\n",
       "<style scoped>\n",
       "    .dataframe tbody tr th:only-of-type {\n",
       "        vertical-align: middle;\n",
       "    }\n",
       "\n",
       "    .dataframe tbody tr th {\n",
       "        vertical-align: top;\n",
       "    }\n",
       "\n",
       "    .dataframe thead th {\n",
       "        text-align: right;\n",
       "    }\n",
       "</style>\n",
       "<table border=\"1\" class=\"dataframe\">\n",
       "  <thead>\n",
       "    <tr style=\"text-align: right;\">\n",
       "      <th></th>\n",
       "      <th>Estimate</th>\n",
       "      <th>Standard_error</th>\n",
       "      <th>t_statistic</th>\n",
       "      <th>pval</th>\n",
       "      <th>significant_0.05</th>\n",
       "    </tr>\n",
       "  </thead>\n",
       "  <tbody>\n",
       "    <tr>\n",
       "      <th>0</th>\n",
       "      <td>-1.358273</td>\n",
       "      <td>3.172828</td>\n",
       "      <td>-0.428095</td>\n",
       "      <td>6.687649e-01</td>\n",
       "      <td>False</td>\n",
       "    </tr>\n",
       "    <tr>\n",
       "      <th>1</th>\n",
       "      <td>-0.642358</td>\n",
       "      <td>0.043731</td>\n",
       "      <td>-14.688699</td>\n",
       "      <td>6.669365e-41</td>\n",
       "      <td>True</td>\n",
       "    </tr>\n",
       "    <tr>\n",
       "      <th>2</th>\n",
       "      <td>5.094788</td>\n",
       "      <td>0.444466</td>\n",
       "      <td>11.462730</td>\n",
       "      <td>3.472258e-27</td>\n",
       "      <td>True</td>\n",
       "    </tr>\n",
       "  </tbody>\n",
       "</table>\n",
       "</div>"
      ],
      "text/plain": [
       "   Estimate  Standard_error  t_statistic          pval  significant_0.05\n",
       "0 -1.358273        3.172828    -0.428095  6.687649e-01             False\n",
       "1 -0.642358        0.043731   -14.688699  6.669365e-41              True\n",
       "2  5.094788        0.444466    11.462730  3.472258e-27              True"
      ]
     },
     "execution_count": 328,
     "metadata": {},
     "output_type": "execute_result"
    }
   ],
   "source": [
    "df_hyp['significant_0.05'] = (abs(df_hyp['t_statistic']) > critical_val)\n",
    "df_hyp"
   ]
  },
  {
   "cell_type": "markdown",
   "metadata": {},
   "source": [
    "## Calculate TSS, ESS and RSS"
   ]
  },
  {
   "cell_type": "code",
   "execution_count": 329,
   "metadata": {},
   "outputs": [],
   "source": [
    "tss = y.var()*y.size\n",
    "ess = tss - rss"
   ]
  },
  {
   "cell_type": "code",
   "execution_count": 330,
   "metadata": {},
   "outputs": [
    {
     "name": "stdout",
     "output_type": "stream",
     "text": [
      "R squared: 0.6386\n",
      "R squared (Adjusted): 0.6371\n"
     ]
    }
   ],
   "source": [
    "R_sq = (ess/tss)\n",
    "R_sq_adj = (1 - (rss/(n-k))/(tss/(n-1)))\n",
    "\n",
    "print('R squared: {:.4f}'.format(R_sq))\n",
    "print('R squared (Adjusted): {:.4f}'.format(R_sq_adj))"
   ]
  },
  {
   "cell_type": "markdown",
   "metadata": {},
   "source": [
    "# "
   ]
  },
  {
   "cell_type": "markdown",
   "metadata": {},
   "source": [
    "## Make the LinearRegression Model"
   ]
  },
  {
   "cell_type": "code",
   "execution_count": 331,
   "metadata": {},
   "outputs": [],
   "source": [
    "from sklearn.base import BaseEstimator, ClassifierMixin"
   ]
  },
  {
   "cell_type": "code",
   "execution_count": 485,
   "metadata": {},
   "outputs": [],
   "source": [
    "class LinearReg(BaseEstimator, ClassifierMixin):\n",
    "    \n",
    "    def __init__(self, fit_intercept=True):\n",
    "        self.fit_intercept = fit_intercept\n",
    "    \n",
    "    @staticmethod\n",
    "    def _remake_X(X):\n",
    "        if not np.all(X == 0):\n",
    "            return np.hstack((np.ones((X.shape[0], 1)), X))\n",
    "        else:\n",
    "            return np.ones((X.shape[0], 1))\n",
    "\n",
    "    @staticmethod\n",
    "    def _remake_y(y):\n",
    "        return y.reshape(-1, 1) # Check before reshaping?\n",
    "\n",
    "    \n",
    "    def fit(self, X, y):\n",
    "        \n",
    "        # Make proper X and y matrix\n",
    "        if self.fit_intercept:\n",
    "            if X is not None:\n",
    "                X = self._remake_X(X)\n",
    "            else:\n",
    "                X = np.zeros((y.shape[0]))\n",
    "                X = np.hstack((np.ones((y.shape[0], 1)), X))\n",
    "            \n",
    "        y = self._remake_y(y)\n",
    "        \n",
    "        # Store n and k\n",
    "        n, k = X.shape\n",
    "        \n",
    "        # Obtain estimate of beta =  beta_hat\n",
    "        try:\n",
    "            A = inv(X.T@X)\n",
    "        except np.linalg.LinAlgError:\n",
    "            A = np.zeros([X.shape[1]]*2)\n",
    "            \n",
    "        beta_hat = A@X.T@y\n",
    "        \n",
    "        # Obtain estimate of y = y_hat\n",
    "        y_hat = X@beta_hat\n",
    "        \n",
    "        # Compute residual sum of squares\n",
    "        u_hat = y - y_hat\n",
    "        rss = (u_hat.T @ u_hat).ravel()[0]\n",
    "        \n",
    "        # Estimate the variance of beta_hat\n",
    "        beta_hat_var = (rss/(n-k))*A\n",
    "        \n",
    "        # Calculate tss, ess and rss\n",
    "        tss = y.var()*n\n",
    "        ess = tss - rss\n",
    "        \n",
    "        # Calculate R-squared and Adjusted R-squared\n",
    "        rsq = ess/tss\n",
    "        rsq_adj = 1 - (rss/(n-k))/(tss/(n-1))\n",
    "        \n",
    "        # Perform F-test for overall significance\n",
    "        dfn, dfd = k-1, n-k\n",
    "        fstat = (ess/(dfn))/(rss/(dfd))\n",
    "        ftest_pval =  1 - fdist.cdf(fstat, dfn, dfd)\n",
    "        \n",
    "        # store\n",
    "        self.n = n\n",
    "        self.k = k\n",
    "        self.beta_hat = beta_hat\n",
    "        self.rss = rss\n",
    "        self.beta_hat_var = beta_hat_var\n",
    "        self.u_hat = u_hat\n",
    "        self.rsq = rsq\n",
    "        self.rsq_adj = rsq_adj\n",
    "        self.aic = rss/n + 2*k/n\n",
    "        self.bic = rss/n + 2*k*np.log(n)/n\n",
    "        self.fstat = fstat\n",
    "        self.ftest_pval = ftest_pval\n",
    "    \n",
    "        return self\n",
    "    \n",
    "        \n",
    "    def predict(self, X):\n",
    "        X = self._remake_X(X)\n",
    "        return X@self.beta_hat\n",
    "    \n",
    "    def predict_interval(self, X):\n",
    "        raise NotImplementedError('This feature is not implemented yet!')\n",
    "        \n",
    "    \n",
    "    def score(self, X, y):\n",
    "        lm = LinearReg(self.fit_intercept)\n",
    "        lm.fit(X, y)\n",
    "        return lm.rsq_adj\n",
    "    "
   ]
  },
  {
   "cell_type": "code",
   "execution_count": 486,
   "metadata": {},
   "outputs": [],
   "source": [
    "X = df.iloc[:, 0:2].values\n",
    "y = df.iloc[:, -1].values.reshape(-1, 1)"
   ]
  },
  {
   "cell_type": "code",
   "execution_count": 487,
   "metadata": {},
   "outputs": [
    {
     "data": {
      "text/plain": [
       "LinearReg(fit_intercept=True)"
      ]
     },
     "execution_count": 487,
     "metadata": {},
     "output_type": "execute_result"
    }
   ],
   "source": [
    "lm = LinearReg()\n",
    "lm.fit(X, y)"
   ]
  },
  {
   "cell_type": "code",
   "execution_count": 488,
   "metadata": {},
   "outputs": [
    {
     "data": {
      "text/plain": [
       "0.6371244754701231"
      ]
     },
     "execution_count": 488,
     "metadata": {},
     "output_type": "execute_result"
    }
   ],
   "source": [
    "lm.score(X, y)"
   ]
  },
  {
   "cell_type": "code",
   "execution_count": 489,
   "metadata": {},
   "outputs": [],
   "source": [
    "from sklearn.model_selection import cross_val_score"
   ]
  },
  {
   "cell_type": "code",
   "execution_count": 490,
   "metadata": {},
   "outputs": [
    {
     "data": {
      "text/plain": [
       "array([11.78879381, 28.97215949, 47.84395882, 71.77053822, 36.6099291 ])"
      ]
     },
     "execution_count": 490,
     "metadata": {},
     "output_type": "execute_result"
    }
   ],
   "source": [
    "-cross_val_score(lm, X, y, scoring=\"neg_mean_squared_error\")"
   ]
  },
  {
   "cell_type": "code",
   "execution_count": 491,
   "metadata": {},
   "outputs": [
    {
     "data": {
      "text/plain": [
       "array([11.78879381, 28.97215949, 47.84395882, 71.77053822, 36.6099291 ])"
      ]
     },
     "execution_count": 491,
     "metadata": {},
     "output_type": "execute_result"
    }
   ],
   "source": [
    "from sklearn.linear_model import LinearRegression\n",
    "lm_sk = LinearRegression()\n",
    "\n",
    "-cross_val_score(lm_sk, X, y, scoring=\"neg_mean_squared_error\")"
   ]
  },
  {
   "cell_type": "code",
   "execution_count": 492,
   "metadata": {},
   "outputs": [
    {
     "data": {
      "text/plain": [
       "array([ 0.66158301,  0.64905012, -1.51946963,  0.49331255,  0.59340312,\n",
       "        0.47386502, -0.17695506,  0.05396455, -1.77172578,  0.21261084])"
      ]
     },
     "execution_count": 492,
     "metadata": {},
     "output_type": "execute_result"
    }
   ],
   "source": [
    "cross_val_score(lm_sk, X, y, cv=10) # Which default scoring metric does this use?"
   ]
  },
  {
   "cell_type": "markdown",
   "metadata": {},
   "source": [
    "## Joint Hypothesis\n",
    "\n",
    "$ H_{0}: \\beta_{2} +\\beta_{3} = 0$ <br/>\n",
    "$ H_{1}: \\beta_{2} +\\beta_{3} \\neq 0$"
   ]
  },
  {
   "cell_type": "code",
   "execution_count": 493,
   "metadata": {},
   "outputs": [],
   "source": [
    "lm = LinearReg()"
   ]
  },
  {
   "cell_type": "code",
   "execution_count": 494,
   "metadata": {},
   "outputs": [],
   "source": [
    "# Unrestricted residual sum of squares\n",
    "urss = lm.fit(X, y).rss"
   ]
  },
  {
   "cell_type": "code",
   "execution_count": 495,
   "metadata": {},
   "outputs": [
    {
     "data": {
      "text/plain": [
       "(506, 2)"
      ]
     },
     "execution_count": 495,
     "metadata": {},
     "output_type": "execute_result"
    }
   ],
   "source": [
    "X.shape"
   ]
  },
  {
   "cell_type": "code",
   "execution_count": 496,
   "metadata": {},
   "outputs": [],
   "source": [
    "X_star = (X[:, 0] - X[:, 1]).reshape(-1, 1)\n",
    "y_star = y - X[:, 1].reshape(-1, 1)"
   ]
  },
  {
   "cell_type": "code",
   "execution_count": 497,
   "metadata": {},
   "outputs": [
    {
     "name": "stdout",
     "output_type": "stream",
     "text": [
      "F statistic: 53.47836\n",
      "Critical value: 3.85998\n"
     ]
    }
   ],
   "source": [
    "# Restricted residual sum of squares\n",
    "rrss = lm.fit(X_star, y_star).rss\n",
    "\n",
    "num_restr = X_star.shape[1]\n",
    "n = X.shape[0]\n",
    "k = X.shape[1]\n",
    "F_stat = ((rrss - urss)/num_restr)/(urss/(n-k))\n",
    "\n",
    "print('F statistic: {:.5f}'.format(F_stat))\n",
    "print('Critical value: {:.5f}'.format(fdist.ppf(1 - 0.05, num_restr, n-k)))"
   ]
  },
  {
   "cell_type": "code",
   "execution_count": 498,
   "metadata": {},
   "outputs": [],
   "source": [
    "class IncompatibleLinearModelError(Exception):\n",
    "    pass\n",
    "\n",
    "def Ftest_LinearReg(lm1: LinearReg, lm2: LinearReg, sig):\n",
    "    '''Perform the Ftest for two linear model fits of class LinearReg\n",
    "    \n",
    "    The restricted and unrestricted models are automatically assigned\n",
    "    by accessing the k attribute of lm1 and lm2.\n",
    "    \n",
    "    Parameters\n",
    "    ----------\n",
    "    \n",
    "    lm1, lm2: LinearReg\n",
    "        fitted models of class LinearReg\n",
    "        \n",
    "    sig: int, optional (default=0.05)\n",
    "        the significance level of the test\n",
    "        \n",
    "    Return -> True if the test is significant\n",
    "    \n",
    "    '''\n",
    "    if (lm1.n == lm2.n) and (lm1.k != lm2.k): # NOTE: Python 3.8 assign n to a var \n",
    "        n = lm1.n\n",
    "    else:\n",
    "        raise(IncompatibleLinearModelError(\n",
    "            'The linear models were fitted on datasets with varying observations')\n",
    "             )\n",
    "    \n",
    "    lms = [lm1, lm2]\n",
    "    r = np.argmin([lm.k for lm in lms])\n",
    "    ur = [i for i in range(len(lms)) if i != r][0]\n",
    "    \n",
    "    lm_r, lm_ur = lms[r], lms[ur]\n",
    "    \n",
    "    rrss, urss = lm_r.rss, lm_ur.rss\n",
    "    dfn = lm_ur.k - lm_r.k\n",
    "    dfd = n - lm_ur.k\n",
    "    \n",
    "    F_stat = ((rrss - urss)/dfn)/(urss/dfd)\n",
    "    critical_val = fdist.ppf(1 - sig, dfn, dfd)\n",
    "    pval = 1 - fdist.cdf(F_stat, dfn, dfd)\n",
    "    \n",
    "    print('F statistic: {:.4f} with dfn: {}, and dfd: {}'.format(F_stat, dfn, dfd))\n",
    "    print('Critical value: {:.4f}'.format(critical_val))\n",
    "    print('p-value: {:.4f}'.format(pval))\n",
    "    \n",
    "    if F_stat > critical_val:\n",
    "        return True\n",
    "    \n",
    "    return False"
   ]
  },
  {
   "cell_type": "code",
   "execution_count": 499,
   "metadata": {},
   "outputs": [
    {
     "name": "stdout",
     "output_type": "stream",
     "text": [
      "F statistic: 53.3723 with dfn: 1, and dfd: 503\n",
      "Critical value: 3.8600\n",
      "p-value: 0.0000\n"
     ]
    },
    {
     "data": {
      "text/plain": [
       "True"
      ]
     },
     "execution_count": 499,
     "metadata": {},
     "output_type": "execute_result"
    }
   ],
   "source": [
    "lm_r = LinearReg().fit(X, y)\n",
    "lm_ur = LinearReg().fit(X_star, y_star)\n",
    "Ftest_LinearReg(lm_r, lm_ur, 0.05)"
   ]
  },
  {
   "cell_type": "markdown",
   "metadata": {},
   "source": [
    "Now let's do something that might make us **NOT** reject the null hypothesis."
   ]
  },
  {
   "cell_type": "code",
   "execution_count": 500,
   "metadata": {},
   "outputs": [
    {
     "data": {
      "text/plain": [
       "array([4.45242965])"
      ]
     },
     "execution_count": 500,
     "metadata": {},
     "output_type": "execute_result"
    }
   ],
   "source": [
    "lm.fit(X, y)\n",
    "beta_hat = lm.beta_hat\n",
    "beta_hat[1] + beta_hat[2]"
   ]
  },
  {
   "cell_type": "markdown",
   "metadata": {},
   "source": [
    "$ H_{0}: \\beta_{2} +\\beta_{3} = 4.47$ <br/>\n",
    "$ H_{1}: \\beta_{2} +\\beta_{3} \\neq 4.47$"
   ]
  },
  {
   "cell_type": "code",
   "execution_count": 501,
   "metadata": {},
   "outputs": [],
   "source": [
    "X_star = (X[:, 0] - X[:, 1]).reshape(-1, 1)\n",
    "y_star = y - 4.47*X[:, 1].reshape(-1, 1)"
   ]
  },
  {
   "cell_type": "code",
   "execution_count": 502,
   "metadata": {},
   "outputs": [],
   "source": [
    "lm_ur = LinearReg().fit(X, y)\n",
    "lm_r = LinearReg().fit(X_star, y_star)"
   ]
  },
  {
   "cell_type": "code",
   "execution_count": 503,
   "metadata": {},
   "outputs": [
    {
     "name": "stdout",
     "output_type": "stream",
     "text": [
      "F statistic: 0.0014 with dfn: 1, and dfd: 503\n",
      "Critical value: 3.8600\n",
      "p-value: 0.9704\n"
     ]
    },
    {
     "data": {
      "text/plain": [
       "False"
      ]
     },
     "execution_count": 503,
     "metadata": {},
     "output_type": "execute_result"
    }
   ],
   "source": [
    "Ftest_LinearReg(lm_ur, lm_r, 0.05)"
   ]
  },
  {
   "cell_type": "markdown",
   "metadata": {},
   "source": [
    "Let's check if the pvalue from the F-test matches with the t-test for the intercept case <br/>\n",
    "$ H_{0}: \\beta_{1} = 0$ <br/>\n",
    "$ H_{1}: \\beta_{1} \\neq 0$"
   ]
  },
  {
   "cell_type": "code",
   "execution_count": 504,
   "metadata": {},
   "outputs": [
    {
     "name": "stdout",
     "output_type": "stream",
     "text": [
      "F statistic: 0.1833 with dfn: 1, and dfd: 503\n",
      "Critical value: 3.8600\n",
      "p-value: 0.6688\n"
     ]
    },
    {
     "data": {
      "text/plain": [
       "False"
      ]
     },
     "execution_count": 504,
     "metadata": {},
     "output_type": "execute_result"
    }
   ],
   "source": [
    "lm_r = LinearReg(fit_intercept=False).fit(X, y)\n",
    "lm_ur = LinearReg(fit_intercept=True).fit(X, y)\n",
    "\n",
    "Ftest_LinearReg(lm_r, lm_ur, 0.05)"
   ]
  },
  {
   "cell_type": "markdown",
   "metadata": {},
   "source": [
    "And Voila! it matches :D"
   ]
  },
  {
   "cell_type": "code",
   "execution_count": 505,
   "metadata": {},
   "outputs": [
    {
     "data": {
      "text/html": [
       "<div>\n",
       "<style scoped>\n",
       "    .dataframe tbody tr th:only-of-type {\n",
       "        vertical-align: middle;\n",
       "    }\n",
       "\n",
       "    .dataframe tbody tr th {\n",
       "        vertical-align: top;\n",
       "    }\n",
       "\n",
       "    .dataframe thead th {\n",
       "        text-align: right;\n",
       "    }\n",
       "</style>\n",
       "<table border=\"1\" class=\"dataframe\">\n",
       "  <thead>\n",
       "    <tr style=\"text-align: right;\">\n",
       "      <th></th>\n",
       "      <th>Estimate</th>\n",
       "      <th>Standard_error</th>\n",
       "      <th>t_statistic</th>\n",
       "      <th>pval</th>\n",
       "      <th>significant_0.05</th>\n",
       "    </tr>\n",
       "  </thead>\n",
       "  <tbody>\n",
       "    <tr>\n",
       "      <th>0</th>\n",
       "      <td>-1.358273</td>\n",
       "      <td>3.172828</td>\n",
       "      <td>-0.428095</td>\n",
       "      <td>6.687649e-01</td>\n",
       "      <td>False</td>\n",
       "    </tr>\n",
       "    <tr>\n",
       "      <th>1</th>\n",
       "      <td>-0.642358</td>\n",
       "      <td>0.043731</td>\n",
       "      <td>-14.688699</td>\n",
       "      <td>6.669365e-41</td>\n",
       "      <td>True</td>\n",
       "    </tr>\n",
       "    <tr>\n",
       "      <th>2</th>\n",
       "      <td>5.094788</td>\n",
       "      <td>0.444466</td>\n",
       "      <td>11.462730</td>\n",
       "      <td>3.472258e-27</td>\n",
       "      <td>True</td>\n",
       "    </tr>\n",
       "  </tbody>\n",
       "</table>\n",
       "</div>"
      ],
      "text/plain": [
       "   Estimate  Standard_error  t_statistic          pval  significant_0.05\n",
       "0 -1.358273        3.172828    -0.428095  6.687649e-01             False\n",
       "1 -0.642358        0.043731   -14.688699  6.669365e-41              True\n",
       "2  5.094788        0.444466    11.462730  3.472258e-27              True"
      ]
     },
     "execution_count": 505,
     "metadata": {},
     "output_type": "execute_result"
    }
   ],
   "source": [
    "df_hyp"
   ]
  },
  {
   "cell_type": "markdown",
   "metadata": {},
   "source": [
    "## Test for Heteroskedasticity"
   ]
  },
  {
   "cell_type": "markdown",
   "metadata": {},
   "source": [
    "### Breush-Pagan test"
   ]
  },
  {
   "cell_type": "markdown",
   "metadata": {},
   "source": [
    "$H_{0}: \\alpha_{2} = \\alpha_{3} = 0$ <br />\n",
    "$H_{1}: atleast \\ one \\ \\alpha_{i} \\neq 0  \\ \\forall \\ i = 1, 2, ...k$"
   ]
  },
  {
   "cell_type": "code",
   "execution_count": 506,
   "metadata": {},
   "outputs": [
    {
     "ename": "ValueError",
     "evalue": "all the input arrays must have same number of dimensions, but the array at index 0 has 2 dimension(s) and the array at index 1 has 1 dimension(s)",
     "output_type": "error",
     "traceback": [
      "\u001b[1;31m---------------------------------------------------------------------------\u001b[0m",
      "\u001b[1;31mValueError\u001b[0m                                Traceback (most recent call last)",
      "\u001b[1;32m<ipython-input-506-518fbc6c684b>\u001b[0m in \u001b[0;36m<module>\u001b[1;34m\u001b[0m\n\u001b[0;32m     10\u001b[0m \u001b[1;31m# Null Hypothesis\u001b[0m\u001b[1;33m\u001b[0m\u001b[1;33m\u001b[0m\u001b[1;33m\u001b[0m\u001b[0m\n\u001b[0;32m     11\u001b[0m \u001b[0mX_H0\u001b[0m \u001b[1;33m=\u001b[0m \u001b[1;32mNone\u001b[0m\u001b[1;33m\u001b[0m\u001b[1;33m\u001b[0m\u001b[0m\n\u001b[1;32m---> 12\u001b[1;33m \u001b[0mlm_H0\u001b[0m \u001b[1;33m=\u001b[0m \u001b[0mLinearReg\u001b[0m\u001b[1;33m(\u001b[0m\u001b[1;33m)\u001b[0m\u001b[1;33m.\u001b[0m\u001b[0mfit\u001b[0m\u001b[1;33m(\u001b[0m\u001b[1;32mNone\u001b[0m\u001b[1;33m,\u001b[0m \u001b[0mres_sq\u001b[0m\u001b[1;33m)\u001b[0m\u001b[1;33m\u001b[0m\u001b[1;33m\u001b[0m\u001b[0m\n\u001b[0m\u001b[0;32m     13\u001b[0m \u001b[1;33m\u001b[0m\u001b[0m\n\u001b[0;32m     14\u001b[0m \u001b[1;31m# Alternate Hypothesis\u001b[0m\u001b[1;33m\u001b[0m\u001b[1;33m\u001b[0m\u001b[1;33m\u001b[0m\u001b[0m\n",
      "\u001b[1;32m<ipython-input-485-7cc91f2fa992>\u001b[0m in \u001b[0;36mfit\u001b[1;34m(self, X, y)\u001b[0m\n\u001b[0;32m     23\u001b[0m                 \u001b[0mX\u001b[0m \u001b[1;33m=\u001b[0m \u001b[0mself\u001b[0m\u001b[1;33m.\u001b[0m\u001b[0m_remake_X\u001b[0m\u001b[1;33m(\u001b[0m\u001b[0mX\u001b[0m\u001b[1;33m)\u001b[0m\u001b[1;33m\u001b[0m\u001b[1;33m\u001b[0m\u001b[0m\n\u001b[0;32m     24\u001b[0m             \u001b[1;32melse\u001b[0m\u001b[1;33m:\u001b[0m\u001b[1;33m\u001b[0m\u001b[1;33m\u001b[0m\u001b[0m\n\u001b[1;32m---> 25\u001b[1;33m                 \u001b[0mnp\u001b[0m\u001b[1;33m.\u001b[0m\u001b[0mhstack\u001b[0m\u001b[1;33m(\u001b[0m\u001b[1;33m(\u001b[0m\u001b[0mnp\u001b[0m\u001b[1;33m.\u001b[0m\u001b[0mones\u001b[0m\u001b[1;33m(\u001b[0m\u001b[1;33m(\u001b[0m\u001b[0my\u001b[0m\u001b[1;33m.\u001b[0m\u001b[0mshape\u001b[0m\u001b[1;33m[\u001b[0m\u001b[1;36m0\u001b[0m\u001b[1;33m]\u001b[0m\u001b[1;33m,\u001b[0m \u001b[1;36m1\u001b[0m\u001b[1;33m)\u001b[0m\u001b[1;33m)\u001b[0m\u001b[1;33m,\u001b[0m \u001b[0mX\u001b[0m\u001b[1;33m)\u001b[0m\u001b[1;33m)\u001b[0m\u001b[1;33m\u001b[0m\u001b[1;33m\u001b[0m\u001b[0m\n\u001b[0m\u001b[0;32m     26\u001b[0m \u001b[1;33m\u001b[0m\u001b[0m\n\u001b[0;32m     27\u001b[0m         \u001b[0my\u001b[0m \u001b[1;33m=\u001b[0m \u001b[0mself\u001b[0m\u001b[1;33m.\u001b[0m\u001b[0m_remake_y\u001b[0m\u001b[1;33m(\u001b[0m\u001b[0my\u001b[0m\u001b[1;33m)\u001b[0m\u001b[1;33m\u001b[0m\u001b[1;33m\u001b[0m\u001b[0m\n",
      "\u001b[1;32m<__array_function__ internals>\u001b[0m in \u001b[0;36mhstack\u001b[1;34m(*args, **kwargs)\u001b[0m\n",
      "\u001b[1;32m~\\Anaconda2\\envs\\ds\\lib\\site-packages\\numpy\\core\\shape_base.py\u001b[0m in \u001b[0;36mhstack\u001b[1;34m(tup)\u001b[0m\n\u001b[0;32m    343\u001b[0m         \u001b[1;32mreturn\u001b[0m \u001b[0m_nx\u001b[0m\u001b[1;33m.\u001b[0m\u001b[0mconcatenate\u001b[0m\u001b[1;33m(\u001b[0m\u001b[0marrs\u001b[0m\u001b[1;33m,\u001b[0m \u001b[1;36m0\u001b[0m\u001b[1;33m)\u001b[0m\u001b[1;33m\u001b[0m\u001b[1;33m\u001b[0m\u001b[0m\n\u001b[0;32m    344\u001b[0m     \u001b[1;32melse\u001b[0m\u001b[1;33m:\u001b[0m\u001b[1;33m\u001b[0m\u001b[1;33m\u001b[0m\u001b[0m\n\u001b[1;32m--> 345\u001b[1;33m         \u001b[1;32mreturn\u001b[0m \u001b[0m_nx\u001b[0m\u001b[1;33m.\u001b[0m\u001b[0mconcatenate\u001b[0m\u001b[1;33m(\u001b[0m\u001b[0marrs\u001b[0m\u001b[1;33m,\u001b[0m \u001b[1;36m1\u001b[0m\u001b[1;33m)\u001b[0m\u001b[1;33m\u001b[0m\u001b[1;33m\u001b[0m\u001b[0m\n\u001b[0m\u001b[0;32m    346\u001b[0m \u001b[1;33m\u001b[0m\u001b[0m\n\u001b[0;32m    347\u001b[0m \u001b[1;33m\u001b[0m\u001b[0m\n",
      "\u001b[1;32m<__array_function__ internals>\u001b[0m in \u001b[0;36mconcatenate\u001b[1;34m(*args, **kwargs)\u001b[0m\n",
      "\u001b[1;31mValueError\u001b[0m: all the input arrays must have same number of dimensions, but the array at index 0 has 2 dimension(s) and the array at index 1 has 1 dimension(s)"
     ]
    }
   ],
   "source": [
    "lm = LinearReg().fit(X, y)\n",
    "\n",
    "# residual\n",
    "res = y - lm.predict(X)\n",
    "assert((res**2).sum() == lm.rss)\n",
    "\n",
    "# residual squared\n",
    "res_sq = res**2\n",
    "\n",
    "# Null Hypothesis\n",
    "X_H0 = None\n",
    "lm_H0 = LinearReg().fit(None, res_sq)\n",
    "\n",
    "# Alternate Hypothesis\n",
    "# Now regress the res_sq on X\n",
    "lm_H1 = LinearReg().fit(X, res_sq)"
   ]
  },
  {
   "cell_type": "code",
   "execution_count": 452,
   "metadata": {},
   "outputs": [
    {
     "name": "stdout",
     "output_type": "stream",
     "text": [
      "F statistic: 0.76264 with dfn: 2, and dfd: 503\n",
      "Critical value: 3.01365\n",
      "p-value: 0.46697\n"
     ]
    },
    {
     "data": {
      "text/plain": [
       "False"
      ]
     },
     "execution_count": 452,
     "metadata": {},
     "output_type": "execute_result"
    }
   ],
   "source": [
    "Ftest_LinearReg(lm_H0, lm_H1, 0.05)"
   ]
  },
  {
   "cell_type": "code",
   "execution_count": 481,
   "metadata": {},
   "outputs": [],
   "source": [
    "def breush_pagan(X: np.array, y: np.array, sig):\n",
    "    ''' Breush Pagan test for heteroskedasticity\n",
    "    \n",
    "    Parameters\n",
    "    ----------\n",
    "    X: np.array\n",
    "        Regressor matrix\n",
    "    \n",
    "    y: np.array\n",
    "        Regressand matrix\n",
    "        \n",
    "    '''\n",
    "    lm = LinearReg().fit(X, y)\n",
    "\n",
    "    # residual\n",
    "    res = y - lm.predict(X)\n",
    "\n",
    "    # residual squared\n",
    "    res_sq = res**2\n",
    "\n",
    "    # Null Hypothesis\n",
    "    lm_H0 = LinearReg().fit(None, res_sq)\n",
    "\n",
    "    # Alternate Hypothesis\n",
    "    # Now regress the res_sq on X\n",
    "    lm_H1 = LinearReg().fit(X, res_sq)\n",
    "    \n",
    "    return(Ftest_LinearReg(lm_H0, lm_H1, sig))"
   ]
  },
  {
   "cell_type": "code",
   "execution_count": 482,
   "metadata": {},
   "outputs": [],
   "source": [
    "# Refer: t.ly/gr9v6 This one uses a chisq statistic\n",
    "def breusch_pagan2(X, y, sig):\n",
    "    ''' Breush Pagan test for heteroskedasticity\n",
    "    \n",
    "    Parameters\n",
    "    ----------\n",
    "    X: np.array\n",
    "        Regressor matrix\n",
    "    \n",
    "    y: np.array\n",
    "        Regressand matrix\n",
    "        \n",
    "    '''\n",
    "    \n",
    "    lm = LinearReg().fit(X, y)\n",
    "\n",
    "    # residual\n",
    "    res = y - lm.predict(X)\n",
    "\n",
    "    # residual squared\n",
    "    res_sq = res**2\n",
    "\n",
    "    # Alternate Hypothesis\n",
    "    lm_H1 = LinearReg().fit(X, res_sq)\n",
    "    k = lm_H1.k\n",
    "    rsq = lm_H1.rsq\n",
    "    n = lm_H1.n\n",
    "    \n",
    "    # n*Rsq is chisq distributed with k-1 df\n",
    "    chisq_stat = n*rsq\n",
    "    df = k-1\n",
    "    pval = 1 - chisq.cdf(chisq_stat, df)\n",
    "    critical_val = chisq.ppf(1- sig, df)\n",
    "    \n",
    "    print('Chisq statistic: {:.4f} with df: {}'.format(chisq_stat, k-1))\n",
    "    print('Critical value: {:4f}'.format(critical_val))\n",
    "    print('pval: {:4f}'.format(pval))\n",
    "    \n",
    "    if chisq_stat > critical_val:\n",
    "        return True\n",
    "    \n",
    "    return(False)"
   ]
  },
  {
   "cell_type": "code",
   "execution_count": 483,
   "metadata": {},
   "outputs": [
    {
     "name": "stdout",
     "output_type": "stream",
     "text": [
      "Chisq statistic: 1.5297 with df: 2\n",
      "Critical value: 5.991465\n",
      "pval: 0.465394\n"
     ]
    },
    {
     "data": {
      "text/plain": [
       "False"
      ]
     },
     "execution_count": 483,
     "metadata": {},
     "output_type": "execute_result"
    }
   ],
   "source": [
    "breusch_pagan2(X, y, 0.05)"
   ]
  },
  {
   "cell_type": "markdown",
   "metadata": {},
   "source": [
    "## Rectifying Heteroskedasticity\n",
    "\n",
    "Doubts: <br/>\n",
    "1. "
   ]
  },
  {
   "cell_type": "code",
   "execution_count": 360,
   "metadata": {},
   "outputs": [],
   "source": [
    "z_hat = lm_H1.predict(X)"
   ]
  },
  {
   "cell_type": "code",
   "execution_count": 477,
   "metadata": {},
   "outputs": [],
   "source": [
    "X_star = LinearReg._remake_X(X)/(z_hat)**(1/2)\n",
    "y_star = y/(z_hat)**(1/2)\n",
    "lm_hk = LinearReg(fit_intercept=False).fit(X_star, y_star)"
   ]
  },
  {
   "cell_type": "code",
   "execution_count": 478,
   "metadata": {},
   "outputs": [
    {
     "data": {
      "text/plain": [
       "527.7243770112723"
      ]
     },
     "execution_count": 478,
     "metadata": {},
     "output_type": "execute_result"
    }
   ],
   "source": [
    "# Significantly reduced rss but this may be overfit\n",
    "lm_hk.rss"
   ]
  },
  {
   "cell_type": "code",
   "execution_count": 479,
   "metadata": {},
   "outputs": [
    {
     "data": {
      "text/plain": [
       "15439.30920131353"
      ]
     },
     "execution_count": 479,
     "metadata": {},
     "output_type": "execute_result"
    }
   ],
   "source": [
    "lm = LinearReg().fit(X, y)\n",
    "lm.rss"
   ]
  },
  {
   "cell_type": "code",
   "execution_count": null,
   "metadata": {},
   "outputs": [],
   "source": []
  }
 ],
 "metadata": {
  "kernelspec": {
   "display_name": "Python 3",
   "language": "python",
   "name": "python3"
  },
  "language_info": {
   "codemirror_mode": {
    "name": "ipython",
    "version": 3
   },
   "file_extension": ".py",
   "mimetype": "text/x-python",
   "name": "python",
   "nbconvert_exporter": "python",
   "pygments_lexer": "ipython3",
   "version": "3.7.6"
  }
 },
 "nbformat": 4,
 "nbformat_minor": 4
}
