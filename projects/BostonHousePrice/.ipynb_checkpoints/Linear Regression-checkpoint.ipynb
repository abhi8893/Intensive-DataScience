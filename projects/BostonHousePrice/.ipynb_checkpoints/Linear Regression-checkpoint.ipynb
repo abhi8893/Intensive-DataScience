{
 "cells": [
  {
   "cell_type": "markdown",
   "metadata": {},
   "source": [
    "# Multiple Linear Regression: Boston House Prediction"
   ]
  },
  {
   "cell_type": "markdown",
   "metadata": {},
   "source": [
    "* CRIM per capita crime rate by town\n",
    "* ZN proportion of residential land zoned for lots over 25,000 sq.ft.\n",
    "* INDUS proportion of non-retail business acres per town\n",
    "* CHAS Charles River dummy variable (= 1 if tract bounds river; 0 otherwise)\n",
    "* NOX nitric oxides concentration (parts per 10 million)\n",
    "* RM average number of rooms per dwelling\n",
    "* AGE proportion of owner-occupied units built prior to 1940\n",
    "* DIS weighted distances to five Boston employment centres\n",
    "* RAD index of accessibility to radial highways\n",
    "* TAX full-value property-tax rate per 10,000usd\n",
    "* PTRATIO pupil-teacher ratio by town\n",
    "* B 1000(Bk - 0.63)^2 where Bk is the proportion of blacks by town\n",
    "* LSTAT % lower status of the population"
   ]
  },
  {
   "cell_type": "code",
   "execution_count": 106,
   "metadata": {
    "ExecuteTime": {
     "end_time": "2020-03-05T15:00:34.621610Z",
     "start_time": "2020-03-05T15:00:34.617296Z"
    }
   },
   "outputs": [],
   "source": [
    "import pandas as pd\n",
    "import numpy as np\n",
    "import matplotlib.pyplot as plt\n",
    "from scipy.stats import f as fdist\n",
    "from scipy.stats import t as tdist\n",
    "from scipy.stats import chi2 as chisq"
   ]
  },
  {
   "cell_type": "code",
   "execution_count": 107,
   "metadata": {
    "ExecuteTime": {
     "end_time": "2020-03-05T15:00:34.641806Z",
     "start_time": "2020-03-05T15:00:34.623513Z"
    }
   },
   "outputs": [],
   "source": [
    "names = ['CRIM', 'ZN', 'INDUS', 'CHAS', 'NOX', 'RM', 'AGE', \n",
    "         'DIS', 'RAD', 'TAX', 'PTRATIO','B', 'LSTAT', 'MEDV']\n",
    "df = pd.read_csv('data/housing.data', header=None, delim_whitespace=True, names=names)"
   ]
  },
  {
   "cell_type": "code",
   "execution_count": 108,
   "metadata": {
    "ExecuteTime": {
     "end_time": "2020-03-05T15:00:34.649532Z",
     "start_time": "2020-03-05T15:00:34.643881Z"
    }
   },
   "outputs": [],
   "source": [
    "df = df.select_dtypes(float)"
   ]
  },
  {
   "cell_type": "code",
   "execution_count": 109,
   "metadata": {
    "ExecuteTime": {
     "end_time": "2020-03-05T15:00:34.665003Z",
     "start_time": "2020-03-05T15:00:34.651364Z"
    }
   },
   "outputs": [
    {
     "data": {
      "text/html": [
       "<div>\n",
       "<style scoped>\n",
       "    .dataframe tbody tr th:only-of-type {\n",
       "        vertical-align: middle;\n",
       "    }\n",
       "\n",
       "    .dataframe tbody tr th {\n",
       "        vertical-align: top;\n",
       "    }\n",
       "\n",
       "    .dataframe thead th {\n",
       "        text-align: right;\n",
       "    }\n",
       "</style>\n",
       "<table border=\"1\" class=\"dataframe\">\n",
       "  <thead>\n",
       "    <tr style=\"text-align: right;\">\n",
       "      <th></th>\n",
       "      <th>CRIM</th>\n",
       "      <th>ZN</th>\n",
       "      <th>INDUS</th>\n",
       "      <th>NOX</th>\n",
       "      <th>RM</th>\n",
       "      <th>AGE</th>\n",
       "      <th>DIS</th>\n",
       "      <th>TAX</th>\n",
       "      <th>PTRATIO</th>\n",
       "      <th>B</th>\n",
       "      <th>LSTAT</th>\n",
       "      <th>MEDV</th>\n",
       "    </tr>\n",
       "  </thead>\n",
       "  <tbody>\n",
       "    <tr>\n",
       "      <td>0</td>\n",
       "      <td>0.00632</td>\n",
       "      <td>18.0</td>\n",
       "      <td>2.31</td>\n",
       "      <td>0.538</td>\n",
       "      <td>6.575</td>\n",
       "      <td>65.2</td>\n",
       "      <td>4.0900</td>\n",
       "      <td>296.0</td>\n",
       "      <td>15.3</td>\n",
       "      <td>396.90</td>\n",
       "      <td>4.98</td>\n",
       "      <td>24.0</td>\n",
       "    </tr>\n",
       "    <tr>\n",
       "      <td>1</td>\n",
       "      <td>0.02731</td>\n",
       "      <td>0.0</td>\n",
       "      <td>7.07</td>\n",
       "      <td>0.469</td>\n",
       "      <td>6.421</td>\n",
       "      <td>78.9</td>\n",
       "      <td>4.9671</td>\n",
       "      <td>242.0</td>\n",
       "      <td>17.8</td>\n",
       "      <td>396.90</td>\n",
       "      <td>9.14</td>\n",
       "      <td>21.6</td>\n",
       "    </tr>\n",
       "    <tr>\n",
       "      <td>2</td>\n",
       "      <td>0.02729</td>\n",
       "      <td>0.0</td>\n",
       "      <td>7.07</td>\n",
       "      <td>0.469</td>\n",
       "      <td>7.185</td>\n",
       "      <td>61.1</td>\n",
       "      <td>4.9671</td>\n",
       "      <td>242.0</td>\n",
       "      <td>17.8</td>\n",
       "      <td>392.83</td>\n",
       "      <td>4.03</td>\n",
       "      <td>34.7</td>\n",
       "    </tr>\n",
       "    <tr>\n",
       "      <td>3</td>\n",
       "      <td>0.03237</td>\n",
       "      <td>0.0</td>\n",
       "      <td>2.18</td>\n",
       "      <td>0.458</td>\n",
       "      <td>6.998</td>\n",
       "      <td>45.8</td>\n",
       "      <td>6.0622</td>\n",
       "      <td>222.0</td>\n",
       "      <td>18.7</td>\n",
       "      <td>394.63</td>\n",
       "      <td>2.94</td>\n",
       "      <td>33.4</td>\n",
       "    </tr>\n",
       "    <tr>\n",
       "      <td>4</td>\n",
       "      <td>0.06905</td>\n",
       "      <td>0.0</td>\n",
       "      <td>2.18</td>\n",
       "      <td>0.458</td>\n",
       "      <td>7.147</td>\n",
       "      <td>54.2</td>\n",
       "      <td>6.0622</td>\n",
       "      <td>222.0</td>\n",
       "      <td>18.7</td>\n",
       "      <td>396.90</td>\n",
       "      <td>5.33</td>\n",
       "      <td>36.2</td>\n",
       "    </tr>\n",
       "  </tbody>\n",
       "</table>\n",
       "</div>"
      ],
      "text/plain": [
       "      CRIM    ZN  INDUS    NOX     RM   AGE     DIS    TAX  PTRATIO       B  \\\n",
       "0  0.00632  18.0   2.31  0.538  6.575  65.2  4.0900  296.0     15.3  396.90   \n",
       "1  0.02731   0.0   7.07  0.469  6.421  78.9  4.9671  242.0     17.8  396.90   \n",
       "2  0.02729   0.0   7.07  0.469  7.185  61.1  4.9671  242.0     17.8  392.83   \n",
       "3  0.03237   0.0   2.18  0.458  6.998  45.8  6.0622  222.0     18.7  394.63   \n",
       "4  0.06905   0.0   2.18  0.458  7.147  54.2  6.0622  222.0     18.7  396.90   \n",
       "\n",
       "   LSTAT  MEDV  \n",
       "0   4.98  24.0  \n",
       "1   9.14  21.6  \n",
       "2   4.03  34.7  \n",
       "3   2.94  33.4  \n",
       "4   5.33  36.2  "
      ]
     },
     "execution_count": 109,
     "metadata": {},
     "output_type": "execute_result"
    }
   ],
   "source": [
    "df.head()"
   ]
  },
  {
   "cell_type": "code",
   "execution_count": 110,
   "metadata": {
    "ExecuteTime": {
     "end_time": "2020-03-05T15:00:34.672318Z",
     "start_time": "2020-03-05T15:00:34.666562Z"
    }
   },
   "outputs": [],
   "source": [
    "corr = abs(df.corr()['MEDV']).sort_values(ascending=False)\n",
    "clmns = corr[1:3].index"
   ]
  },
  {
   "cell_type": "code",
   "execution_count": 111,
   "metadata": {
    "ExecuteTime": {
     "end_time": "2020-03-05T15:00:34.683271Z",
     "start_time": "2020-03-05T15:00:34.673990Z"
    }
   },
   "outputs": [
    {
     "data": {
      "text/html": [
       "<div>\n",
       "<style scoped>\n",
       "    .dataframe tbody tr th:only-of-type {\n",
       "        vertical-align: middle;\n",
       "    }\n",
       "\n",
       "    .dataframe tbody tr th {\n",
       "        vertical-align: top;\n",
       "    }\n",
       "\n",
       "    .dataframe thead th {\n",
       "        text-align: right;\n",
       "    }\n",
       "</style>\n",
       "<table border=\"1\" class=\"dataframe\">\n",
       "  <thead>\n",
       "    <tr style=\"text-align: right;\">\n",
       "      <th></th>\n",
       "      <th>LSTAT</th>\n",
       "      <th>RM</th>\n",
       "      <th>MEDV</th>\n",
       "    </tr>\n",
       "  </thead>\n",
       "  <tbody>\n",
       "    <tr>\n",
       "      <td>0</td>\n",
       "      <td>4.98</td>\n",
       "      <td>6.575</td>\n",
       "      <td>24.0</td>\n",
       "    </tr>\n",
       "    <tr>\n",
       "      <td>1</td>\n",
       "      <td>9.14</td>\n",
       "      <td>6.421</td>\n",
       "      <td>21.6</td>\n",
       "    </tr>\n",
       "    <tr>\n",
       "      <td>2</td>\n",
       "      <td>4.03</td>\n",
       "      <td>7.185</td>\n",
       "      <td>34.7</td>\n",
       "    </tr>\n",
       "    <tr>\n",
       "      <td>3</td>\n",
       "      <td>2.94</td>\n",
       "      <td>6.998</td>\n",
       "      <td>33.4</td>\n",
       "    </tr>\n",
       "    <tr>\n",
       "      <td>4</td>\n",
       "      <td>5.33</td>\n",
       "      <td>7.147</td>\n",
       "      <td>36.2</td>\n",
       "    </tr>\n",
       "  </tbody>\n",
       "</table>\n",
       "</div>"
      ],
      "text/plain": [
       "   LSTAT     RM  MEDV\n",
       "0   4.98  6.575  24.0\n",
       "1   9.14  6.421  21.6\n",
       "2   4.03  7.185  34.7\n",
       "3   2.94  6.998  33.4\n",
       "4   5.33  7.147  36.2"
      ]
     },
     "execution_count": 111,
     "metadata": {},
     "output_type": "execute_result"
    }
   ],
   "source": [
    "df = df.loc[:, list(clmns) + ['MEDV']]\n",
    "df.head()"
   ]
  },
  {
   "cell_type": "markdown",
   "metadata": {},
   "source": [
    "## Create the regressor X matrix and regressand y matrix"
   ]
  },
  {
   "cell_type": "markdown",
   "metadata": {},
   "source": [
    "$ y = \\beta_{1} + \\beta_{2}X_{2} + \\beta_{3}X_3 + u_{i} $ <br/>"
   ]
  },
  {
   "cell_type": "code",
   "execution_count": 112,
   "metadata": {
    "ExecuteTime": {
     "end_time": "2020-03-05T15:00:34.717382Z",
     "start_time": "2020-03-05T15:00:34.711261Z"
    }
   },
   "outputs": [],
   "source": [
    "X = df.iloc[:, 0:2].values\n",
    "X = np.hstack((np.ones((X.shape[0], 1)), X))\n",
    "\n",
    "y = df.iloc[:, -1].values.reshape(-1, 1)"
   ]
  },
  {
   "cell_type": "code",
   "execution_count": 113,
   "metadata": {
    "ExecuteTime": {
     "end_time": "2020-03-05T15:00:34.722218Z",
     "start_time": "2020-03-05T15:00:34.718937Z"
    }
   },
   "outputs": [
    {
     "data": {
      "text/plain": [
       "array([[1.   , 4.98 , 6.575],\n",
       "       [1.   , 9.14 , 6.421],\n",
       "       [1.   , 4.03 , 7.185],\n",
       "       ...,\n",
       "       [1.   , 5.64 , 6.976],\n",
       "       [1.   , 6.48 , 6.794],\n",
       "       [1.   , 7.88 , 6.03 ]])"
      ]
     },
     "execution_count": 113,
     "metadata": {},
     "output_type": "execute_result"
    }
   ],
   "source": [
    "X"
   ]
  },
  {
   "cell_type": "code",
   "execution_count": 114,
   "metadata": {
    "ExecuteTime": {
     "end_time": "2020-03-05T15:00:34.738294Z",
     "start_time": "2020-03-05T15:00:34.724242Z"
    }
   },
   "outputs": [
    {
     "data": {
      "text/plain": [
       "((506, 3), (506, 1))"
      ]
     },
     "execution_count": 114,
     "metadata": {},
     "output_type": "execute_result"
    }
   ],
   "source": [
    "X.shape, y.shape"
   ]
  },
  {
   "cell_type": "code",
   "execution_count": 115,
   "metadata": {
    "ExecuteTime": {
     "end_time": "2020-03-05T15:00:34.743234Z",
     "start_time": "2020-03-05T15:00:34.739635Z"
    }
   },
   "outputs": [],
   "source": [
    "n, k = X.shape\n"
   ]
  },
  {
   "cell_type": "markdown",
   "metadata": {},
   "source": [
    "## Find the estimate of Beta"
   ]
  },
  {
   "cell_type": "code",
   "execution_count": 116,
   "metadata": {
    "ExecuteTime": {
     "end_time": "2020-03-05T15:00:34.776066Z",
     "start_time": "2020-03-05T15:00:34.773529Z"
    }
   },
   "outputs": [],
   "source": [
    "import numpy as np\n",
    "from numpy.linalg import inv"
   ]
  },
  {
   "cell_type": "code",
   "execution_count": 117,
   "metadata": {
    "ExecuteTime": {
     "end_time": "2020-03-05T15:00:34.786669Z",
     "start_time": "2020-03-05T15:00:34.777748Z"
    }
   },
   "outputs": [],
   "source": [
    "A = inv(X.T@X)"
   ]
  },
  {
   "cell_type": "code",
   "execution_count": 118,
   "metadata": {
    "ExecuteTime": {
     "end_time": "2020-03-05T15:00:34.793481Z",
     "start_time": "2020-03-05T15:00:34.788111Z"
    }
   },
   "outputs": [
    {
     "data": {
      "text/plain": [
       "array([[-1.35827281],\n",
       "       [-0.64235833],\n",
       "       [ 5.09478798]])"
      ]
     },
     "execution_count": 118,
     "metadata": {},
     "output_type": "execute_result"
    }
   ],
   "source": [
    "beta_hat = A@X.T@y\n",
    "beta_hat"
   ]
  },
  {
   "cell_type": "markdown",
   "metadata": {},
   "source": [
    "## Obtain the estimate of y (predicted y)"
   ]
  },
  {
   "cell_type": "code",
   "execution_count": 119,
   "metadata": {
    "ExecuteTime": {
     "end_time": "2020-03-05T15:00:34.817695Z",
     "start_time": "2020-03-05T15:00:34.815261Z"
    }
   },
   "outputs": [],
   "source": [
    "y_hat = X@beta_hat"
   ]
  },
  {
   "cell_type": "markdown",
   "metadata": {},
   "source": [
    "## Compute the residual sum of squares"
   ]
  },
  {
   "cell_type": "code",
   "execution_count": 120,
   "metadata": {
    "ExecuteTime": {
     "end_time": "2020-03-05T15:00:34.850441Z",
     "start_time": "2020-03-05T15:00:34.847615Z"
    }
   },
   "outputs": [],
   "source": [
    "u_hat = y - y_hat\n",
    "rss = (u_hat.T@ u_hat).ravel()[0]"
   ]
  },
  {
   "cell_type": "markdown",
   "metadata": {},
   "source": [
    "## Obtain the variance of beta_hat"
   ]
  },
  {
   "cell_type": "code",
   "execution_count": 121,
   "metadata": {
    "ExecuteTime": {
     "end_time": "2020-03-05T15:00:34.908431Z",
     "start_time": "2020-03-05T15:00:34.905250Z"
    }
   },
   "outputs": [],
   "source": [
    "beta_hat_var = (rss/(n-k))*(A)"
   ]
  },
  {
   "cell_type": "code",
   "execution_count": 122,
   "metadata": {
    "ExecuteTime": {
     "end_time": "2020-03-05T15:00:34.915177Z",
     "start_time": "2020-03-05T15:00:34.910521Z"
    }
   },
   "outputs": [
    {
     "data": {
      "text/plain": [
       "array([[ 1.00668361e+01, -9.91781334e-02, -1.39248641e+00],\n",
       "       [-9.91781334e-02,  1.91244101e-03,  1.19306696e-02],\n",
       "       [-1.39248641e+00,  1.19306696e-02,  1.97549581e-01]])"
      ]
     },
     "execution_count": 122,
     "metadata": {},
     "output_type": "execute_result"
    }
   ],
   "source": [
    "beta_hat_var"
   ]
  },
  {
   "cell_type": "markdown",
   "metadata": {},
   "source": [
    "## Create the regression table"
   ]
  },
  {
   "cell_type": "code",
   "execution_count": null,
   "metadata": {},
   "outputs": [],
   "source": []
  },
  {
   "cell_type": "markdown",
   "metadata": {},
   "source": [
    "## Create the table for hypothesis testing"
   ]
  },
  {
   "cell_type": "code",
   "execution_count": 123,
   "metadata": {
    "ExecuteTime": {
     "end_time": "2020-03-05T15:00:34.991211Z",
     "start_time": "2020-03-05T15:00:34.988513Z"
    }
   },
   "outputs": [],
   "source": [
    "from scipy.stats import t as tdist"
   ]
  },
  {
   "cell_type": "code",
   "execution_count": 124,
   "metadata": {
    "ExecuteTime": {
     "end_time": "2020-03-05T15:00:34.997781Z",
     "start_time": "2020-03-05T15:00:34.993202Z"
    }
   },
   "outputs": [],
   "source": [
    "beta_hat_stderr = np.diag(beta_hat_var)**(1/2)"
   ]
  },
  {
   "cell_type": "code",
   "execution_count": 125,
   "metadata": {
    "ExecuteTime": {
     "end_time": "2020-03-05T15:00:35.004078Z",
     "start_time": "2020-03-05T15:00:34.999616Z"
    }
   },
   "outputs": [
    {
     "data": {
      "text/plain": [
       "array([-1.35827281, -0.64235833,  5.09478798])"
      ]
     },
     "execution_count": 125,
     "metadata": {},
     "output_type": "execute_result"
    }
   ],
   "source": [
    "beta_hat.flatten()"
   ]
  },
  {
   "cell_type": "code",
   "execution_count": 126,
   "metadata": {
    "ExecuteTime": {
     "end_time": "2020-03-05T15:00:35.015395Z",
     "start_time": "2020-03-05T15:00:35.005633Z"
    }
   },
   "outputs": [
    {
     "data": {
      "text/plain": [
       "[array([-1.35827281, -0.64235833,  5.09478798]),\n",
       " array([3.17282778, 0.04373146, 0.4444655 ])]"
      ]
     },
     "execution_count": 126,
     "metadata": {},
     "output_type": "execute_result"
    }
   ],
   "source": [
    "[beta_hat.flatten(), beta_hat_stderr]"
   ]
  },
  {
   "cell_type": "code",
   "execution_count": 127,
   "metadata": {
    "ExecuteTime": {
     "end_time": "2020-03-05T15:00:35.022481Z",
     "start_time": "2020-03-05T15:00:35.016921Z"
    }
   },
   "outputs": [],
   "source": [
    "df_hyp = pd.DataFrame({'Estimate': beta_hat.flatten(),\n",
    "                       'Standard_error': beta_hat_stderr})\n",
    "\n",
    "df_hyp['t_statistic'] = df_hyp['Estimate']/df_hyp['Standard_error']"
   ]
  },
  {
   "cell_type": "code",
   "execution_count": 128,
   "metadata": {
    "ExecuteTime": {
     "end_time": "2020-03-05T15:00:35.033006Z",
     "start_time": "2020-03-05T15:00:35.024851Z"
    }
   },
   "outputs": [],
   "source": [
    "df_hyp['pval'] = tdist.cdf(-abs(df_hyp.t_statistic), n-k)*2"
   ]
  },
  {
   "cell_type": "code",
   "execution_count": 129,
   "metadata": {
    "ExecuteTime": {
     "end_time": "2020-03-05T15:00:35.046205Z",
     "start_time": "2020-03-05T15:00:35.035650Z"
    }
   },
   "outputs": [
    {
     "data": {
      "text/plain": [
       "1.9646914053628335"
      ]
     },
     "execution_count": 129,
     "metadata": {},
     "output_type": "execute_result"
    }
   ],
   "source": [
    "from scipy.stats import t as tdist\n",
    "\n",
    "critical_val = abs(tdist.ppf(q=[0.025], df=n-k))[0]\n",
    "critical_val"
   ]
  },
  {
   "cell_type": "code",
   "execution_count": 130,
   "metadata": {
    "ExecuteTime": {
     "end_time": "2020-03-05T15:00:35.061327Z",
     "start_time": "2020-03-05T15:00:35.047909Z"
    }
   },
   "outputs": [
    {
     "data": {
      "text/html": [
       "<div>\n",
       "<style scoped>\n",
       "    .dataframe tbody tr th:only-of-type {\n",
       "        vertical-align: middle;\n",
       "    }\n",
       "\n",
       "    .dataframe tbody tr th {\n",
       "        vertical-align: top;\n",
       "    }\n",
       "\n",
       "    .dataframe thead th {\n",
       "        text-align: right;\n",
       "    }\n",
       "</style>\n",
       "<table border=\"1\" class=\"dataframe\">\n",
       "  <thead>\n",
       "    <tr style=\"text-align: right;\">\n",
       "      <th></th>\n",
       "      <th>Estimate</th>\n",
       "      <th>Standard_error</th>\n",
       "      <th>t_statistic</th>\n",
       "      <th>pval</th>\n",
       "      <th>significant_0.05</th>\n",
       "    </tr>\n",
       "  </thead>\n",
       "  <tbody>\n",
       "    <tr>\n",
       "      <td>0</td>\n",
       "      <td>-1.358273</td>\n",
       "      <td>3.172828</td>\n",
       "      <td>-0.428095</td>\n",
       "      <td>6.687649e-01</td>\n",
       "      <td>False</td>\n",
       "    </tr>\n",
       "    <tr>\n",
       "      <td>1</td>\n",
       "      <td>-0.642358</td>\n",
       "      <td>0.043731</td>\n",
       "      <td>-14.688699</td>\n",
       "      <td>6.669365e-41</td>\n",
       "      <td>True</td>\n",
       "    </tr>\n",
       "    <tr>\n",
       "      <td>2</td>\n",
       "      <td>5.094788</td>\n",
       "      <td>0.444466</td>\n",
       "      <td>11.462730</td>\n",
       "      <td>3.472258e-27</td>\n",
       "      <td>True</td>\n",
       "    </tr>\n",
       "  </tbody>\n",
       "</table>\n",
       "</div>"
      ],
      "text/plain": [
       "   Estimate  Standard_error  t_statistic          pval  significant_0.05\n",
       "0 -1.358273        3.172828    -0.428095  6.687649e-01             False\n",
       "1 -0.642358        0.043731   -14.688699  6.669365e-41              True\n",
       "2  5.094788        0.444466    11.462730  3.472258e-27              True"
      ]
     },
     "execution_count": 130,
     "metadata": {},
     "output_type": "execute_result"
    }
   ],
   "source": [
    "df_hyp['significant_0.05'] = (abs(df_hyp['t_statistic']) > critical_val)\n",
    "df_hyp"
   ]
  },
  {
   "cell_type": "markdown",
   "metadata": {},
   "source": [
    "## Calculate TSS, ESS and RSS"
   ]
  },
  {
   "cell_type": "code",
   "execution_count": 131,
   "metadata": {
    "ExecuteTime": {
     "end_time": "2020-03-05T15:00:35.066828Z",
     "start_time": "2020-03-05T15:00:35.063485Z"
    }
   },
   "outputs": [],
   "source": [
    "tss = y.var()*y.size\n",
    "ess = tss - rss"
   ]
  },
  {
   "cell_type": "code",
   "execution_count": 132,
   "metadata": {
    "ExecuteTime": {
     "end_time": "2020-03-05T15:00:35.076990Z",
     "start_time": "2020-03-05T15:00:35.068544Z"
    }
   },
   "outputs": [
    {
     "name": "stdout",
     "output_type": "stream",
     "text": [
      "R squared: 0.6386\n",
      "R squared (Adjusted): 0.6371\n"
     ]
    }
   ],
   "source": [
    "R_sq = (ess/tss)\n",
    "R_sq_adj = (1 - (rss/(n-k))/(tss/(n-1)))\n",
    "\n",
    "print('R squared: {:.4f}'.format(R_sq))\n",
    "print('R squared (Adjusted): {:.4f}'.format(R_sq_adj))"
   ]
  },
  {
   "cell_type": "markdown",
   "metadata": {},
   "source": [
    "# "
   ]
  },
  {
   "cell_type": "markdown",
   "metadata": {},
   "source": [
    "## Make the LinearRegression Model"
   ]
  },
  {
   "cell_type": "code",
   "execution_count": 133,
   "metadata": {
    "ExecuteTime": {
     "end_time": "2020-03-05T15:00:35.149972Z",
     "start_time": "2020-03-05T15:00:35.147343Z"
    }
   },
   "outputs": [],
   "source": [
    "from sklearn.base import BaseEstimator, ClassifierMixin"
   ]
  },
  {
   "cell_type": "code",
   "execution_count": 195,
   "metadata": {
    "ExecuteTime": {
     "end_time": "2020-03-05T15:17:53.568130Z",
     "start_time": "2020-03-05T15:17:53.539613Z"
    }
   },
   "outputs": [],
   "source": [
    "class LinearReg(BaseEstimator, ClassifierMixin):\n",
    "    \n",
    "    def __init__(self, fit_intercept=True):\n",
    "        self.fit_intercept = fit_intercept\n",
    "    \n",
    "    @staticmethod\n",
    "    def _remake_X(X):\n",
    "        if not np.all(X == 0):\n",
    "            return np.hstack((np.ones((X.shape[0], 1)), X))\n",
    "        else:\n",
    "            return np.ones((X.shape[0], 1))\n",
    "\n",
    "    @staticmethod\n",
    "    def _remake_y(y):\n",
    "        return y.reshape(-1, 1) # Check before reshaping?\n",
    "\n",
    "    \n",
    "    def fit(self, X, y):\n",
    "        \n",
    "        # Make proper X and y matrix\n",
    "        if self.fit_intercept:\n",
    "            if X is not None:\n",
    "                X = self._remake_X(X)\n",
    "            else:\n",
    "                X = np.ones((y.shape[0], 1))\n",
    "            \n",
    "        y = self._remake_y(y)\n",
    "        \n",
    "        # Store n and k\n",
    "        n, k = X.shape\n",
    "        \n",
    "        # Obtain estimate of beta =  beta_hat\n",
    "        try:\n",
    "            A = inv(X.T@X)\n",
    "        except np.linalg.LinAlgError:\n",
    "            A = np.zeros([X.shape[1]]*2)\n",
    "            \n",
    "        beta_hat = A@X.T@y\n",
    "        \n",
    "        # Obtain estimate of y = y_hat\n",
    "        y_hat = X@beta_hat\n",
    "        \n",
    "        # Compute residual sum of squares\n",
    "        u_hat = y - y_hat\n",
    "        rss = (u_hat.T @ u_hat).ravel()[0]\n",
    "        \n",
    "        # Estimate the variance of beta_hat\n",
    "        beta_hat_var = (rss/(n-k))*A\n",
    "        \n",
    "        # Calculate tss, ess and rss\n",
    "        tss = y.var()*n\n",
    "        ess = tss - rss\n",
    "        \n",
    "        # Calculate R-squared and Adjusted R-squared\n",
    "        rsq = ess/tss\n",
    "        rsq_adj = 1 - (rss/(n-k))/(tss/(n-1))\n",
    "        \n",
    "        # Perform F-test for overall significance\n",
    "        if k != 1:\n",
    "            dfn, dfd = k-1, n-k\n",
    "            self.fstat = (ess/(dfn))/(rss/(dfd))\n",
    "            self.ftest_pval =  1 - fdist.cdf(self.fstat, dfn, dfd)\n",
    "\n",
    "        # store\n",
    "        self.n = n\n",
    "        self.k = k\n",
    "        self.beta_hat = beta_hat\n",
    "        self.rss = rss\n",
    "        self.ess = ess\n",
    "        self.tss = tss\n",
    "        self.beta_hat_var = beta_hat_var\n",
    "        self.u_hat = u_hat\n",
    "        self.rsq = rsq\n",
    "        self.rsq_adj = rsq_adj\n",
    "        self.aic = rss/n + 2*k/n\n",
    "        self.bic = rss/n + 2*k*np.log(n)/n\n",
    "\n",
    "        return self\n",
    "    \n",
    "        \n",
    "    def predict(self, X):\n",
    "        X = self._remake_X(X)\n",
    "        return X@self.beta_hat\n",
    "    \n",
    "    def predict_interval(self, X):\n",
    "        raise NotImplementedError('This feature is not implemented yet!')\n",
    "        \n",
    "    \n",
    "    def score(self, X, y):\n",
    "        lm = LinearReg(self.fit_intercept)\n",
    "        lm.fit(X, y)\n",
    "        return lm.rsq_adj\n",
    "    "
   ]
  },
  {
   "cell_type": "code",
   "execution_count": 196,
   "metadata": {
    "ExecuteTime": {
     "end_time": "2020-03-05T15:17:54.194933Z",
     "start_time": "2020-03-05T15:17:54.182543Z"
    }
   },
   "outputs": [],
   "source": [
    "X = df.iloc[:, 0:2].values\n",
    "y = df.iloc[:, -1].values.reshape(-1, 1)"
   ]
  },
  {
   "cell_type": "code",
   "execution_count": 197,
   "metadata": {
    "ExecuteTime": {
     "end_time": "2020-03-05T15:17:54.437529Z",
     "start_time": "2020-03-05T15:17:54.424037Z"
    }
   },
   "outputs": [
    {
     "data": {
      "text/plain": [
       "LinearReg(fit_intercept=True)"
      ]
     },
     "execution_count": 197,
     "metadata": {},
     "output_type": "execute_result"
    }
   ],
   "source": [
    "lm = LinearReg()\n",
    "lm.fit(X, y)"
   ]
  },
  {
   "cell_type": "code",
   "execution_count": 198,
   "metadata": {
    "ExecuteTime": {
     "end_time": "2020-03-05T15:17:54.629685Z",
     "start_time": "2020-03-05T15:17:54.617842Z"
    }
   },
   "outputs": [
    {
     "data": {
      "text/plain": [
       "0.6371244754701231"
      ]
     },
     "execution_count": 198,
     "metadata": {},
     "output_type": "execute_result"
    }
   ],
   "source": [
    "lm.score(X, y)"
   ]
  },
  {
   "cell_type": "code",
   "execution_count": 199,
   "metadata": {
    "ExecuteTime": {
     "end_time": "2020-03-05T15:17:54.754184Z",
     "start_time": "2020-03-05T15:17:54.751940Z"
    }
   },
   "outputs": [],
   "source": [
    "from sklearn.model_selection import cross_val_score"
   ]
  },
  {
   "cell_type": "code",
   "execution_count": 200,
   "metadata": {
    "ExecuteTime": {
     "end_time": "2020-03-05T15:17:55.000320Z",
     "start_time": "2020-03-05T15:17:54.958603Z"
    }
   },
   "outputs": [
    {
     "data": {
      "text/plain": [
       "array([11.78879381, 28.97215949, 47.84395882, 71.77053822, 36.6099291 ])"
      ]
     },
     "execution_count": 200,
     "metadata": {},
     "output_type": "execute_result"
    }
   ],
   "source": [
    "-cross_val_score(lm, X, y, scoring=\"neg_mean_squared_error\")"
   ]
  },
  {
   "cell_type": "code",
   "execution_count": 201,
   "metadata": {
    "ExecuteTime": {
     "end_time": "2020-03-05T15:17:55.094260Z",
     "start_time": "2020-03-05T15:17:55.079516Z"
    }
   },
   "outputs": [
    {
     "data": {
      "text/plain": [
       "array([11.78879381, 28.97215949, 47.84395882, 71.77053822, 36.6099291 ])"
      ]
     },
     "execution_count": 201,
     "metadata": {},
     "output_type": "execute_result"
    }
   ],
   "source": [
    "from sklearn.linear_model import LinearRegression\n",
    "lm_sk = LinearRegression()\n",
    "\n",
    "-cross_val_score(lm_sk, X, y, scoring=\"neg_mean_squared_error\")"
   ]
  },
  {
   "cell_type": "code",
   "execution_count": 202,
   "metadata": {
    "ExecuteTime": {
     "end_time": "2020-03-05T15:17:55.660087Z",
     "start_time": "2020-03-05T15:17:55.602241Z"
    }
   },
   "outputs": [
    {
     "data": {
      "text/plain": [
       "array([ 0.66158301,  0.64905012, -1.51946963,  0.49331255,  0.59340312,\n",
       "        0.47386502, -0.17695506,  0.05396455, -1.77172578,  0.21261084])"
      ]
     },
     "execution_count": 202,
     "metadata": {},
     "output_type": "execute_result"
    }
   ],
   "source": [
    "cross_val_score(lm_sk, X, y, cv=10) # Which default scoring metric does this use?"
   ]
  },
  {
   "cell_type": "markdown",
   "metadata": {},
   "source": [
    "## Joint Hypothesis\n",
    "\n",
    "$ H_{0}: \\beta_{2} +\\beta_{3} = 0$ <br/>\n",
    "$ H_{1}: \\beta_{2} +\\beta_{3} \\neq 0$"
   ]
  },
  {
   "cell_type": "code",
   "execution_count": 203,
   "metadata": {
    "ExecuteTime": {
     "end_time": "2020-03-05T15:17:55.747296Z",
     "start_time": "2020-03-05T15:17:55.744642Z"
    }
   },
   "outputs": [],
   "source": [
    "lm = LinearReg()"
   ]
  },
  {
   "cell_type": "code",
   "execution_count": 204,
   "metadata": {
    "ExecuteTime": {
     "end_time": "2020-03-05T15:17:55.784537Z",
     "start_time": "2020-03-05T15:17:55.780634Z"
    }
   },
   "outputs": [],
   "source": [
    "# Unrestricted residual sum of squares\n",
    "urss = lm.fit(X, y).rss"
   ]
  },
  {
   "cell_type": "code",
   "execution_count": 205,
   "metadata": {
    "ExecuteTime": {
     "end_time": "2020-03-05T15:17:55.824292Z",
     "start_time": "2020-03-05T15:17:55.817498Z"
    }
   },
   "outputs": [
    {
     "data": {
      "text/plain": [
       "(506, 2)"
      ]
     },
     "execution_count": 205,
     "metadata": {},
     "output_type": "execute_result"
    }
   ],
   "source": [
    "X.shape"
   ]
  },
  {
   "cell_type": "code",
   "execution_count": 206,
   "metadata": {
    "ExecuteTime": {
     "end_time": "2020-03-05T15:17:55.862522Z",
     "start_time": "2020-03-05T15:17:55.857992Z"
    }
   },
   "outputs": [],
   "source": [
    "X_star = (X[:, 0] - X[:, 1]).reshape(-1, 1)\n",
    "y_star = y - X[:, 1].reshape(-1, 1)"
   ]
  },
  {
   "cell_type": "code",
   "execution_count": 207,
   "metadata": {
    "ExecuteTime": {
     "end_time": "2020-03-05T15:17:55.909797Z",
     "start_time": "2020-03-05T15:17:55.901559Z"
    }
   },
   "outputs": [
    {
     "name": "stdout",
     "output_type": "stream",
     "text": [
      "F statistic: 53.47836\n",
      "Critical value: 3.85998\n"
     ]
    }
   ],
   "source": [
    "# Restricted residual sum of squares\n",
    "rrss = lm.fit(X_star, y_star).rss\n",
    "\n",
    "num_restr = X_star.shape[1]\n",
    "n = X.shape[0]\n",
    "k = X.shape[1]\n",
    "F_stat = ((rrss - urss)/num_restr)/(urss/(n-k))\n",
    "\n",
    "print('F statistic: {:.5f}'.format(F_stat))\n",
    "print('Critical value: {:.5f}'.format(fdist.ppf(1 - 0.05, num_restr, n-k)))"
   ]
  },
  {
   "cell_type": "code",
   "execution_count": 208,
   "metadata": {
    "ExecuteTime": {
     "end_time": "2020-03-05T15:17:55.977319Z",
     "start_time": "2020-03-05T15:17:55.970485Z"
    }
   },
   "outputs": [],
   "source": [
    "class IncompatibleLinearModelError(Exception):\n",
    "    pass\n",
    "\n",
    "def Ftest_LinearReg(lm1: LinearReg, lm2: LinearReg, sig):\n",
    "    '''Perform the Ftest for two linear model fits of class LinearReg\n",
    "    \n",
    "    The restricted and unrestricted models are automatically assigned\n",
    "    by accessing the k attribute of lm1 and lm2.\n",
    "    \n",
    "    Parameters\n",
    "    ----------\n",
    "    \n",
    "    lm1, lm2: LinearReg\n",
    "        fitted models of class LinearReg\n",
    "        \n",
    "    sig: int, optional (default=0.05)\n",
    "        the significance level of the test\n",
    "        \n",
    "    Return -> True if the test is significant\n",
    "    \n",
    "    '''\n",
    "    if (lm1.n == lm2.n) and (lm1.k != lm2.k): # NOTE: Python 3.8 assign n to a var \n",
    "        n = lm1.n\n",
    "    else:\n",
    "        raise(IncompatibleLinearModelError(\n",
    "            'The linear models were fitted on datasets with varying observations')\n",
    "             )\n",
    "    \n",
    "    lms = [lm1, lm2]\n",
    "    r = np.argmin([lm.k for lm in lms])\n",
    "    ur = [i for i in range(len(lms)) if i != r][0]\n",
    "    \n",
    "    lm_r, lm_ur = lms[r], lms[ur]\n",
    "    \n",
    "    rrss, urss = lm_r.rss, lm_ur.rss\n",
    "    dfn = lm_ur.k - lm_r.k\n",
    "    dfd = n - lm_ur.k\n",
    "    \n",
    "    F_stat = ((rrss - urss)/dfn)/(urss/dfd)\n",
    "    critical_val = fdist.ppf(1 - sig, dfn, dfd)\n",
    "    pval = 1 - fdist.cdf(F_stat, dfn, dfd)\n",
    "    \n",
    "    print('F statistic: {:.4f} with dfn: {}, and dfd: {}'.format(F_stat, dfn, dfd))\n",
    "    print('Critical value: {:.4f}'.format(critical_val))\n",
    "    print('p-value: {:.4f}'.format(pval))\n",
    "    \n",
    "    if F_stat > critical_val:\n",
    "        return True\n",
    "    \n",
    "    return False"
   ]
  },
  {
   "cell_type": "code",
   "execution_count": 209,
   "metadata": {
    "ExecuteTime": {
     "end_time": "2020-03-05T15:17:56.016546Z",
     "start_time": "2020-03-05T15:17:56.008027Z"
    }
   },
   "outputs": [
    {
     "name": "stdout",
     "output_type": "stream",
     "text": [
      "F statistic: 53.3723 with dfn: 1, and dfd: 503\n",
      "Critical value: 3.8600\n",
      "p-value: 0.0000\n"
     ]
    },
    {
     "data": {
      "text/plain": [
       "True"
      ]
     },
     "execution_count": 209,
     "metadata": {},
     "output_type": "execute_result"
    }
   ],
   "source": [
    "lm_r = LinearReg().fit(X, y)\n",
    "lm_ur = LinearReg().fit(X_star, y_star)\n",
    "Ftest_LinearReg(lm_r, lm_ur, 0.05)"
   ]
  },
  {
   "cell_type": "markdown",
   "metadata": {},
   "source": [
    "Now let's do something that might make us **NOT** reject the null hypothesis."
   ]
  },
  {
   "cell_type": "code",
   "execution_count": 210,
   "metadata": {
    "ExecuteTime": {
     "end_time": "2020-03-05T15:17:56.109014Z",
     "start_time": "2020-03-05T15:17:56.102786Z"
    }
   },
   "outputs": [
    {
     "data": {
      "text/plain": [
       "array([4.45242965])"
      ]
     },
     "execution_count": 210,
     "metadata": {},
     "output_type": "execute_result"
    }
   ],
   "source": [
    "lm.fit(X, y)\n",
    "beta_hat = lm.beta_hat\n",
    "beta_hat[1] + beta_hat[2]"
   ]
  },
  {
   "cell_type": "markdown",
   "metadata": {},
   "source": [
    "$ H_{0}: \\beta_{2} +\\beta_{3} = 4.47$ <br/>\n",
    "$ H_{1}: \\beta_{2} +\\beta_{3} \\neq 4.47$"
   ]
  },
  {
   "cell_type": "code",
   "execution_count": 211,
   "metadata": {
    "ExecuteTime": {
     "end_time": "2020-03-05T15:17:56.197094Z",
     "start_time": "2020-03-05T15:17:56.194200Z"
    }
   },
   "outputs": [],
   "source": [
    "X_star = (X[:, 0] - X[:, 1]).reshape(-1, 1)\n",
    "y_star = y - 4.47*X[:, 1].reshape(-1, 1)"
   ]
  },
  {
   "cell_type": "code",
   "execution_count": 212,
   "metadata": {
    "ExecuteTime": {
     "end_time": "2020-03-05T15:17:56.249486Z",
     "start_time": "2020-03-05T15:17:56.243928Z"
    }
   },
   "outputs": [],
   "source": [
    "lm_ur = LinearReg().fit(X, y)\n",
    "lm_r = LinearReg().fit(X_star, y_star)"
   ]
  },
  {
   "cell_type": "code",
   "execution_count": 213,
   "metadata": {
    "ExecuteTime": {
     "end_time": "2020-03-05T15:17:56.284207Z",
     "start_time": "2020-03-05T15:17:56.279561Z"
    }
   },
   "outputs": [
    {
     "name": "stdout",
     "output_type": "stream",
     "text": [
      "F statistic: 0.0014 with dfn: 1, and dfd: 503\n",
      "Critical value: 3.8600\n",
      "p-value: 0.9704\n"
     ]
    },
    {
     "data": {
      "text/plain": [
       "False"
      ]
     },
     "execution_count": 213,
     "metadata": {},
     "output_type": "execute_result"
    }
   ],
   "source": [
    "Ftest_LinearReg(lm_ur, lm_r, 0.05)"
   ]
  },
  {
   "cell_type": "markdown",
   "metadata": {},
   "source": [
    "Let's check if the pvalue from the F-test matches with the t-test for the intercept case <br/>\n",
    "$ H_{0}: \\beta_{1} = 0$ <br/>\n",
    "$ H_{1}: \\beta_{1} \\neq 0$"
   ]
  },
  {
   "cell_type": "code",
   "execution_count": 214,
   "metadata": {
    "ExecuteTime": {
     "end_time": "2020-03-05T15:17:56.378026Z",
     "start_time": "2020-03-05T15:17:56.372132Z"
    }
   },
   "outputs": [
    {
     "name": "stdout",
     "output_type": "stream",
     "text": [
      "F statistic: 0.1833 with dfn: 1, and dfd: 503\n",
      "Critical value: 3.8600\n",
      "p-value: 0.6688\n"
     ]
    },
    {
     "data": {
      "text/plain": [
       "False"
      ]
     },
     "execution_count": 214,
     "metadata": {},
     "output_type": "execute_result"
    }
   ],
   "source": [
    "lm_r = LinearReg(fit_intercept=False).fit(X, y)\n",
    "lm_ur = LinearReg(fit_intercept=True).fit(X, y)\n",
    "\n",
    "Ftest_LinearReg(lm_r, lm_ur, 0.05)"
   ]
  },
  {
   "cell_type": "markdown",
   "metadata": {},
   "source": [
    "And Voila! it matches :D"
   ]
  },
  {
   "cell_type": "code",
   "execution_count": 215,
   "metadata": {
    "ExecuteTime": {
     "end_time": "2020-03-05T15:17:56.467055Z",
     "start_time": "2020-03-05T15:17:56.459971Z"
    }
   },
   "outputs": [
    {
     "data": {
      "text/html": [
       "<div>\n",
       "<style scoped>\n",
       "    .dataframe tbody tr th:only-of-type {\n",
       "        vertical-align: middle;\n",
       "    }\n",
       "\n",
       "    .dataframe tbody tr th {\n",
       "        vertical-align: top;\n",
       "    }\n",
       "\n",
       "    .dataframe thead th {\n",
       "        text-align: right;\n",
       "    }\n",
       "</style>\n",
       "<table border=\"1\" class=\"dataframe\">\n",
       "  <thead>\n",
       "    <tr style=\"text-align: right;\">\n",
       "      <th></th>\n",
       "      <th>Estimate</th>\n",
       "      <th>Standard_error</th>\n",
       "      <th>t_statistic</th>\n",
       "      <th>pval</th>\n",
       "      <th>significant_0.05</th>\n",
       "    </tr>\n",
       "  </thead>\n",
       "  <tbody>\n",
       "    <tr>\n",
       "      <td>0</td>\n",
       "      <td>-1.358273</td>\n",
       "      <td>3.172828</td>\n",
       "      <td>-0.428095</td>\n",
       "      <td>6.687649e-01</td>\n",
       "      <td>False</td>\n",
       "    </tr>\n",
       "    <tr>\n",
       "      <td>1</td>\n",
       "      <td>-0.642358</td>\n",
       "      <td>0.043731</td>\n",
       "      <td>-14.688699</td>\n",
       "      <td>6.669365e-41</td>\n",
       "      <td>True</td>\n",
       "    </tr>\n",
       "    <tr>\n",
       "      <td>2</td>\n",
       "      <td>5.094788</td>\n",
       "      <td>0.444466</td>\n",
       "      <td>11.462730</td>\n",
       "      <td>3.472258e-27</td>\n",
       "      <td>True</td>\n",
       "    </tr>\n",
       "  </tbody>\n",
       "</table>\n",
       "</div>"
      ],
      "text/plain": [
       "   Estimate  Standard_error  t_statistic          pval  significant_0.05\n",
       "0 -1.358273        3.172828    -0.428095  6.687649e-01             False\n",
       "1 -0.642358        0.043731   -14.688699  6.669365e-41              True\n",
       "2  5.094788        0.444466    11.462730  3.472258e-27              True"
      ]
     },
     "execution_count": 215,
     "metadata": {},
     "output_type": "execute_result"
    }
   ],
   "source": [
    "df_hyp"
   ]
  },
  {
   "cell_type": "markdown",
   "metadata": {},
   "source": [
    "## Test for Heteroskedasticity"
   ]
  },
  {
   "cell_type": "markdown",
   "metadata": {},
   "source": [
    "### Breush-Pagan test"
   ]
  },
  {
   "cell_type": "markdown",
   "metadata": {},
   "source": [
    "$u_{i}^{2} = \\alpha_{1} + \\alpha_{2}X_{2} + \\alpha_{3}X_{3} + e_{i}$"
   ]
  },
  {
   "cell_type": "markdown",
   "metadata": {},
   "source": [
    "$H_{0}: \\alpha_{2} = \\alpha_{3} = 0$ <br />\n",
    "$H_{1}: atleast \\ one \\ \\alpha_{i} \\neq 0  \\ \\forall \\ i = 1, 2, ...k$"
   ]
  },
  {
   "cell_type": "code",
   "execution_count": 216,
   "metadata": {
    "ExecuteTime": {
     "end_time": "2020-03-05T15:17:57.524397Z",
     "start_time": "2020-03-05T15:17:57.516830Z"
    }
   },
   "outputs": [],
   "source": [
    "lm = LinearReg().fit(X, y)\n",
    "\n",
    "# residual\n",
    "res = y - lm.predict(X)\n",
    "assert((res**2).sum() == lm.rss)\n",
    "\n",
    "# residual squared\n",
    "res_sq = res**2\n",
    "\n",
    "# Null Hypothesis\n",
    "X_H0 = None\n",
    "lm_H0 = LinearReg().fit(X_H0, res_sq)\n",
    "\n",
    "# Alternate Hypothesis\n",
    "# Now regress the res_sq on X\n",
    "lm_H1 = LinearReg().fit(X, res_sq)"
   ]
  },
  {
   "cell_type": "code",
   "execution_count": 217,
   "metadata": {
    "ExecuteTime": {
     "end_time": "2020-03-05T15:17:57.719613Z",
     "start_time": "2020-03-05T15:17:57.712526Z"
    }
   },
   "outputs": [
    {
     "data": {
      "text/plain": [
       "LinearReg(fit_intercept=True)"
      ]
     },
     "execution_count": 217,
     "metadata": {},
     "output_type": "execute_result"
    }
   ],
   "source": [
    "lm_H0"
   ]
  },
  {
   "cell_type": "code",
   "execution_count": 218,
   "metadata": {
    "ExecuteTime": {
     "end_time": "2020-03-05T15:17:57.923984Z",
     "start_time": "2020-03-05T15:17:57.912686Z"
    }
   },
   "outputs": [
    {
     "name": "stdout",
     "output_type": "stream",
     "text": [
      "F statistic: 0.7626 with dfn: 2, and dfd: 503\n",
      "Critical value: 3.0136\n",
      "p-value: 0.4670\n"
     ]
    },
    {
     "data": {
      "text/plain": [
       "False"
      ]
     },
     "execution_count": 218,
     "metadata": {},
     "output_type": "execute_result"
    }
   ],
   "source": [
    "Ftest_LinearReg(lm_H0, lm_H1, 0.05)"
   ]
  },
  {
   "cell_type": "code",
   "execution_count": 219,
   "metadata": {
    "ExecuteTime": {
     "end_time": "2020-03-05T15:17:58.439351Z",
     "start_time": "2020-03-05T15:17:58.429862Z"
    }
   },
   "outputs": [],
   "source": [
    "def breusch_pagan(X: np.array, y: np.array, sig):\n",
    "    ''' Breush Pagan test for heteroskedasticity\n",
    "    \n",
    "    Parameters\n",
    "    ----------\n",
    "    X: np.array\n",
    "        Regressor matrix\n",
    "    \n",
    "    y: np.array\n",
    "        Regressand matrix\n",
    "        \n",
    "    '''\n",
    "    lm = LinearReg().fit(X, y)\n",
    "\n",
    "    # residual\n",
    "    res = y - lm.predict(X)\n",
    "\n",
    "    # residual squared\n",
    "    res_sq = res**2\n",
    "\n",
    "    # Null Hypothesis\n",
    "    lm_H0 = LinearReg().fit(None, res_sq)\n",
    "\n",
    "    # Alternate Hypothesis\n",
    "    # Now regress the res_sq on X\n",
    "    lm_H1 = LinearReg().fit(X, res_sq)\n",
    "    \n",
    "    return(Ftest_LinearReg(lm_H0, lm_H1, sig))"
   ]
  },
  {
   "cell_type": "code",
   "execution_count": 220,
   "metadata": {
    "ExecuteTime": {
     "end_time": "2020-03-05T15:17:58.750749Z",
     "start_time": "2020-03-05T15:17:58.745547Z"
    }
   },
   "outputs": [],
   "source": [
    "# Refer: t.ly/gr9v6 This one uses a chisq statistic\n",
    "def breusch_pagan2(X, y, sig):\n",
    "    ''' Breush Pagan test for heteroskedasticity\n",
    "    \n",
    "    Parameters\n",
    "    ----------\n",
    "    X: np.array\n",
    "        Regressor matrix\n",
    "    \n",
    "    y: np.array\n",
    "        Regressand matrix\n",
    "        \n",
    "    '''\n",
    "    \n",
    "    lm = LinearReg().fit(X, y)\n",
    "\n",
    "    # residual\n",
    "    res = y - lm.predict(X)\n",
    "\n",
    "    # residual squared\n",
    "    res_sq = res**2\n",
    "\n",
    "    # Alternate Hypothesis\n",
    "    lm_H1 = LinearReg().fit(X, res_sq)\n",
    "    k = lm_H1.k\n",
    "    rsq = lm_H1.rsq\n",
    "    n = lm_H1.n\n",
    "    \n",
    "    # n*Rsq is chisq distributed with k-1 df\n",
    "    chisq_stat = n*rsq\n",
    "    df = k-1\n",
    "    pval = 1 - chisq.cdf(chisq_stat, df)\n",
    "    critical_val = chisq.ppf(1- sig, df)\n",
    "    \n",
    "    print('Chisq statistic: {:.4f} with df: {}'.format(chisq_stat, k-1))\n",
    "    print('Critical value: {:4f}'.format(critical_val))\n",
    "    print('pval: {:4f}'.format(pval))\n",
    "    \n",
    "    if chisq_stat > critical_val:\n",
    "        return True\n",
    "    \n",
    "    return(False)"
   ]
  },
  {
   "cell_type": "code",
   "execution_count": 221,
   "metadata": {
    "ExecuteTime": {
     "end_time": "2020-03-05T15:17:58.955360Z",
     "start_time": "2020-03-05T15:17:58.945754Z"
    }
   },
   "outputs": [
    {
     "name": "stdout",
     "output_type": "stream",
     "text": [
      "F statistic: 0.7626 with dfn: 2, and dfd: 503\n",
      "Critical value: 3.0136\n",
      "p-value: 0.4670\n"
     ]
    },
    {
     "data": {
      "text/plain": [
       "False"
      ]
     },
     "execution_count": 221,
     "metadata": {},
     "output_type": "execute_result"
    }
   ],
   "source": [
    "breusch_pagan(X, y, 0.05)"
   ]
  },
  {
   "cell_type": "code",
   "execution_count": 222,
   "metadata": {
    "ExecuteTime": {
     "end_time": "2020-03-05T15:17:59.344520Z",
     "start_time": "2020-03-05T15:17:59.333400Z"
    }
   },
   "outputs": [
    {
     "name": "stdout",
     "output_type": "stream",
     "text": [
      "Chisq statistic: 1.5297 with df: 2\n",
      "Critical value: 5.991465\n",
      "pval: 0.465394\n"
     ]
    },
    {
     "data": {
      "text/plain": [
       "False"
      ]
     },
     "execution_count": 222,
     "metadata": {},
     "output_type": "execute_result"
    }
   ],
   "source": [
    "breusch_pagan2(X, y, 0.05)"
   ]
  },
  {
   "cell_type": "markdown",
   "metadata": {},
   "source": [
    "## Rectifying Heteroskedasticity\n",
    "\n",
    "Doubts: <br/>\n",
    "1. "
   ]
  },
  {
   "cell_type": "code",
   "execution_count": 229,
   "metadata": {
    "ExecuteTime": {
     "end_time": "2020-03-05T15:19:53.039529Z",
     "start_time": "2020-03-05T15:19:53.030766Z"
    }
   },
   "outputs": [],
   "source": [
    "z_hat = lm_H1.predict(X)"
   ]
  },
  {
   "cell_type": "code",
   "execution_count": 230,
   "metadata": {
    "ExecuteTime": {
     "end_time": "2020-03-05T15:19:53.430034Z",
     "start_time": "2020-03-05T15:19:53.419981Z"
    }
   },
   "outputs": [],
   "source": [
    "X_star = LinearReg._remake_X(X)/(z_hat)**(1/2)\n",
    "y_star = y/(z_hat)**(1/2)\n",
    "lm_hk = LinearReg(fit_intercept=False).fit(X_star, y_star)"
   ]
  },
  {
   "cell_type": "code",
   "execution_count": 231,
   "metadata": {
    "ExecuteTime": {
     "end_time": "2020-03-05T15:19:54.140390Z",
     "start_time": "2020-03-05T15:19:54.125964Z"
    }
   },
   "outputs": [
    {
     "data": {
      "text/plain": [
       "527.7243770112633"
      ]
     },
     "execution_count": 231,
     "metadata": {},
     "output_type": "execute_result"
    }
   ],
   "source": [
    "# Significantly reduced rss but this may be overfit\n",
    "lm_hk.rss"
   ]
  },
  {
   "cell_type": "code",
   "execution_count": 232,
   "metadata": {
    "ExecuteTime": {
     "end_time": "2020-03-05T15:19:54.912992Z",
     "start_time": "2020-03-05T15:19:54.894391Z"
    }
   },
   "outputs": [
    {
     "data": {
      "text/plain": [
       "15439.30920131353"
      ]
     },
     "execution_count": 232,
     "metadata": {},
     "output_type": "execute_result"
    }
   ],
   "source": [
    "lm = LinearReg().fit(X, y)\n",
    "lm.rss"
   ]
  },
  {
   "cell_type": "code",
   "execution_count": null,
   "metadata": {},
   "outputs": [],
   "source": []
  }
 ],
 "metadata": {
  "kernelspec": {
   "display_name": "Python 3",
   "language": "python",
   "name": "python3"
  },
  "language_info": {
   "codemirror_mode": {
    "name": "ipython",
    "version": 3
   },
   "file_extension": ".py",
   "mimetype": "text/x-python",
   "name": "python",
   "nbconvert_exporter": "python",
   "pygments_lexer": "ipython3",
   "version": "3.7.4"
  },
  "toc": {
   "base_numbering": 1,
   "nav_menu": {},
   "number_sections": true,
   "sideBar": true,
   "skip_h1_title": false,
   "title_cell": "Table of Contents",
   "title_sidebar": "Contents",
   "toc_cell": false,
   "toc_position": {},
   "toc_section_display": true,
   "toc_window_display": false
  }
 },
 "nbformat": 4,
 "nbformat_minor": 4
}
